{
 "cells": [
  {
   "cell_type": "code",
   "execution_count": 14,
   "metadata": {},
   "outputs": [],
   "source": [
    "# %matplotlib inline\n",
    "%matplotlib tk"
   ]
  },
  {
   "cell_type": "markdown",
   "metadata": {},
   "source": [
    "Perturbative Gadgets for Variational Quantum Algorithms  \n",
    "==========================================\n",
    "\n",
    "*Author: Simon Cichy*"
   ]
  },
  {
   "cell_type": "markdown",
   "metadata": {},
   "source": [
    "In this tutorial, we will explore the application of perturbative gadgets in \n",
    "variational quantum algorithms to outgo the issue of cost function dependent\n",
    "barren plateaus, as proposed in Ref.[1]"
   ]
  },
  {
   "cell_type": "markdown",
   "metadata": {},
   "source": [
    "Some context\n",
    "---------------------------\n",
    "\n",
    "If you are not familiar yet with the concept of barren plateaus, I recomend you\n",
    "first check out these other tutorials: \n",
    "- https://pennylane.ai/qml/demos/tutorial_barren_plateaus.html\n",
    "- https://pennylane.ai/qml/demos/tutorial_local_cost_functions.html  \n",
    "\n",
    "As presented in the second, barren plateaus are more severe when using global\n",
    "cost functions compared to local ones. \n",
    "We want to explore this topic further and learn about one possible mitigation\n",
    "strategy.  \n",
    "Thinking about VQE applications, let us consider cost functions that are \n",
    "expectation values of Hamiltonians like\n",
    "$$ C = \\operatorname{Tr} \\left[ H V(\\theta) |00\\ldots 0\\rangle \\langle 00\\ldots 0| V(\\theta)^\\dagger\\right]. $$\n",
    "As you will see later, that is easy to do using the\n",
    "<a href=\"https://pennylane.readthedocs.io/en/stable/code/api/pennylane.ExpvalCost.html\">qml.ExpvalCost</a> \n",
    "class.  \n",
    "In some cases, it is easy to find a local cost function to substitute a global\n",
    "one, which still has the same ground state. \n",
    "For instance, one can verify that the local cost function built from \n",
    "$$ H_L = \\mathbb{I} - \\frac{1}{n} \\sum_j |0\\rangle \\langle 0|_j $$\n",
    "has the same ground state as the global one\n",
    "$$ H_G = \\mathbb{I} - |00\\ldots 0\\rangle \\langle 00\\ldots 0|  $$\n",
    "and that is \n",
    "$$ |\\psi (\\theta_{min}) \\rangle =  |00\\ldots 0\\rangle. $$\n",
    "However, it is not always so simple. \n",
    "What if we want to find the minimum eigenenergy of \n",
    "$ H = X \\otimes X \\otimes Y \\otimes Z + Z \\otimes Y \\otimes X \\otimes X $ ?  \n",
    "It is not always (or rather almost never) trivial to construct a local cost \n",
    "function which has the same minimum as some other cost function of interest,\n",
    "global however. \n",
    "That is where perturbative gadgets come into play, and we will see how."
   ]
  },
  {
   "cell_type": "markdown",
   "metadata": {},
   "source": [
    "The definitions\n",
    "---------------\n",
    "Perturbative gadgets are a common tool in adiabatic quantum computing. \n",
    "Their goal is to find a Hamiltonian with local interactions which mimics\n",
    "some other Hamiltonian with more complex couplings. \n",
    "The later is the one they would ideally want to implement for their\n",
    "computation, that's why it is called the computational Hamiltonian, but can not\n",
    "since it is hard to implement more than few-body interactions in hardware.\n",
    "This is done by increasing the dimension of the Hilbert space (i.e. the number \n",
    "of qubits) and \"encoding\" the computational Hamiltonian in the low-energy \n",
    "subspace of a so-called gadget Hamiltonian.\n",
    "Let us now construct such a gadget Hamiltonian taylored for VQE applications.  \n",
    "\n",
    "First, we start from a target Hamiltonian which is a linear combination of \n",
    "Pauli words, acting on $k$ qubits\n",
    "$$ H^\\text{targ} = \\sum_i c_i h_i $$\n",
    "with $ h_i = \\sigma_{i,1} \\otimes \\sigma_{i,2} \\otimes \\ldots \\otimes \\sigma_{i,k} $\n",
    "and $ \\sigma_{i,j} \\in \\{ X, Y, Z \\}$, $ c_i \\in \\mathbb{R}$.  \n",
    "Now we construct the gadget Hamiltonian.\n",
    "For each term $h_i$, we will need $k$ additional qubits qubits which we call \n",
    "auxiliary qubits, and add two terms to the Hamiltonian: \n",
    "an \"unperturbed\" part $h^\\text{aux}_s$ and a perturbation $\\lambda V_s$. \n",
    "The unperturbed part penalizes each of the newly added qubits for not being in \n",
    "the $|0\\rangle$ state\n",
    "$$ h^\\text{aux}_i = \\sum_{j=1}^k |1\\rangle \\langle 1|_{i,j}$$\n",
    "while the perturbation part implements one of the operators in the Pauli word\n",
    "$\\sigma_{i,j}$ on the corresponding qubit of the computational register and a \n",
    "pair of Pauli $X$ gates on two of the auxiliary qubits\n",
    "$$ V_i = \\sum_{j=1}^k c_{i,j} \\sigma_{i,j} \\otimes X_{i,j} \\otimes X_{i,(j+1) \\mathrm{mod }k}. $$\n",
    "In the end, \n",
    "$$ H^\\text{gad} = \\sum_{i} \\left( h^\\text{aux}_i + \\lambda V_i \\right) $$  \n",
    "TODO: add picture of registers  \n",
    "TODO: finish explanation of gadgets  \n",
    "TODO: add figure about gadget analysis?"
   ]
  },
  {
   "cell_type": "markdown",
   "metadata": {},
   "source": [
    "Constructing the gadget Hamiltonian\n",
    "----------------------------------\n",
    "Now that we have layed the definitions, let us get to the code and have a look \n",
    "at one of these constructions to get used to them. \n",
    "First we will have to import a few packages  \n",
    "TODO: check with Pennylane team how to do it with the PerturbativeGadget class"
   ]
  },
  {
   "cell_type": "code",
   "execution_count": 3,
   "metadata": {},
   "outputs": [],
   "source": [
    "import sys\n",
    "sys.path.append('../src')\n",
    "sys.path.append('src')\n",
    "import pennylane as qml\n",
    "from pennylane import numpy as np\n",
    "import matplotlib.pyplot as plt\n",
    "from faehrmann_gadgets import NewPerturbativeGadgets"
   ]
  },
  {
   "cell_type": "markdown",
   "metadata": {},
   "source": [
    "Now, let's take the example given above \n",
    "$$ H = X \\otimes X \\otimes Y \\otimes Z + Z \\otimes Y \\otimes X \\otimes X. $$\n",
    "First we construct our target Hamiltonian in Pennylane.\n",
    "For this, we use the \n",
    "<a href=\"https://pennylane.readthedocs.io/en/stable/code/api/pennylane.Hamiltonian.html\">qml.Hamiltonian</a> \n",
    "class"
   ]
  },
  {
   "cell_type": "code",
   "execution_count": 4,
   "metadata": {},
   "outputs": [],
   "source": [
    "term1 = qml.operation.Tensor(qml.PauliX(0), qml.PauliX(1), qml.PauliY(2), qml.PauliZ(3))\n",
    "term2 = qml.operation.Tensor(qml.PauliZ(0), qml.PauliY(1), qml.PauliX(2), qml.PauliX(3))\n",
    "Hcomp = qml.Hamiltonian([1,1], [term1, term2])"
   ]
  },
  {
   "cell_type": "markdown",
   "metadata": {},
   "source": [
    "Now we can check that we constructed indeed what we wanted."
   ]
  },
  {
   "cell_type": "code",
   "execution_count": 5,
   "metadata": {},
   "outputs": [
    {
     "name": "stdout",
     "output_type": "stream",
     "text": [
      "  (1) [X0 X1 Y2 Z3]\n",
      "+ (1) [Z0 Y1 X2 X3]\n"
     ]
    }
   ],
   "source": [
    "print(Hcomp)"
   ]
  },
  {
   "cell_type": "markdown",
   "metadata": {},
   "source": [
    "We indeed have a Hamiltonian composed of two terms, with the Pauli words\n",
    "which we wanted. \n",
    "Next, we can construct the corresponding gadget Hamiltonian. \n",
    "Using the class NewPerturbativeGadgets (rename VQEGadgets?), we can automatedly \n",
    "generate the gadget Hamiltonian from the computational Hamiltonian.\n",
    "The object gadgetizer will contain all the information about the settings of \n",
    "the gadgetization procedure (there are quite a few knobs one can tweak on, \n",
    "but we'll skip that for now). \n",
    "Then, the method gadgetize takes a qml.Hamiltonian object and generates the\n",
    "corresponding gadget Hamiltonian."
   ]
  },
  {
   "cell_type": "code",
   "execution_count": 6,
   "metadata": {},
   "outputs": [
    {
     "name": "stdout",
     "output_type": "stream",
     "text": [
      "  (-0.5) [Z4]\n",
      "+ (-0.5) [Z5]\n",
      "+ (-0.5) [Z6]\n",
      "+ (-0.5) [Z7]\n",
      "+ (-0.5) [Z8]\n",
      "+ (-0.5) [Z9]\n",
      "+ (-0.5) [Z10]\n",
      "+ (-0.5) [Z11]\n",
      "+ (0.5) [I4]\n",
      "+ (0.5) [I5]\n",
      "+ (0.5) [I6]\n",
      "+ (0.5) [I7]\n",
      "+ (0.5) [I8]\n",
      "+ (0.5) [I9]\n",
      "+ (0.5) [I10]\n",
      "+ (0.5) [I11]\n",
      "+ (-0.03125) [X4 X5 X0]\n",
      "+ (-0.03125) [X8 X9 Z0]\n",
      "+ (0.03125) [X5 X6 X1]\n",
      "+ (0.03125) [X6 X7 Y2]\n",
      "+ (0.03125) [X7 X4 Z3]\n",
      "+ (0.03125) [X9 X10 Y1]\n",
      "+ (0.03125) [X10 X11 X2]\n",
      "+ (0.03125) [X11 X8 X3]\n"
     ]
    }
   ],
   "source": [
    "gadgetizer = NewPerturbativeGadgets()\n",
    "Hgad = gadgetizer.gadgetize(Hcomp)\n",
    "print(Hgad)"
   ]
  },
  {
   "cell_type": "markdown",
   "metadata": {},
   "source": [
    "So, let's see what we got.  \n",
    "We started with 4 computational qubits (labelled 0 to 3) and two 4-body terms.\n",
    "Thus we get 4 additional qubits twice (4 to 11).\n",
    "The first 16 elements of our Hamiltonian correspond to the unperturbed part.\n",
    "The last 8 are the perturbation. They are a little scambled, but one can \n",
    "recognize the 8 Paulis from the computational Hamiltonian on the qubits 0 to 3\n",
    "and the cyclic pairwise $X$ structure on the auxiliaries. \n",
    "Indeed, there are $(X_4X_5, X_5X_6, X_6X_7, X_7X_4)$ and \n",
    "$(X_8X_9, X_9X_{10}, X_{10}X_{11}, X_{11}X_8)$.  \n"
   ]
  },
  {
   "cell_type": "markdown",
   "metadata": {},
   "source": [
    "Training with the gadget Hamiltonian\n",
    "-----------------------------------"
   ]
  },
  {
   "cell_type": "markdown",
   "metadata": {},
   "source": [
    "Now that we have a little intuition on how the gadget Hamiltonian construction\n",
    "works, we will use it to train. \n",
    "Classical simulation of qubit systems is expensive, so we will simplify further\n",
    "to a computational Hamiltonian with a single term, and show that using the \n",
    "gadget Hamiltonian for training allows us to minimize the target Hamiltonian.  \n",
    "So, let us construct the two Hamiltonians of interest"
   ]
  },
  {
   "cell_type": "code",
   "execution_count": 50,
   "metadata": {},
   "outputs": [],
   "source": [
    "# term1 = qml.operation.Tensor(qml.PauliX(0), qml.PauliX(1), qml.PauliY(2), qml.PauliZ(3))\n",
    "term1 = qml.operation.Tensor(qml.PauliX(0), qml.PauliY(1), qml.PauliZ(2), qml.PauliZ(3))\n",
    "Hcomp = qml.Hamiltonian([1], [term1])\n",
    "perturbation_factor = 10\n",
    "gadgetizer = NewPerturbativeGadgets(perturbation_factor)\n",
    "Hgad = gadgetizer.gadgetize(Hcomp)"
   ]
  },
  {
   "cell_type": "markdown",
   "metadata": {},
   "source": [
    "Then we need to set up our variational quantum algorithms. \n",
    "That is we choose a circuit ansatz with randomly initialized weights, \n",
    "the training cost function, the optimizer with its step size, and the number of \n",
    "optimization steps and the device to run the circuit on.  \n",
    "As ansatz, we will use the \n",
    "<a href=\"https://pennylane.readthedocs.io/en/latest/code/api/pennylane.SimplifiedTwoDesign.html#pennylane.SimplifiedTwoDesign\">qml.SimplifiedTwoDesign</a> like done in previous works\n",
    "on cost function dependent barren plateaus [2]"
   ]
  },
  {
   "cell_type": "code",
   "execution_count": 60,
   "metadata": {},
   "outputs": [],
   "source": [
    "# Total number of qubits: computational + auxiliary\n",
    "num_qubits = 4 + 2 * 4\n",
    "# Setting up the ansatz\n",
    "# shapes = qml.SimplifiedTwoDesign.shape(n_layers=num_qubits, n_wires=num_qubits)\n",
    "# init_weights = [np.pi/4] * shapes[0][0]\n",
    "# weights = np.random.uniform(0, np.pi, size=shapes[1])\n",
    "# def ansatz(params, wires): \n",
    "#     qml.SimplifiedTwoDesign(initial_layer_weights=init_weights, \n",
    "#                                  weights=params, \n",
    "#                                  wires=wires)\n",
    "\n",
    "from hardware_efficient_ansatz import SimplifiedAlternatingLayeredAnsatz\n",
    "sala = SimplifiedAlternatingLayeredAnsatz(num_qubits, num_qubits)\n",
    "ansatz = sala.ansatz\n",
    "weights = np.random.uniform(0, np.pi, \n",
    "                            size=(num_qubits, num_qubits), \n",
    "                            requires_grad=True)"
   ]
  },
  {
   "cell_type": "markdown",
   "metadata": {},
   "source": [
    "For the classical optimization, we will use the standard gradient descent\n",
    "algorithm, and perform 500 iterations. For the quantum part, we will simulate\n",
    "our circuit using the default.qubit simulator."
   ]
  },
  {
   "cell_type": "code",
   "execution_count": 61,
   "metadata": {},
   "outputs": [],
   "source": [
    "opt = qml.GradientDescentOptimizer(stepsize=0.3)\n",
    "max_iter = 500\n",
    "dev = qml.device(\"default.qubit\", wires=range(num_qubits))"
   ]
  },
  {
   "cell_type": "markdown",
   "metadata": {},
   "source": [
    "Finally, we will use two cost functions. \n",
    "The first, the training cost, is the loss function of the optimization, \n",
    "that's the one the gradient descent will actually try to minimize. \n",
    "For the training, we use the gadget Hamiltonian.\n",
    "Then we also define a monitoring cost, based on the target Hamiltonian.\n",
    "We will evaluate it's value at each iteration for monitoring purposes, but it \n",
    "will not be used in the optimization."
   ]
  },
  {
   "cell_type": "code",
   "execution_count": 62,
   "metadata": {},
   "outputs": [],
   "source": [
    "training_cost = qml.ExpvalCost(ansatz, Hgad, dev)\n",
    "monitoring_cost = qml.ExpvalCost(ansatz, Hcomp, dev)"
   ]
  },
  {
   "cell_type": "markdown",
   "metadata": {},
   "source": [
    "The idea is that if we reach the global minimum for the gadget Hamiltonian, we\n",
    "should also be close to the global minimum of the target Hamiltonian, which is\n",
    "what we are ultimately interested in.  \n",
    "Now everything is set up, let's run the optimization and see how it goes."
   ]
  },
  {
   "cell_type": "code",
   "execution_count": 63,
   "metadata": {},
   "outputs": [
    {
     "name": "stdout",
     "output_type": "stream",
     "text": [
      "Iteration =     0 of   500 | Training cost =   2.31383439 | Monitoring cost =   0.00000000 | \n",
      "Iteration =     1 of   500 | Training cost =   2.17562459 | Monitoring cost =   0.00000000 | \n",
      "Iteration =     2 of   500 | Training cost =   2.04737209 | Monitoring cost =   0.00000000 | \n",
      "Iteration =     3 of   500 | Training cost =   1.92725719 | Monitoring cost =   0.00000000 | \n",
      "Iteration =     4 of   500 | Training cost =   1.81449284 | Monitoring cost =   0.00000000 | \n",
      "Iteration =     5 of   500 | Training cost =   1.70684168 | Monitoring cost =   0.00000000 | \n",
      "Iteration =     6 of   500 | Training cost =   1.59999844 | Monitoring cost =   0.00000000 | \n",
      "Iteration =     7 of   500 | Training cost =   1.48876244 | Monitoring cost =   0.00000000 | \n",
      "Iteration =     8 of   500 | Training cost =   1.36756834 | Monitoring cost =   0.00000000 | \n",
      "Iteration =     9 of   500 | Training cost =   1.22994312 | Monitoring cost =   0.00000000 | \n",
      "Iteration =    10 of   500 | Training cost =   1.06862198 | Monitoring cost =   0.00000000 | \n",
      "Iteration =    11 of   500 | Training cost =   0.87817569 | Monitoring cost =   0.00000000 | \n",
      "Iteration =    12 of   500 | Training cost =   0.66132941 | Monitoring cost =   0.00000000 | \n",
      "Iteration =    13 of   500 | Training cost =   0.43651949 | Monitoring cost =   0.00000000 | \n",
      "Iteration =    14 of   500 | Training cost =   0.23429264 | Monitoring cost =   0.00000000 | \n",
      "Iteration =    15 of   500 | Training cost =   0.07588691 | Monitoring cost =   0.00000000 | \n",
      "Iteration =    16 of   500 | Training cost =  -0.03912811 | Monitoring cost =   0.00000000 | \n",
      "Iteration =    17 of   500 | Training cost =  -0.12186821 | Monitoring cost =   0.00000000 | \n",
      "Iteration =    18 of   500 | Training cost =  -0.18268487 | Monitoring cost =   0.00000000 | \n"
     ]
    },
    {
     "ename": "KeyboardInterrupt",
     "evalue": "",
     "output_type": "error",
     "traceback": [
      "\u001b[1;31m---------------------------------------------------------------------------\u001b[0m",
      "\u001b[1;31mKeyboardInterrupt\u001b[0m                         Traceback (most recent call last)",
      "\u001b[1;32mc:\\Users\\SimonC\\OneDrive - ETH Zurich\\1_Uni\\2_QMIO\\2_Experiments\\barren-gadgets\\Pennylane-tutorial\\perturbative_gadgets_for_VQE.ipynb Cell 25\u001b[0m in \u001b[0;36m<cell line: 7>\u001b[1;34m()\u001b[0m\n\u001b[0;32m      <a href='vscode-notebook-cell:/c%3A/Users/SimonC/OneDrive%20-%20ETH%20Zurich/1_Uni/2_QMIO/2_Experiments/barren-gadgets/Pennylane-tutorial/perturbative_gadgets_for_VQE.ipynb#X33sZmlsZQ%3D%3D?line=3'>4</a>\u001b[0m \u001b[39mprint\u001b[39m(\u001b[39mf\u001b[39m\u001b[39m\"\u001b[39m\u001b[39mIteration = \u001b[39m\u001b[39m{\u001b[39;00m\u001b[39m0\u001b[39m\u001b[39m:\u001b[39;00m\u001b[39m5d\u001b[39m\u001b[39m}\u001b[39;00m\u001b[39m of \u001b[39m\u001b[39m{\u001b[39;00mmax_iter\u001b[39m:\u001b[39;00m\u001b[39m5d\u001b[39m\u001b[39m}\u001b[39;00m\u001b[39m | \u001b[39m\u001b[39m\"\u001b[39m \u001b[39m+\u001b[39m\n\u001b[0;32m      <a href='vscode-notebook-cell:/c%3A/Users/SimonC/OneDrive%20-%20ETH%20Zurich/1_Uni/2_QMIO/2_Experiments/barren-gadgets/Pennylane-tutorial/perturbative_gadgets_for_VQE.ipynb#X33sZmlsZQ%3D%3D?line=4'>5</a>\u001b[0m        \u001b[39m\"\u001b[39m\u001b[39mTraining cost = \u001b[39m\u001b[39m{:12.8f}\u001b[39;00m\u001b[39m | \u001b[39m\u001b[39m\"\u001b[39m\u001b[39m.\u001b[39mformat(costs_lists[\u001b[39m'\u001b[39m\u001b[39mtraining\u001b[39m\u001b[39m'\u001b[39m][\u001b[39m-\u001b[39m\u001b[39m1\u001b[39m]) \u001b[39m+\u001b[39m\n\u001b[0;32m      <a href='vscode-notebook-cell:/c%3A/Users/SimonC/OneDrive%20-%20ETH%20Zurich/1_Uni/2_QMIO/2_Experiments/barren-gadgets/Pennylane-tutorial/perturbative_gadgets_for_VQE.ipynb#X33sZmlsZQ%3D%3D?line=5'>6</a>\u001b[0m        \u001b[39m\"\u001b[39m\u001b[39mMonitoring cost = \u001b[39m\u001b[39m{:12.8f}\u001b[39;00m\u001b[39m | \u001b[39m\u001b[39m\"\u001b[39m\u001b[39m.\u001b[39mformat(costs_lists[\u001b[39m'\u001b[39m\u001b[39mmonitoring\u001b[39m\u001b[39m'\u001b[39m][\u001b[39m-\u001b[39m\u001b[39m1\u001b[39m]))\n\u001b[0;32m      <a href='vscode-notebook-cell:/c%3A/Users/SimonC/OneDrive%20-%20ETH%20Zurich/1_Uni/2_QMIO/2_Experiments/barren-gadgets/Pennylane-tutorial/perturbative_gadgets_for_VQE.ipynb#X33sZmlsZQ%3D%3D?line=6'>7</a>\u001b[0m \u001b[39mfor\u001b[39;00m it \u001b[39min\u001b[39;00m \u001b[39mrange\u001b[39m(max_iter):\n\u001b[1;32m----> <a href='vscode-notebook-cell:/c%3A/Users/SimonC/OneDrive%20-%20ETH%20Zurich/1_Uni/2_QMIO/2_Experiments/barren-gadgets/Pennylane-tutorial/perturbative_gadgets_for_VQE.ipynb#X33sZmlsZQ%3D%3D?line=7'>8</a>\u001b[0m     weights \u001b[39m=\u001b[39m opt\u001b[39m.\u001b[39;49mstep(training_cost, weights)\n\u001b[0;32m      <a href='vscode-notebook-cell:/c%3A/Users/SimonC/OneDrive%20-%20ETH%20Zurich/1_Uni/2_QMIO/2_Experiments/barren-gadgets/Pennylane-tutorial/perturbative_gadgets_for_VQE.ipynb#X33sZmlsZQ%3D%3D?line=8'>9</a>\u001b[0m     costs_lists[\u001b[39m'\u001b[39m\u001b[39mtraining\u001b[39m\u001b[39m'\u001b[39m]\u001b[39m.\u001b[39mappend(training_cost(weights))\n\u001b[0;32m     <a href='vscode-notebook-cell:/c%3A/Users/SimonC/OneDrive%20-%20ETH%20Zurich/1_Uni/2_QMIO/2_Experiments/barren-gadgets/Pennylane-tutorial/perturbative_gadgets_for_VQE.ipynb#X33sZmlsZQ%3D%3D?line=9'>10</a>\u001b[0m     costs_lists[\u001b[39m'\u001b[39m\u001b[39mmonitoring\u001b[39m\u001b[39m'\u001b[39m]\u001b[39m.\u001b[39mappend(monitoring_cost(weights))\n",
      "File \u001b[1;32mc:\\Users\\SimonC\\OneDrive - ETH Zurich\\1_Uni\\2_QMIO\\2_Experiments\\thesis-venv\\lib\\site-packages\\pennylane\\optimize\\gradient_descent.py:129\u001b[0m, in \u001b[0;36mGradientDescentOptimizer.step\u001b[1;34m(self, objective_fn, grad_fn, *args, **kwargs)\u001b[0m\n\u001b[0;32m    111\u001b[0m \u001b[39mdef\u001b[39;00m \u001b[39mstep\u001b[39m(\u001b[39mself\u001b[39m, objective_fn, \u001b[39m*\u001b[39margs, grad_fn\u001b[39m=\u001b[39m\u001b[39mNone\u001b[39;00m, \u001b[39m*\u001b[39m\u001b[39m*\u001b[39mkwargs):\n\u001b[0;32m    112\u001b[0m     \u001b[39m\"\"\"Update trainable arguments with one step of the optimizer.\u001b[39;00m\n\u001b[0;32m    113\u001b[0m \n\u001b[0;32m    114\u001b[0m \u001b[39m    Args:\u001b[39;00m\n\u001b[1;32m   (...)\u001b[0m\n\u001b[0;32m    126\u001b[0m \u001b[39m        If single arg is provided, list [array] is replaced by array.\u001b[39;00m\n\u001b[0;32m    127\u001b[0m \u001b[39m    \"\"\"\u001b[39;00m\n\u001b[1;32m--> 129\u001b[0m     g, _ \u001b[39m=\u001b[39m \u001b[39mself\u001b[39;49m\u001b[39m.\u001b[39;49mcompute_grad(objective_fn, args, kwargs, grad_fn\u001b[39m=\u001b[39;49mgrad_fn)\n\u001b[0;32m    130\u001b[0m     new_args \u001b[39m=\u001b[39m \u001b[39mself\u001b[39m\u001b[39m.\u001b[39mapply_grad(g, args)\n\u001b[0;32m    132\u001b[0m     \u001b[39m# unwrap from list if one argument, cleaner return\u001b[39;00m\n",
      "File \u001b[1;32mc:\\Users\\SimonC\\OneDrive - ETH Zurich\\1_Uni\\2_QMIO\\2_Experiments\\thesis-venv\\lib\\site-packages\\pennylane\\optimize\\gradient_descent.py:158\u001b[0m, in \u001b[0;36mGradientDescentOptimizer.compute_grad\u001b[1;34m(objective_fn, args, kwargs, grad_fn)\u001b[0m\n\u001b[0;32m    140\u001b[0m \u001b[39mr\u001b[39m\u001b[39m\"\"\"Compute gradient of the objective function at the given point and return it along with\u001b[39;00m\n\u001b[0;32m    141\u001b[0m \u001b[39mthe objective function forward pass (if available).\u001b[39;00m\n\u001b[0;32m    142\u001b[0m \n\u001b[1;32m   (...)\u001b[0m\n\u001b[0;32m    155\u001b[0m \u001b[39m    will not be evaluted and instead ``None`` will be returned.\u001b[39;00m\n\u001b[0;32m    156\u001b[0m \u001b[39m\"\"\"\u001b[39;00m\n\u001b[0;32m    157\u001b[0m g \u001b[39m=\u001b[39m get_gradient(objective_fn) \u001b[39mif\u001b[39;00m grad_fn \u001b[39mis\u001b[39;00m \u001b[39mNone\u001b[39;00m \u001b[39melse\u001b[39;00m grad_fn\n\u001b[1;32m--> 158\u001b[0m grad \u001b[39m=\u001b[39m g(\u001b[39m*\u001b[39;49margs, \u001b[39m*\u001b[39;49m\u001b[39m*\u001b[39;49mkwargs)\n\u001b[0;32m    159\u001b[0m forward \u001b[39m=\u001b[39m \u001b[39mgetattr\u001b[39m(g, \u001b[39m\"\u001b[39m\u001b[39mforward\u001b[39m\u001b[39m\"\u001b[39m, \u001b[39mNone\u001b[39;00m)\n\u001b[0;32m    161\u001b[0m num_trainable_args \u001b[39m=\u001b[39m \u001b[39m0\u001b[39m\n",
      "File \u001b[1;32mc:\\Users\\SimonC\\OneDrive - ETH Zurich\\1_Uni\\2_QMIO\\2_Experiments\\thesis-venv\\lib\\site-packages\\pennylane\\_grad.py:113\u001b[0m, in \u001b[0;36mgrad.__call__\u001b[1;34m(self, *args, **kwargs)\u001b[0m\n\u001b[0;32m    110\u001b[0m     \u001b[39mself\u001b[39m\u001b[39m.\u001b[39m_forward \u001b[39m=\u001b[39m \u001b[39mself\u001b[39m\u001b[39m.\u001b[39m_fun(\u001b[39m*\u001b[39margs, \u001b[39m*\u001b[39m\u001b[39m*\u001b[39mkwargs)\n\u001b[0;32m    111\u001b[0m     \u001b[39mreturn\u001b[39;00m ()\n\u001b[1;32m--> 113\u001b[0m grad_value, ans \u001b[39m=\u001b[39m grad_fn(\u001b[39m*\u001b[39;49margs, \u001b[39m*\u001b[39;49m\u001b[39m*\u001b[39;49mkwargs)\n\u001b[0;32m    114\u001b[0m \u001b[39mself\u001b[39m\u001b[39m.\u001b[39m_forward \u001b[39m=\u001b[39m ans\n\u001b[0;32m    116\u001b[0m \u001b[39mreturn\u001b[39;00m grad_value\n",
      "File \u001b[1;32mc:\\Users\\SimonC\\OneDrive - ETH Zurich\\1_Uni\\2_QMIO\\2_Experiments\\thesis-venv\\lib\\site-packages\\autograd\\wrap_util.py:20\u001b[0m, in \u001b[0;36munary_to_nary.<locals>.nary_operator.<locals>.nary_f\u001b[1;34m(*args, **kwargs)\u001b[0m\n\u001b[0;32m     18\u001b[0m \u001b[39melse\u001b[39;00m:\n\u001b[0;32m     19\u001b[0m     x \u001b[39m=\u001b[39m \u001b[39mtuple\u001b[39m(args[i] \u001b[39mfor\u001b[39;00m i \u001b[39min\u001b[39;00m argnum)\n\u001b[1;32m---> 20\u001b[0m \u001b[39mreturn\u001b[39;00m unary_operator(unary_f, x, \u001b[39m*\u001b[39;49mnary_op_args, \u001b[39m*\u001b[39;49m\u001b[39m*\u001b[39;49mnary_op_kwargs)\n",
      "File \u001b[1;32mc:\\Users\\SimonC\\OneDrive - ETH Zurich\\1_Uni\\2_QMIO\\2_Experiments\\thesis-venv\\lib\\site-packages\\pennylane\\_grad.py:139\u001b[0m, in \u001b[0;36mgrad._grad_with_forward\u001b[1;34m(fun, x)\u001b[0m\n\u001b[0;32m    133\u001b[0m \u001b[39mif\u001b[39;00m \u001b[39mnot\u001b[39;00m vspace(ans)\u001b[39m.\u001b[39msize \u001b[39m==\u001b[39m \u001b[39m1\u001b[39m:\n\u001b[0;32m    134\u001b[0m     \u001b[39mraise\u001b[39;00m \u001b[39mTypeError\u001b[39;00m(\n\u001b[0;32m    135\u001b[0m         \u001b[39m\"\u001b[39m\u001b[39mGrad only applies to real scalar-output functions. \u001b[39m\u001b[39m\"\u001b[39m\n\u001b[0;32m    136\u001b[0m         \u001b[39m\"\u001b[39m\u001b[39mTry jacobian, elementwise_grad or holomorphic_grad.\u001b[39m\u001b[39m\"\u001b[39m\n\u001b[0;32m    137\u001b[0m     )\n\u001b[1;32m--> 139\u001b[0m grad_value \u001b[39m=\u001b[39m vjp(vspace(ans)\u001b[39m.\u001b[39;49mones())\n\u001b[0;32m    140\u001b[0m \u001b[39mreturn\u001b[39;00m grad_value, ans\n",
      "File \u001b[1;32mc:\\Users\\SimonC\\OneDrive - ETH Zurich\\1_Uni\\2_QMIO\\2_Experiments\\thesis-venv\\lib\\site-packages\\autograd\\core.py:14\u001b[0m, in \u001b[0;36mmake_vjp.<locals>.vjp\u001b[1;34m(g)\u001b[0m\n\u001b[1;32m---> 14\u001b[0m \u001b[39mdef\u001b[39;00m \u001b[39mvjp\u001b[39m(g): \u001b[39mreturn\u001b[39;00m backward_pass(g, end_node)\n",
      "File \u001b[1;32mc:\\Users\\SimonC\\OneDrive - ETH Zurich\\1_Uni\\2_QMIO\\2_Experiments\\thesis-venv\\lib\\site-packages\\autograd\\core.py:19\u001b[0m, in \u001b[0;36mbackward_pass\u001b[1;34m(g, end_node)\u001b[0m\n\u001b[0;32m     17\u001b[0m \u001b[39mdef\u001b[39;00m \u001b[39mbackward_pass\u001b[39m(g, end_node):\n\u001b[0;32m     18\u001b[0m     outgrads \u001b[39m=\u001b[39m {end_node : (g, \u001b[39mFalse\u001b[39;00m)}\n\u001b[1;32m---> 19\u001b[0m     \u001b[39mfor\u001b[39;00m node \u001b[39min\u001b[39;00m toposort(end_node):\n\u001b[0;32m     20\u001b[0m         outgrad \u001b[39m=\u001b[39m outgrads\u001b[39m.\u001b[39mpop(node)\n\u001b[0;32m     21\u001b[0m         ingrads \u001b[39m=\u001b[39m node\u001b[39m.\u001b[39mvjp(outgrad[\u001b[39m0\u001b[39m])\n",
      "File \u001b[1;32mc:\\Users\\SimonC\\OneDrive - ETH Zurich\\1_Uni\\2_QMIO\\2_Experiments\\thesis-venv\\lib\\site-packages\\autograd\\util.py:29\u001b[0m, in \u001b[0;36mtoposort\u001b[1;34m(end_node, parents)\u001b[0m\n\u001b[0;32m     27\u001b[0m     \u001b[39melse\u001b[39;00m:\n\u001b[0;32m     28\u001b[0m         child_counts[node] \u001b[39m=\u001b[39m \u001b[39m1\u001b[39m\n\u001b[1;32m---> 29\u001b[0m         stack\u001b[39m.\u001b[39mextend(parents(node))\n\u001b[0;32m     31\u001b[0m childless_nodes \u001b[39m=\u001b[39m [end_node]\n\u001b[0;32m     32\u001b[0m \u001b[39mwhile\u001b[39;00m childless_nodes:\n",
      "\u001b[1;31mKeyboardInterrupt\u001b[0m: "
     ]
    }
   ],
   "source": [
    "costs_lists = {}\n",
    "costs_lists['training'] = [training_cost(weights)]\n",
    "costs_lists['monitoring'] = [monitoring_cost(weights)]\n",
    "print(f\"Iteration = {0:5d} of {max_iter:5d} | \" +\n",
    "       \"Training cost = {:12.8f} | \".format(costs_lists['training'][-1]) +\n",
    "       \"Monitoring cost = {:12.8f} | \".format(costs_lists['monitoring'][-1]))\n",
    "for it in range(max_iter):\n",
    "    weights = opt.step(training_cost, weights)\n",
    "    costs_lists['training'].append(training_cost(weights))\n",
    "    costs_lists['monitoring'].append(monitoring_cost(weights))\n",
    "    if (it + 1) % 1 == 0:\n",
    "        print(f\"Iteration = {it+1:5d} of {max_iter:5d} | \" +\n",
    "               \"Training cost = {:12.8f} | \".format(costs_lists['training'][-1]) +\n",
    "               \"Monitoring cost = {:12.8f} | \".format(costs_lists['monitoring'][-1]))"
   ]
  },
  {
   "cell_type": "code",
   "execution_count": null,
   "metadata": {},
   "outputs": [],
   "source": [
    "plt.plot(costs_lists['training'])\n",
    "plt.plot(costs_lists['monitoring'])\n",
    "plt.show()"
   ]
  },
  {
   "cell_type": "markdown",
   "metadata": {},
   "source": [
    "References  \n",
    "[1] our paper on arxiv  \n",
    "[2] Cerezo, M., Sone, A., Volkoff, T. et al. Cost function dependent barren plateaus in shallow parametrized quantum circuits. Nat Commun 12, 1791 (2021). https://doi.org/10.1038/s41467-021-21728-w  "
   ]
  },
  {
   "cell_type": "markdown",
   "metadata": {},
   "source": []
  }
 ],
 "metadata": {
  "interpreter": {
   "hash": "cf6ca161eb71b8721933a48be547b7c04ae77679351d445b45174f66d40cf8c4"
  },
  "kernelspec": {
   "display_name": "Python 3.8.5 ('thesis-venv')",
   "language": "python",
   "name": "python3"
  },
  "language_info": {
   "codemirror_mode": {
    "name": "ipython",
    "version": 3
   },
   "file_extension": ".py",
   "mimetype": "text/x-python",
   "name": "python",
   "nbconvert_exporter": "python",
   "pygments_lexer": "ipython3",
   "version": "3.8.5"
  }
 },
 "nbformat": 4,
 "nbformat_minor": 1
}
