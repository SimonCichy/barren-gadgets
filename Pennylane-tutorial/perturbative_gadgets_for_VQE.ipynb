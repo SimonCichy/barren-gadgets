{
 "cells": [
  {
   "cell_type": "code",
   "execution_count": 1,
   "metadata": {},
   "outputs": [],
   "source": [
    "%load_ext autoreload\n",
    "%autoreload 2\n",
    "%matplotlib inline"
   ]
  },
  {
   "cell_type": "markdown",
   "metadata": {},
   "source": [
    "Perturbative Gadgets for Variational Quantum Algorithms  \n",
    "==========================================\n",
    "\n",
    "*Author: Simon Cichy*"
   ]
  },
  {
   "cell_type": "markdown",
   "metadata": {},
   "source": [
    "In this tutorial, we will explore the application of perturbative gadgets in \n",
    "variational quantum algorithms to outgo the issue of cost function dependent\n",
    "barren plateaus, as proposed in Ref.[cite]"
   ]
  },
  {
   "cell_type": "markdown",
   "metadata": {},
   "source": [
    "Some context\n",
    "---------------------------\n",
    "\n",
    "If you are not familiar yet with the concept of barren plateaus, I recomend you\n",
    "first check out these other tutorials: \n",
    "- https://pennylane.ai/qml/demos/tutorial_barren_plateaus.html\n",
    "- https://pennylane.ai/qml/demos/tutorial_local_cost_functions.html  \n",
    "\n",
    "As presented in the second, barren plateaus are more severe when using global\n",
    "cost functions compared to local ones. \n",
    "Thinking about VQE applications, let us consider cost functions that are \n",
    "expectation values of Hamiltonians like\n",
    "$$ C = \\operatorname{Tr} \\left[ H V(\\theta) |00\\ldots 0\\rangle \\langle 00\\ldots 0| V(\\theta)^\\dagger\\right]. $$\n",
    "In some cases, it is easy to find a local cost function to substitute a global\n",
    "one, which still has the same ground state. \n",
    "For instance, one can verify that the local cost function built from \n",
    "$$ H_L = \\mathbb{I} - \\frac{1}{n} \\sum_j |0\\rangle \\langle 0|_j $$\n",
    "has the same ground state as the global one\n",
    "$$ H_G = \\mathbb{I} - |00\\ldots 0\\rangle \\langle 00\\ldots 0|  $$\n",
    "and that is \n",
    "$$ |\\psi (\\theta_{min}) \\rangle =  |00\\ldots 0\\rangle. $$\n",
    "However, it is not always so simple. \n",
    "What if we want to find the minimum eigenenergy of \n",
    "$ H = X \\otimes X \\otimes Y \\otimes Z + Z \\otimes Y \\otimes X \\otimes X $ ?  \n",
    "It is not always (or rather almost neveer) trivial to construct a local cost \n",
    "function which has the same minimum as some other cost function of interest,\n",
    "global however. \n",
    "That is where perturbative gadgets come into play, and we will see how."
   ]
  },
  {
   "cell_type": "markdown",
   "metadata": {},
   "source": [
    "The definitions\n",
    "---------------\n",
    "Perturbative gadgets are a common tool in adiabatic quantum computing. \n",
    "Their goal is to find a Hamiltonian with local interactions which mimics\n",
    "some other Hamiltonian with more complex couplings. \n",
    "The later is the one they would ideally want to implement for their\n",
    "computation, that's why it is called the computational Hamiltonian, but can not\n",
    "since it is hard to implement more than few-body interactions in hardware.\n",
    "This is done by increasing the dimension of the Hilbert space (i.e. the number \n",
    "of qubits) and \"encoding\" the computational Hamiltonian in the low-energy \n",
    "subspace of a so-called gadget Hamiltonian.\n",
    "Let us now construct such a gadget Hamiltonian taylored for VQE applications.  \n",
    "\n",
    "First, we start from a target Hamiltonian which is a linear combination of \n",
    "Pauli words, acting on $k$ qubits\n",
    "$$ H^\\text{targ} = \\sum_i c_i h_i $$\n",
    "with $ h_i = \\sigma_{i,1} \\otimes \\sigma_{i,2} \\otimes \\ldots \\otimes \\sigma_{i,k} $\n",
    "and $ \\sigma_{i,j} \\in \\{ X, Y, Z \\}$, $ c_i \\in \\mathbb{R}$.  \n",
    "Now we construct the gadget Hamiltonian.\n",
    "For each term $h_i$, we will need $k$ additional qubits qubits which we call \n",
    "auxiliary qubits, and add two terms to the Hamiltonian: \n",
    "an \"unperturbed\" part $h^\\text{aux}_s$ and a perturbation $\\lambda V_s$. \n",
    "The unperturbed part penalizes each of the newly added qubits for not being in \n",
    "the $|0\\rangle$ state\n",
    "$$ h^\\text{aux}_i = \\sum_{j=1}^k |1\\rangle \\langle 1|_{i,j}$$\n",
    "while the perturbation part implements one of the operators in the Pauli word\n",
    "$\\sigma_{i,j}$ on the corresponding qubit of the computational register and a \n",
    "pair of Pauli $X$ gates on two of the auxiliary qubits\n",
    "$$ V_i = \\sum_{j=1}^k c_{i,j} \\sigma_{i,j} \\otimes X_{i,j} \\otimes X_{i,(j+1) \\mathrm{mod }k}. $$\n",
    "In the end, \n",
    "$$ H^\\text{gad} = \\sum_{i} \\left( h^\\text{aux}_i + \\lambda V_i \\right) $$  \n",
    "TODO: add picture of registers  \n",
    "TODO: finish explanation of gadgets  \n",
    "TODO: add figure about gadget analysis?"
   ]
  },
  {
   "cell_type": "markdown",
   "metadata": {},
   "source": [
    "Constructing the gadget Hamiltonian\n",
    "----------------------------------\n",
    "Now that we have layed the definitions, let us have a look at one of these\n",
    "constructions to get used to them. \n",
    "First we will have to import a few packages"
   ]
  },
  {
   "cell_type": "code",
   "execution_count": 1,
   "metadata": {},
   "outputs": [],
   "source": [
    "import sys\n",
    "sys.path.append('../src')\n",
    "sys.path.append('src')\n",
    "import pennylane as qml\n",
    "from pennylane import numpy as np\n",
    "import matplotlib.pyplot as plt\n",
    "from faehrmann_gadgets import NewPerturbativeGadgets"
   ]
  },
  {
   "cell_type": "markdown",
   "metadata": {},
   "source": [
    "Now, let's take the example given above \n",
    "$$ H = X \\otimes X \\otimes Y \\otimes Z + Z \\otimes Y \\otimes X \\otimes X. $$\n",
    "First we construct our target Hamiltonian.\n",
    "For this, we use the Hamiltonian class from Pennylane"
   ]
  },
  {
   "cell_type": "code",
   "execution_count": 2,
   "metadata": {},
   "outputs": [
    {
     "name": "stdout",
     "output_type": "stream",
     "text": [
      "  (1) [X0 X1 Y2 Z3]\n",
      "+ (1) [Z0 Y1 X2 X3]\n"
     ]
    }
   ],
   "source": [
    "term1 = qml.operation.Tensor(qml.PauliX(0), qml.PauliX(1), qml.PauliY(2), qml.PauliZ(3))\n",
    "term2 = qml.operation.Tensor(qml.PauliZ(0), qml.PauliY(1), qml.PauliX(2), qml.PauliX(3))\n",
    "Hcomp = qml.Hamiltonian([1,1], [term1, term2])\n",
    "print(Hcomp)"
   ]
  },
  {
   "cell_type": "markdown",
   "metadata": {},
   "source": [
    "Next, we can construct the corresponding gadget Hamiltonian. \n",
    "Using an automated module, we can use"
   ]
  },
  {
   "cell_type": "code",
   "execution_count": 4,
   "metadata": {},
   "outputs": [
    {
     "name": "stdout",
     "output_type": "stream",
     "text": [
      "  (-0.5) [Z4]\n",
      "+ (-0.5) [Z5]\n",
      "+ (-0.5) [Z6]\n",
      "+ (-0.5) [Z7]\n",
      "+ (-0.5) [Z8]\n",
      "+ (-0.5) [Z9]\n",
      "+ (-0.5) [Z10]\n",
      "+ (-0.5) [Z11]\n",
      "+ (0.5) [I4]\n",
      "+ (0.5) [I5]\n",
      "+ (0.5) [I6]\n",
      "+ (0.5) [I7]\n",
      "+ (0.5) [I8]\n",
      "+ (0.5) [I9]\n",
      "+ (0.5) [I10]\n",
      "+ (0.5) [I11]\n",
      "+ (-0.03125) [X4 X5 X0]\n",
      "+ (-0.03125) [X8 X9 Z0]\n",
      "+ (0.03125) [X5 X6 X1]\n",
      "+ (0.03125) [X6 X7 Y2]\n",
      "+ (0.03125) [X7 X4 Z3]\n",
      "+ (0.03125) [X9 X10 Y1]\n",
      "+ (0.03125) [X10 X11 X2]\n",
      "+ (0.03125) [X11 X8 X3]\n"
     ]
    }
   ],
   "source": [
    "gadgetizer = NewPerturbativeGadgets(perturbation_factor=1)\n",
    "Hgad = gadgetizer.gadgetize(Hcomp)\n",
    "print(Hgad)"
   ]
  },
  {
   "cell_type": "markdown",
   "metadata": {},
   "source": [
    "So, let's see what did we get.  \n",
    "We started with 4 computational qubits (labelled 0 to 3) and two 4-body terms.\n",
    "Thus we get 4 additional qubits twice (4 to 11).\n",
    "The first 16 elements of our Hamiltonian correspond to the unperturbed part.\n",
    "The last 8 are the perturbation. They are a little scambled, but one can \n",
    "recognize the 8 Paulis from the computational Hamiltonian on the qubits 0 to 3\n",
    "and the cyclic pairwise $X$ structure on the auxiliaries. \n",
    "Indeed, there are $(X_4X_5, X_5X_6, X_6X_7, X_7X_4)$ and \n",
    "$(X_8X_9, X_9X_{10}, X_{10}X_{11}, X_{11}X_8)$.  \n"
   ]
  },
  {
   "cell_type": "markdown",
   "metadata": {},
   "source": [
    "Training with the gadget Hamiltonian\n",
    "-----------------------------------"
   ]
  },
  {
   "cell_type": "markdown",
   "metadata": {},
   "source": [
    "Now that we have a little intuition on how the gadget Hamiltonian construction\n",
    "works, we will use it to train. \n",
    "Classical simulation of qubit systems is expensive, so we will simplify further\n",
    "to a computational Hamiltonian with a single term, and show that using the \n",
    "gadget Hamiltonian for training allows us to minimize the target Hamiltonian.  \n",
    "So, let us construct the two Hamiltonians of interest"
   ]
  },
  {
   "cell_type": "code",
   "execution_count": 5,
   "metadata": {},
   "outputs": [],
   "source": [
    "term1 = qml.operation.Tensor(qml.PauliX(0), qml.PauliX(1), qml.PauliY(2), qml.PauliZ(3))\n",
    "Hcomp = qml.Hamiltonian([1], [term1])\n",
    "Hgad = gadgetizer.gadgetize(Hcomp)"
   ]
  },
  {
   "cell_type": "markdown",
   "metadata": {},
   "source": [
    "Then we need to set up our variational quantum algorithms. \n",
    "That is we choose a circuit ansatz with randomly initialized weights, \n",
    "the training cost function, the optimizer with its step size, and the number of \n",
    "optimization steps and the device to run the circuit on"
   ]
  },
  {
   "cell_type": "code",
   "execution_count": null,
   "metadata": {},
   "outputs": [],
   "source": [
    "num_qubits = 4 + 2 * 4\n",
    "init_weights = [np.pi/4] * num_qubits\n",
    "shapes = qml.SimplifiedTwoDesign.shape(n_layers=num_qubits, n_wires=num_qubits)\n",
    "weights = [np.random.uniform(0, np.pi, size=shape) for shape in shapes]\n",
    "ansatz = qml.SimplifiedTwoDesign(initial_layer_weights=init_weights, weights=weights)\n",
    "opt = qml.GradientDescentOptimizer(stepsize=0.3)\n",
    "max_iter = 500\n",
    "perturbation_factor = 10\n",
    "dev = qml.device(\"default.qubit\", wires=range(num_qubits))\n",
    "training_cost = qml.ExpvalCost(ansatz, Hgad, dev)\n",
    "monitoring_cost = qml.ExpvalCost(ansatz, Hcomp, dev)"
   ]
  },
  {
   "cell_type": "code",
   "execution_count": null,
   "metadata": {},
   "outputs": [],
   "source": [
    "costs_lists = {}\n",
    "costs_lists['training'] = []\n",
    "costs_lists['monitoring'] = []\n",
    "for it in range(max_iter):\n",
    "    weights = opt.step(training_cost, weights)\n",
    "    costs_lists['training'].append(training_cost(weights))\n",
    "    costs_lists['monitoring'].append(monitoring_cost(weights))\n",
    "    if (it + 1) % 50 == 0:\n",
    "        print(f\"Iteration = {it+1:5d} of {max_iter:5d} | \" +\n",
    "               \"Training cost = {:12.8f} | \".format(costs_lists['training'][-1]) +\n",
    "               \"Monitoring cost = {:12.8f} | \".format(costs_lists['monitoring'][-1]))"
   ]
  }
 ],
 "metadata": {
  "interpreter": {
   "hash": "cf6ca161eb71b8721933a48be547b7c04ae77679351d445b45174f66d40cf8c4"
  },
  "kernelspec": {
   "display_name": "Python 3.8.5 ('thesis-venv')",
   "language": "python",
   "name": "python3"
  },
  "language_info": {
   "codemirror_mode": {
    "name": "ipython",
    "version": 3
   },
   "file_extension": ".py",
   "mimetype": "text/x-python",
   "name": "python",
   "nbconvert_exporter": "python",
   "pygments_lexer": "ipython3",
   "version": "3.8.5"
  }
 },
 "nbformat": 4,
 "nbformat_minor": 1
}
