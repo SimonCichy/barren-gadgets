{
 "cells": [
  {
   "cell_type": "code",
   "execution_count": 1,
   "metadata": {},
   "outputs": [],
   "source": [
    "%matplotlib inline"
   ]
  },
  {
   "cell_type": "markdown",
   "metadata": {},
   "source": [
    "Perturbative Gadgets for Variational Quantum Algorithms  \n",
    "==========================================\n",
    "\n",
    "*Author: Simon Cichy*"
   ]
  },
  {
   "cell_type": "markdown",
   "metadata": {},
   "source": [
    "In this tutorial, we will explore the application of perturbative gadgets in \n",
    "variational quantum algorithms to outgo the issue of cost function dependent\n",
    "barren plateaus, as proposed in Ref.[1]"
   ]
  },
  {
   "cell_type": "markdown",
   "metadata": {},
   "source": [
    "Some context\n",
    "---------------------------\n",
    "\n",
    "If you are not familiar yet with the concept of barren plateaus, I recomend you\n",
    "first check out these other tutorials: \n",
    "- https://pennylane.ai/qml/demos/tutorial_barren_plateaus.html\n",
    "- https://pennylane.ai/qml/demos/tutorial_local_cost_functions.html  \n",
    "\n",
    "As presented in the second, barren plateaus are more severe when using global\n",
    "cost functions compared to local ones. \n",
    "We want to explore this topic further and learn about one possible mitigation\n",
    "strategy.  \n",
    "Thinking about VQE applications, let us consider cost functions that are \n",
    "expectation values of Hamiltonians like\n",
    "$$ C = \\operatorname{Tr} \\left[ H V(\\theta) |00\\ldots 0\\rangle \\langle 00\\ldots 0| V(\\theta)^\\dagger\\right]. $$\n",
    "Here $ |00\\ldots 0\\rangle $ is our initial state, \n",
    "$ V(\\theta) $ is the circuit ansatz and $H$ the Hamiltonian\n",
    "to minimize.  \n",
    "\n",
    "In some cases, it is easy to find a local cost function to substitute a global\n",
    "one, which still has the same ground state. \n",
    "For instance, one can verify that the local cost function built from \n",
    "$$ H_L = \\mathbb{I} - \\frac{1}{n} \\sum_j |0\\rangle \\langle 0|_j $$\n",
    "has the same ground state as the global one\n",
    "$$ H_G = \\mathbb{I} - |00\\ldots 0\\rangle \\langle 00\\ldots 0|  $$\n",
    "and that is \n",
    "$$ |\\psi (\\theta_{min}) \\rangle =  |00\\ldots 0\\rangle. $$\n",
    "However, it is not always so simple. \n",
    "What if we want to find the minimum eigenenergy of \n",
    "$ H = X \\otimes X \\otimes Y \\otimes Z + Z \\otimes Y \\otimes X \\otimes X $ ?  \n",
    "It is not always trivial to construct a local cost \n",
    "function which has the same minimum as some other cost function of interest,\n",
    "global however. \n",
    "That is where perturbative gadgets come into play, and we will see how."
   ]
  },
  {
   "cell_type": "markdown",
   "metadata": {},
   "source": [
    "The definitions\n",
    "---------------\n",
    "Perturbative gadgets are a common tool in adiabatic quantum computing. \n",
    "Their goal is to find a Hamiltonian with local interactions which mimics\n",
    "some other Hamiltonian with more complex couplings. \n",
    "The later is the one they would ideally want to implement for their\n",
    "computation, that's why it is called the computational Hamiltonian, but can not\n",
    "since it is hard to implement more than few-body interactions in hardware.\n",
    "This is done by increasing the dimension of the Hilbert space (i.e. the number \n",
    "of qubits) and \"encoding\" the computational Hamiltonian in the low-energy \n",
    "subspace of a so-called gadget Hamiltonian.\n",
    "Let us now construct such a gadget Hamiltonian taylored for VQE applications.  \n",
    "\n",
    "First, we start from a target Hamiltonian which is a linear combination of \n",
    "Pauli words, acting on $k$ qubits\n",
    "$$ H^\\text{target} = \\sum_i c_i h_i $$\n",
    "with $ h_i = \\sigma_{i,1} \\otimes \\sigma_{i,2} \\otimes \\ldots \\otimes \\sigma_{i,k} $\n",
    "and $ \\sigma_{i,j} \\in \\{ X, Y, Z \\}$, $ c_i \\in \\mathbb{R}$.  \n",
    "Now we construct the gadget Hamiltonian.\n",
    "For each term $h_i$, we will need $k$ additional qubits qubits which we call \n",
    "auxiliary qubits, and add two terms to the Hamiltonian: \n",
    "an \"unperturbed\" part $H^\\text{aux}_s$ and a perturbation $\\lambda V_s$. \n",
    "The unperturbed part penalizes each of the newly added qubits for not being in \n",
    "the $|0\\rangle$ state\n",
    "$$ H^\\text{aux}_i = \\sum_{j=1}^k |1\\rangle \\langle 1|_{i,j} = \\sum_{j=1}^k \\frac{1}{2}(\\mathbb{I} - Z_{i,j}) $$\n",
    "while the perturbation part implements one of the operators in the Pauli word\n",
    "$\\sigma_{i,j}$ on the corresponding qubit of the computational register and a \n",
    "pair of Pauli $X$ gates on two of the auxiliary qubits\n",
    "$$ V_i = \\sum_{j=1}^k c_{i,j} \\sigma_{i,j} \\otimes X_{i,j} \\otimes X_{i,(j+1) \\mathrm{mod }k}. $$\n",
    "In the end, \n",
    "$$ H^\\text{gad} = \\sum_{i} \\left( H^\\text{aux}_i + \\lambda V_i \\right) $$  "
   ]
  },
  {
   "cell_type": "markdown",
   "metadata": {},
   "source": [
    "To give an idea, this is what would result from working with a Hamiltonian\n",
    "acting on a total of $8$ qubits, that has $3$ terms, each of them being a \n",
    "$4$-body interaction. "
   ]
  },
  {
   "cell_type": "markdown",
   "metadata": {},
   "source": [
    "![decomposition](./graphics/FC_gadget-terms-tutorial.png)"
   ]
  },
  {
   "cell_type": "markdown",
   "metadata": {},
   "source": [
    "For each of the terms $h_1$, $h_2$ and $h_3$ we add $4$ auxiliary qubits.\n",
    "In the end, our gadget Hamiltonian thus acts on $8+3\\cdot 4 = 20$ qubits.\n",
    "The penalization (red) acts only on the auxiliary registers, penalizing each \n",
    "qubit individually, while the perturbations couple target with auxiliary qubits."
   ]
  },
  {
   "cell_type": "markdown",
   "metadata": {},
   "source": [
    "As shown in Ref. [1], this construction results in a spectrum that is similar\n",
    "to that of the original Hamiltonian for low energies. \n",
    "This means that minimizing the gadget Hamiltonian, if reaching its global\n",
    "minimum, the resulting state will be close to the global minimum of \n",
    "$H^\\text{target}$ too.\n",
    "Since it is a local cost function, it is better behaved with respect to \n",
    "barren plateaus than the global cost, so it is more trainable.\n",
    "As a result, one can mitigate the onset of cost function dependent barren \n",
    "plateaus by substituting the global cost function with the resulting gadget\n",
    "and using that for training instead. That is what we will do in the following\n",
    "of this tutorial."
   ]
  },
  {
   "cell_type": "markdown",
   "metadata": {},
   "source": [
    "Constructing the gadget Hamiltonian\n",
    "----------------------------------\n",
    "Now that we have layed the definitions, let us get to the code and have a look \n",
    "at one of these constructions to get used to them. \n",
    "First we will have to import a few packages.  "
   ]
  },
  {
   "cell_type": "code",
   "execution_count": 2,
   "metadata": {},
   "outputs": [],
   "source": [
    "import pennylane as qml\n",
    "from pennylane import numpy as np\n",
    "import matplotlib.pyplot as plt\n",
    "from barren_gadgets import PerturbativeGadgets\n",
    "from layered_ansatz import build_ansatz, generate_random_gate_sequence, get_parameter_shape\n",
    "np.random.seed(42)"
   ]
  },
  {
   "cell_type": "markdown",
   "metadata": {},
   "source": [
    "Now, let's take the example given above \n",
    "$$ H = X \\otimes X \\otimes Y \\otimes Z + Z \\otimes Y \\otimes X \\otimes X. $$\n",
    "First we construct our target Hamiltonian in Pennylane.\n",
    "For this, we use the \n",
    "<a href=\"https://pennylane.readthedocs.io/en/stable/code/api/pennylane.Hamiltonian.html\">qml.Hamiltonian</a> \n",
    "class"
   ]
  },
  {
   "cell_type": "code",
   "execution_count": 3,
   "metadata": {},
   "outputs": [],
   "source": [
    "term1 = qml.operation.Tensor(qml.PauliX(0), qml.PauliX(1), qml.PauliY(2), qml.PauliZ(3))\n",
    "term2 = qml.operation.Tensor(qml.PauliZ(0), qml.PauliY(1), qml.PauliX(2), qml.PauliX(3))\n",
    "Hcomp = qml.Hamiltonian([1,1], [term1, term2])"
   ]
  },
  {
   "cell_type": "markdown",
   "metadata": {},
   "source": [
    "Now we can check that we constructed what we wanted."
   ]
  },
  {
   "cell_type": "code",
   "execution_count": 4,
   "metadata": {},
   "outputs": [
    {
     "name": "stdout",
     "output_type": "stream",
     "text": [
      "  (1) [X0 X1 Y2 Z3]\n",
      "+ (1) [Z0 Y1 X2 X3]\n"
     ]
    }
   ],
   "source": [
    "print(Hcomp)"
   ]
  },
  {
   "cell_type": "markdown",
   "metadata": {},
   "source": [
    "We indeed have a Hamiltonian composed of two terms, with the expected Pauli\n",
    "words. \n",
    "Next, we can construct the corresponding gadget Hamiltonian. \n",
    "Using the class PerturbativeGadgets, we can automatedly \n",
    "generate the gadget Hamiltonian from the computational Hamiltonian.\n",
    "The object gadgetizer will contain all the information about the settings of \n",
    "the gadgetization procedure (there are quite a few knobs one can tweak on, \n",
    "but we'll skip that for now). \n",
    "Then, the method gadgetize takes a qml.Hamiltonian object and generates the\n",
    "corresponding gadget Hamiltonian."
   ]
  },
  {
   "cell_type": "code",
   "execution_count": 5,
   "metadata": {},
   "outputs": [
    {
     "name": "stdout",
     "output_type": "stream",
     "text": [
      "  (-0.5) [Z4]\n",
      "+ (-0.5) [Z5]\n",
      "+ (-0.5) [Z6]\n",
      "+ (-0.5) [Z7]\n",
      "+ (-0.5) [Z8]\n",
      "+ (-0.5) [Z9]\n",
      "+ (-0.5) [Z10]\n",
      "+ (-0.5) [Z11]\n",
      "+ (0.5) [I4]\n",
      "+ (0.5) [I5]\n",
      "+ (0.5) [I6]\n",
      "+ (0.5) [I7]\n",
      "+ (0.5) [I8]\n",
      "+ (0.5) [I9]\n",
      "+ (0.5) [I10]\n",
      "+ (0.5) [I11]\n",
      "+ (-0.03125) [X4 X5 X0]\n",
      "+ (-0.03125) [X8 X9 Z0]\n",
      "+ (0.03125) [X5 X6 X1]\n",
      "+ (0.03125) [X6 X7 Y2]\n",
      "+ (0.03125) [X7 X4 Z3]\n",
      "+ (0.03125) [X9 X10 Y1]\n",
      "+ (0.03125) [X10 X11 X2]\n",
      "+ (0.03125) [X11 X8 X3]\n"
     ]
    }
   ],
   "source": [
    "gadgetizer = PerturbativeGadgets()\n",
    "Hgad = gadgetizer.gadgetize(Hcomp)\n",
    "print(Hgad)"
   ]
  },
  {
   "cell_type": "markdown",
   "metadata": {},
   "source": [
    "So, let's see what we got.  \n",
    "We started with 4 computational qubits (labelled 0 to 3) and two 4-body terms.\n",
    "Thus we get 4 additional qubits twice (4 to 11).\n",
    "The first 16 elements of our Hamiltonian correspond to the unperturbed part.\n",
    "The last 8 are the perturbation. They are a little scambled, but one can \n",
    "recognize the 8 Paulis from the computational Hamiltonian on the qubits 0 to 3\n",
    "and the cyclic pairwise $X$ structure on the auxiliaries. \n",
    "Indeed, there are $(X_4X_5, X_5X_6, X_6X_7, X_7X_4)$ and \n",
    "$(X_8X_9, X_9X_{10}, X_{10}X_{11}, X_{11}X_8)$.  \n"
   ]
  },
  {
   "cell_type": "markdown",
   "metadata": {},
   "source": [
    "Training with the gadget Hamiltonian\n",
    "-----------------------------------"
   ]
  },
  {
   "cell_type": "markdown",
   "metadata": {},
   "source": [
    "Now that we have a little intuition on how the gadget Hamiltonian construction\n",
    "works, we will use it to train. \n",
    "Classical simulation of qubit systems is expensive, so we will simplify further\n",
    "to a computational Hamiltonian with a single term, and show that using the \n",
    "gadget Hamiltonian for training allows us to minimize the target Hamiltonian.  \n",
    "So, let us construct the two Hamiltonians of interest"
   ]
  },
  {
   "cell_type": "code",
   "execution_count": 6,
   "metadata": {},
   "outputs": [],
   "source": [
    "term1 = qml.operation.Tensor(qml.PauliX(0), qml.PauliY(1), qml.PauliZ(2), qml.PauliZ(3))\n",
    "Hcomp = qml.Hamiltonian([1], [term1])\n",
    "perturbation_factor = 10\n",
    "gadgetizer = PerturbativeGadgets(perturbation_factor)\n",
    "Hgad = gadgetizer.gadgetize(Hcomp)"
   ]
  },
  {
   "cell_type": "markdown",
   "metadata": {},
   "source": [
    "Then we need to set up our variational quantum algorithm. \n",
    "That is we choose a circuit ansatz with randomly initialized weights, \n",
    "the training cost function, the optimizer with its step size, and the number of \n",
    "optimization steps and the device to run the circuit on.  \n",
    "As ansatz, we will use a variation of the \n",
    "<a href=\"https://pennylane.readthedocs.io/en/latest/code/api/pennylane.SimplifiedTwoDesign.html#pennylane.SimplifiedTwoDesign\">qml.SimplifiedTwoDesign</a>, \n",
    "which was proposed in previous \n",
    "works on cost function dependent barren plateaus [2].\n",
    "I will skip the details of the construction, since it is not our focus here, \n",
    "and just show how it looks like. \n",
    "Here is the circuit for a small example"
   ]
  },
  {
   "cell_type": "code",
   "execution_count": 7,
   "metadata": {},
   "outputs": [
    {
     "name": "stdout",
     "output_type": "stream",
     "text": [
      "0: ──RY(0.79)─╭C──RY(1.18)──────────────╭C──RX(1.89)──────────────╭C──RY(0.96)──────────────┤  <Z>\n",
      "1: ──RY(0.79)─╰Z──RY(2.99)─╭C──RZ(0.49)─╰Z──RZ(2.22)─╭C──RX(2.62)─╰Z──RY(1.65)─╭C──RY(1.92)─┤     \n",
      "2: ──RY(0.79)─╭C──RZ(2.30)─╰Z──RZ(0.49)─╭C──RZ(0.06)─╰Z──RZ(0.67)─╭C──RY(1.36)─╰Z──RX(0.44)─┤     \n",
      "3: ──RY(0.79)─╰Z──RY(1.88)─╭C──RX(0.18)─╰Z──RX(3.05)─╭C──RY(0.57)─╰Z──RX(0.91)─╭C──RY(0.92)─┤     \n",
      "4: ──RY(0.79)──────────────╰Z──RZ(2.72)──────────────╰Z──RX(0.58)──────────────╰Z──RZ(1.15)─┤     \n"
     ]
    }
   ],
   "source": [
    "shapes = get_parameter_shape(n_layers=3, n_wires=5)\n",
    "init_weights = [np.pi/4] * shapes[0][0]\n",
    "weights = np.random.uniform(0, np.pi, size=shapes[1])\n",
    "@qml.qnode(qml.device(\"default.qubit\", wires=range(5)))\n",
    "def display_circuit(weights):\n",
    "    build_ansatz(initial_layer_weights=init_weights, weights=weights, wires=range(5))\n",
    "    return qml.expval(qml.PauliZ(wires=0))\n",
    "print(qml.draw(display_circuit)(weights))"
   ]
  },
  {
   "cell_type": "markdown",
   "metadata": {},
   "source": [
    "Now we build the circuit for our actual experiment"
   ]
  },
  {
   "cell_type": "code",
   "execution_count": 8,
   "metadata": {},
   "outputs": [],
   "source": [
    "# Total number of qubits: computational + auxiliary\n",
    "num_qubits = 4 + 2 * 4\n",
    "\n",
    "# Other parameters of the ansatz: weights and gate sequence\n",
    "shapes = get_parameter_shape(n_layers=num_qubits, n_wires=num_qubits)\n",
    "init_weights = [np.pi/4] * shapes[0][0]\n",
    "weights = np.random.uniform(0, np.pi, size=shapes[1])\n",
    "random_gate_sequence = generate_random_gate_sequence(qml.math.shape(weights))"
   ]
  },
  {
   "cell_type": "markdown",
   "metadata": {},
   "source": [
    "For the classical optimization, we will use the standard gradient descent\n",
    "algorithm, and perform 500 iterations. For the quantum part, we will simulate\n",
    "our circuit using the \n",
    "<a href=\"https://docs.pennylane.ai/en/stable/code/api/pennylane.device.html\">default.qubit</a> \n",
    "simulator."
   ]
  },
  {
   "cell_type": "code",
   "execution_count": 9,
   "metadata": {},
   "outputs": [],
   "source": [
    "opt = qml.GradientDescentOptimizer(stepsize=0.1)\n",
    "max_iter = 500\n",
    "dev = qml.device(\"default.qubit\", wires=range(num_qubits))"
   ]
  },
  {
   "cell_type": "markdown",
   "metadata": {},
   "source": [
    "Finally, we will use two cost functions. \n",
    "For each we create a QNode.\n",
    "The first, the training cost, is the loss function of the optimization, \n",
    "that's the one the gradient descent will actually try to minimize. \n",
    "For the training, we use the gadget Hamiltonian.\n",
    "Then we also define a monitoring cost, based on the target Hamiltonian.\n",
    "We will evaluate it's value at each iteration for monitoring purposes, but it \n",
    "will not be used in the optimization."
   ]
  },
  {
   "cell_type": "code",
   "execution_count": 10,
   "metadata": {},
   "outputs": [],
   "source": [
    "@qml.qnode(dev)\n",
    "def training_cost(weights):\n",
    "    build_ansatz(initial_layer_weights=init_weights, \n",
    "                 weights=weights, wires=range(num_qubits), \n",
    "                 gate_sequence=random_gate_sequence)\n",
    "    return qml.expval(Hgad)\n",
    "\n",
    "@qml.qnode(dev)\n",
    "def monitoring_cost(weights):\n",
    "    build_ansatz(initial_layer_weights=init_weights, \n",
    "                 weights=weights, wires=range(num_qubits), \n",
    "                 gate_sequence=random_gate_sequence)\n",
    "    return qml.expval(Hcomp)"
   ]
  },
  {
   "cell_type": "markdown",
   "metadata": {},
   "source": [
    "The idea is that if we reach the global minimum for the gadget Hamiltonian, we\n",
    "should also be close to the global minimum of the target Hamiltonian, which is\n",
    "what we are ultimately interested in.\n",
    "To be able to look how it went and maybe plot it, we will save the costs values\n",
    "at each iteration.  "
   ]
  },
  {
   "cell_type": "code",
   "execution_count": 11,
   "metadata": {},
   "outputs": [],
   "source": [
    "costs_lists = {}\n",
    "costs_lists['training'] = [training_cost(weights)]\n",
    "costs_lists['monitoring'] = [monitoring_cost(weights)]"
   ]
  },
  {
   "cell_type": "markdown",
   "metadata": {},
   "source": [
    "Now everything is set up, let's run the optimization and see how it goes.\n",
    "Careful, this will take a while."
   ]
  },
  {
   "cell_type": "code",
   "execution_count": 12,
   "metadata": {},
   "outputs": [
    {
     "name": "stdout",
     "output_type": "stream",
     "text": [
      "Iteration =     0 of   500 | Training cost =   1.90513180 | Monitoring cost =   0.01328515 | \n",
      "Iteration =    20 of   500 | Training cost =   1.04984455 | Monitoring cost =   0.03083430 | \n",
      "Iteration =    40 of   500 | Training cost =   0.51457208 | Monitoring cost =   0.06646903 | \n",
      "Iteration =    60 of   500 | Training cost =   0.20356186 | Monitoring cost =   0.06968535 | \n",
      "Iteration =    80 of   500 | Training cost =   0.03383196 | Monitoring cost =   0.04539126 | \n",
      "Iteration =   100 of   500 | Training cost =  -0.08046672 | Monitoring cost =  -0.00232274 | \n",
      "Iteration =   120 of   500 | Training cost =  -0.17282559 | Monitoring cost =  -0.08356305 | \n",
      "Iteration =   140 of   500 | Training cost =  -0.26474650 | Monitoring cost =  -0.21797751 | \n",
      "Iteration =   160 of   500 | Training cost =  -0.37846573 | Monitoring cost =  -0.41962072 | \n",
      "Iteration =   180 of   500 | Training cost =  -0.53084783 | Monitoring cost =  -0.65409257 | \n",
      "Iteration =   200 of   500 | Training cost =  -0.66641107 | Monitoring cost =  -0.80599649 | \n",
      "Iteration =   220 of   500 | Training cost =  -0.74870368 | Monitoring cost =  -0.87938402 | \n",
      "Iteration =   240 of   500 | Training cost =  -0.79657499 | Monitoring cost =  -0.91900324 | \n",
      "Iteration =   260 of   500 | Training cost =  -0.82651069 | Monitoring cost =  -0.94266510 | \n",
      "Iteration =   280 of   500 | Training cost =  -0.84692828 | Monitoring cost =  -0.95789785 | \n",
      "Iteration =   300 of   500 | Training cost =  -0.86174732 | Monitoring cost =  -0.96821238 | \n",
      "Iteration =   320 of   500 | Training cost =  -0.87297345 | Monitoring cost =  -0.97541040 | \n",
      "Iteration =   340 of   500 | Training cost =  -0.88179148 | Monitoring cost =  -0.98053073 | \n",
      "Iteration =   360 of   500 | Training cost =  -0.88897770 | Monitoring cost =  -0.98423212 | \n",
      "Iteration =   380 of   500 | Training cost =  -0.89506133 | Monitoring cost =  -0.98695433 | \n",
      "Iteration =   400 of   500 | Training cost =  -0.90039969 | Monitoring cost =  -0.98899691 | \n",
      "Iteration =   420 of   500 | Training cost =  -0.90522284 | Monitoring cost =  -0.99056550 | \n",
      "Iteration =   440 of   500 | Training cost =  -0.90966625 | Monitoring cost =  -0.99180159 | \n",
      "Iteration =   460 of   500 | Training cost =  -0.91379835 | Monitoring cost =  -0.99280234 | \n",
      "Iteration =   480 of   500 | Training cost =  -0.91764575 | Monitoring cost =  -0.99363371 | \n",
      "Iteration =   500 of   500 | Training cost =  -0.92121494 | Monitoring cost =  -0.99433959 | \n"
     ]
    }
   ],
   "source": [
    "print(f\"Iteration = {0:5d} of {max_iter:5d} | \" +\n",
    "       \"Training cost = {:12.8f} | \".format(costs_lists['training'][-1]) +\n",
    "       \"Monitoring cost = {:12.8f} | \".format(costs_lists['monitoring'][-1]))\n",
    "for it in range(max_iter):\n",
    "    weights = opt.step(training_cost, weights)\n",
    "    costs_lists['training'].append(training_cost(weights))\n",
    "    costs_lists['monitoring'].append(monitoring_cost(weights))\n",
    "    if (it + 1) % 20 == 0:\n",
    "        print(f\"Iteration = {it+1:5d} of {max_iter:5d} | \" +\n",
    "               \"Training cost = {:12.8f} | \".format(costs_lists['training'][-1]) +\n",
    "               \"Monitoring cost = {:12.8f} | \".format(costs_lists['monitoring'][-1]))"
   ]
  },
  {
   "cell_type": "code",
   "execution_count": 13,
   "metadata": {},
   "outputs": [
    {
     "data": {
      "image/png": "[encoded data removed]",
      "text/plain": [
       "<Figure size 432x288 with 1 Axes>"
      ]
     },
     "metadata": {
      "needs_background": "light"
     },
     "output_type": "display_data"
    }
   ],
   "source": [
    "plt.plot(costs_lists['training'])\n",
    "plt.plot(costs_lists['monitoring'])\n",
    "plt.legend(['training', 'monitoring'])\n",
    "plt.show()"
   ]
  },
  {
   "cell_type": "markdown",
   "metadata": {},
   "source": [
    "Since our example of target Hamiltonian is a single Pauli string, we know \n",
    "without needing any training that it has only $\\pm 1$ eigenvalues. \n",
    "It is a very simple example. but we see that the training of our circuit using\n",
    "the gadget Hamiltonian as cost function did indeed allow to reach the \n",
    "global minimum of the target cost function. "
   ]
  },
  {
   "cell_type": "markdown",
   "metadata": {},
   "source": [
    "References  \n",
    "[1] Cichy, S., Faehrmann, P.K., Khatri, S., Eisert, J., *A perturbative gadget for delaying the onset of barren plateaus in variational quantum algorithms*. https://arxiv.org/abs/2210.03099  \n",
    "[2] Cerezo, M., Sone, A., Volkoff, T. et al. *Cost function dependent barren plateaus in shallow parametrized quantum circuits*. Nat Commun 12, 1791 (2021). https://doi.org/10.1038/s41467-021-21728-w  "
   ]
  },
  {
   "cell_type": "markdown",
   "metadata": {},
   "source": []
  }
 ],
 "metadata": {
  "interpreter": {
   "hash": "cf6ca161eb71b8721933a48be547b7c04ae77679351d445b45174f66d40cf8c4"
  },
  "kernelspec": {
   "display_name": "Python 3.8.5 ('thesis-venv')",
   "language": "python",
   "name": "python3"
  },
  "language_info": {
   "codemirror_mode": {
    "name": "ipython",
    "version": 3
   },
   "file_extension": ".py",
   "mimetype": "text/x-python",
   "name": "python",
   "nbconvert_exporter": "python",
   "pygments_lexer": "ipython3",
   "version": "3.8.5"
  }
 },
 "nbformat": 4,
 "nbformat_minor": 1
}
