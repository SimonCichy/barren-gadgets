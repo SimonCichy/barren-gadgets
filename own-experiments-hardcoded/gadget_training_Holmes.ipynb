{
 "cells": [
  {
   "cell_type": "code",
   "execution_count": 3,
   "metadata": {},
   "outputs": [],
   "source": [
    "%matplotlib inline"
   ]
  },
  {
   "cell_type": "markdown",
   "metadata": {},
   "source": [
    "Comparison of training a hardware efficient ansatz with a global cost function and the gadget equivalent"
   ]
  },
  {
   "cell_type": "markdown",
   "metadata": {},
   "source": [
    "Necessary imports"
   ]
  },
  {
   "cell_type": "code",
   "execution_count": 4,
   "metadata": {},
   "outputs": [],
   "source": [
    "import pennylane as qml\n",
    "from pennylane import numpy as np\n",
    "import matplotlib.pyplot as plt\n",
    "import datetime\n",
    "\n",
    "from gadget_gradients_utils import hardware_efficient_ansatz, cat_state_preparation\n",
    "from gadget_training_utils import *\n",
    "\n",
    "np.random.seed(42)\n",
    "data_folder = '../../results/data/training/'\n",
    "save_data = False"
   ]
  },
  {
   "cell_type": "markdown",
   "metadata": {},
   "source": [
    "Defining the relevant parameters of the simulation"
   ]
  },
  {
   "cell_type": "code",
   "execution_count": 5,
   "metadata": {},
   "outputs": [],
   "source": [
    "computational_qubits = 6\n",
    "ancillary_qubits = 6\n",
    "num_layers = 2\n",
    "max_iter = 100\n",
    "# num_samples = 200\n",
    "perturbation_factor = 0.5\n",
    "locality = computational_qubits\n",
    "lambda_max = (locality - 1) / (4 * locality)\n",
    "gate_set = [qml.RX, qml.RY, qml.RZ]"
   ]
  },
  {
   "cell_type": "markdown",
   "metadata": {},
   "source": [
    "Global cost function\n",
    "--------"
   ]
  },
  {
   "cell_type": "markdown",
   "metadata": {},
   "source": [
    "Creating the quantum device with the right number of qubits and choosing an optimizer"
   ]
  },
  {
   "cell_type": "code",
   "execution_count": 6,
   "metadata": {},
   "outputs": [],
   "source": [
    "dev_comp = qml.device(\"default.qubit\", wires=range(computational_qubits))\n",
    "opt = qml.GradientDescentOptimizer(stepsize=0.1)"
   ]
  },
  {
   "cell_type": "markdown",
   "metadata": {},
   "source": [
    "Initializing the parameters"
   ]
  },
  {
   "cell_type": "code",
   "execution_count": 7,
   "metadata": {},
   "outputs": [],
   "source": [
    "weights_init = np.random.uniform(0, np.pi, size=(num_layers, computational_qubits), requires_grad=True)\n",
    "random_gate_sequence = [[np.random.choice(gate_set) for _ in range(computational_qubits)] for _ in range(num_layers)]\n",
    "cost_computational = [computational_cost_function(weights_init, random_gate_sequence, computational_qubits, dev_comp)]"
   ]
  },
  {
   "cell_type": "markdown",
   "metadata": {},
   "source": [
    "Optimization loop"
   ]
  },
  {
   "cell_type": "code",
   "execution_count": 8,
   "metadata": {},
   "outputs": [
    {
     "name": "stdout",
     "output_type": "stream",
     "text": [
      "Iteration =     1 | Cost function =  0.07633306\n",
      "Iteration =    51 | Cost function = -0.91657542\n"
     ]
    }
   ],
   "source": [
    "weights = weights_init\n",
    "for it in range(max_iter):\n",
    "    # /!\\ keyword arguments are not trained? don't know why but don't remove the 'computational_qubits='\n",
    "    # keyword arguments are not wrapped https://discuss.pennylane.ai/t/wire-error-on-ibm-simulator/1282\n",
    "    weights = opt.step(computational_cost_function, weights, gate_sequence=random_gate_sequence, computational_qubits=computational_qubits, device=dev_comp)\n",
    "    cost_computational.append(computational_cost_function(weights, random_gate_sequence, computational_qubits, dev_comp))\n",
    "    # opt.update_stepsize(stepsize)\n",
    "    if it % 50 == 0:\n",
    "        print(\"Iteration = {:5d} | Cost function = {: .8f}\".format(it+1, cost_computational[-1]))\n"
   ]
  },
  {
   "cell_type": "markdown",
   "metadata": {},
   "source": [
    "Saving and plotting the results"
   ]
  },
  {
   "cell_type": "code",
   "execution_count": 9,
   "metadata": {},
   "outputs": [],
   "source": [
    "if save_data: \n",
    "    with open(data_folder + '{}_training_global_{}qubits_{}layers_{}iterations.dat'\n",
    "                .format(datetime.datetime.now().strftime(\"%y%m%d\"),\n",
    "                        computational_qubits, num_layers, max_iter), 'w') as of:\n",
    "        of.write('# iteration\\tcost\\n')\n",
    "\n",
    "        for it in range(max_iter+1):\n",
    "            of.write('{}\\t{}\\n'.format(it, cost_computational[it]))"
   ]
  },
  {
   "cell_type": "code",
   "execution_count": 10,
   "metadata": {},
   "outputs": [
    {
     "data": {
      "image/png": "[encoded data removed]",
      "text/plain": [
       "<Figure size 432x288 with 1 Axes>"
      ]
     },
     "metadata": {
      "needs_background": "light"
     },
     "output_type": "display_data"
    }
   ],
   "source": [
    "plt.plot(np.arange(max_iter+1), cost_computational)\n",
    "plt.show()"
   ]
  },
  {
   "cell_type": "markdown",
   "metadata": {},
   "source": [
    "Local cost function\n",
    "--------"
   ]
  },
  {
   "cell_type": "code",
   "execution_count": 13,
   "metadata": {},
   "outputs": [],
   "source": [
    "def local_cost_function(params, gate_sequence, computational_qubits, device):\n",
    "    gadget_qnode = qml.QNode(gadget_circuit, device)\n",
    "    Hloc = qml.PauliZ(0) @ qml.PauliZ(1)\n",
    "    return gadget_qnode(params, gate_sequence, computational_qubits, Hloc)"
   ]
  },
  {
   "cell_type": "code",
   "execution_count": 14,
   "metadata": {},
   "outputs": [],
   "source": [
    "opt = qml.GradientDescentOptimizer(stepsize=0.1)"
   ]
  },
  {
   "cell_type": "code",
   "execution_count": 16,
   "metadata": {},
   "outputs": [],
   "source": [
    "weights_init = np.random.uniform(0, np.pi, size=(num_layers, computational_qubits), requires_grad=True)\n",
    "random_gate_sequence = [[np.random.choice(gate_set) for _ in range(computational_qubits)] for _ in range(num_layers)]\n",
    "cost_local = [local_cost_function(weights_init, random_gate_sequence, computational_qubits, dev_comp)]"
   ]
  },
  {
   "cell_type": "code",
   "execution_count": 17,
   "metadata": {},
   "outputs": [
    {
     "name": "stdout",
     "output_type": "stream",
     "text": [
      "Iteration =     1 | Cost function =  0.10371227\n",
      "Iteration =    51 | Cost function = -0.99734120\n"
     ]
    }
   ],
   "source": [
    "weights = weights_init\n",
    "for it in range(max_iter):\n",
    "    weights = opt.step(local_cost_function, weights, gate_sequence=random_gate_sequence, computational_qubits=computational_qubits, device=dev_comp)\n",
    "    cost_local.append(local_cost_function(weights, random_gate_sequence, computational_qubits, dev_comp))\n",
    "    if it % 50 == 0:\n",
    "        print(\"Iteration = {:5d} | Cost function = {: .8f}\".format(it+1, cost_local[-1]))\n"
   ]
  },
  {
   "cell_type": "code",
   "execution_count": 18,
   "metadata": {},
   "outputs": [],
   "source": [
    "if save_data:\n",
    "    with open(data_folder + '{}_training_local_{}qubits_{}layers_{}iterations.dat'\n",
    "                .format(datetime.datetime.now().strftime(\"%y%m%d\"),\n",
    "                        computational_qubits, num_layers, max_iter), 'w') as of:\n",
    "        of.write('# iteration\\tcost\\n')\n",
    "\n",
    "        for it in range(max_iter+1):\n",
    "            of.write('{}\\t{}\\n'.format(it, cost_local[it]))"
   ]
  },
  {
   "cell_type": "code",
   "execution_count": 19,
   "metadata": {},
   "outputs": [
    {
     "data": {
      "image/png": "[encoded data removed]",
      "text/plain": [
       "<Figure size 432x288 with 1 Axes>"
      ]
     },
     "metadata": {
      "needs_background": "light"
     },
     "output_type": "display_data"
    }
   ],
   "source": [
    "plt.plot(np.arange(max_iter+1), cost_local)\n",
    "plt.show()"
   ]
  },
  {
   "cell_type": "markdown",
   "metadata": {},
   "source": [
    "Gadget cost function\n",
    "--------"
   ]
  },
  {
   "cell_type": "code",
   "execution_count": 22,
   "metadata": {},
   "outputs": [],
   "source": [
    "dev_gad = qml.device(\"default.qubit\", wires=range(computational_qubits+ancillary_qubits))\n",
    "opt = qml.GradientDescentOptimizer(stepsize=0.4)\n",
    "l = perturbation_factor * lambda_max"
   ]
  },
  {
   "cell_type": "code",
   "execution_count": 23,
   "metadata": {},
   "outputs": [
    {
     "name": "stdout",
     "output_type": "stream",
     "text": [
      "0.5736447636368842\n",
      "-0.45003679290792825\n"
     ]
    }
   ],
   "source": [
    "# weights_init = np.zeros((num_layers, computational_qubits+ancillary_qubits), requires_grad=True)           # starting close to the ground state\n",
    "weights_init = 0.2 * np.random.uniform(0, np.pi, size=(num_layers, computational_qubits+ancillary_qubits), requires_grad=True)\n",
    "random_gate_sequence = [[np.random.choice(gate_set) for _ in range(computational_qubits+ancillary_qubits)] for _ in range(num_layers)]\n",
    "cost_computational = [computational_cost_function(weights_init, random_gate_sequence, computational_qubits, dev_gad)]\n",
    "cost_gadget = [gadget_cost_function(weights_init, random_gate_sequence, computational_qubits, dev_gad, l)]\n",
    "cost_ancillary = [ancillary_cost_function(weights_init, random_gate_sequence, computational_qubits, dev_gad)]\n",
    "cost_perturbation = [perturbation_cost_function(weights_init, random_gate_sequence, computational_qubits, dev_gad)]\n",
    "print(cost_gadget[0])\n",
    "print(cost_computational[0])\n"
   ]
  },
  {
   "cell_type": "code",
   "execution_count": 24,
   "metadata": {},
   "outputs": [
    {
     "name": "stdout",
     "output_type": "stream",
     "text": [
      "Iteration =     0 | Gadget cost = 0.00246536 | Computational cost = -0.45003679\n",
      "Iteration =    10 | Gadget cost = 0.00000000 | Computational cost = -0.45003679\n",
      "Iteration =    20 | Gadget cost = 0.00000000 | Computational cost = -0.45003679\n",
      "Iteration =    30 | Gadget cost = 0.00000000 | Computational cost = -0.45003679\n",
      "Iteration =    40 | Gadget cost = 0.00000000 | Computational cost = -0.45003679\n",
      "Iteration =    50 | Gadget cost = 0.00000000 | Computational cost = -0.45003679\n",
      "Iteration =    60 | Gadget cost = 0.00000000 | Computational cost = -0.45003679\n",
      "Iteration =    70 | Gadget cost = 0.00000000 | Computational cost = -0.45003679\n",
      "Iteration =    80 | Gadget cost = 0.00000000 | Computational cost = -0.45003679\n",
      "Iteration =    90 | Gadget cost = 0.00000000 | Computational cost = -0.45003679\n"
     ]
    }
   ],
   "source": [
    "weights = weights_init\n",
    "for it in range(max_iter):\n",
    "    weights, prev_cost = opt.step_and_cost(gadget_cost_function, weights, gate_sequence=random_gate_sequence, computational_qubits=computational_qubits, device=dev_gad, lambda_value=l)\n",
    "    cost_computational.append(computational_cost_function(weights, random_gate_sequence, computational_qubits, dev_gad))\n",
    "    cost_gadget.append(gadget_cost_function(weights, random_gate_sequence, computational_qubits, dev_gad, l))\n",
    "    cost_ancillary.append(ancillary_cost_function(weights, random_gate_sequence, computational_qubits, dev_gad))\n",
    "    cost_perturbation.append(perturbation_cost_function(weights, random_gate_sequence, computational_qubits, dev_gad))\n",
    "    # opt.update_stepsize(stepsize)\n",
    "    if it % 10 == 0:\n",
    "        print(f\"Iteration = {it:5d} | \" +\n",
    "               \"Gadget cost = {:.8f} | \".format(cost_gadget[-1]) +\n",
    "               \"Computational cost = {:.8f}\".format(cost_computational[-1]))\n"
   ]
  },
  {
   "cell_type": "code",
   "execution_count": 25,
   "metadata": {},
   "outputs": [],
   "source": [
    "if save_data:\n",
    "    with open(data_folder + '{}_training_gadget_{}qubits_{}layers_{}iterations_{}lambda.dat'\n",
    "                .format(datetime.datetime.now().strftime(\"%y%m%d\"),\n",
    "                        computational_qubits, num_layers, max_iter, perturbation_factor), 'w') as of:\n",
    "        of.write('# iteration\\tcost gadget\\tcost computational\\t cost ancillary \\tcost perturbation\\n')\n",
    "\n",
    "        for it in range(max_iter+1):\n",
    "            of.write('{}\\t{}\\t{}\\t{}\\t{}\\n'.format(it, cost_gadget[it], cost_computational[it], cost_ancillary[it], cost_perturbation[it]))"
   ]
  },
  {
   "cell_type": "code",
   "execution_count": 26,
   "metadata": {},
   "outputs": [
    {
     "data": {
      "image/png": "[encoded data removed]",
      "text/plain": [
       "<Figure size 432x288 with 2 Axes>"
      ]
     },
     "metadata": {
      "needs_background": "light"
     },
     "output_type": "display_data"
    }
   ],
   "source": [
    "fig, ax = plt.subplots()\n",
    "ax2 = ax.twinx() \n",
    "p_gad, = ax.plot(np.arange(max_iter+1), cost_gadget, c='tab:blue', label=r'$\\langle \\psi_{HE}| H^{gad} |\\psi_{HE} \\rangle$')\n",
    "p_comp, = ax2.plot(np.arange(max_iter+1), cost_computational, c='tab:orange', label=r'$\\langle \\psi_{HE}| H^{comp} |\\psi_{HE} \\rangle$')\n",
    "p = [p_gad, p_comp]\n",
    "ax.set_xlabel(r\"Number of iterations\")\n",
    "ax.set_ylabel(r\"Cost function\")\n",
    "ax.legend(p, [p_.get_label() for p_ in p])\n",
    "ax.set_title(r\"$n_{comp}=$\"+\"{}\".format(computational_qubits))\n",
    "plt.show()"
   ]
  },
  {
   "cell_type": "code",
   "execution_count": null,
   "metadata": {},
   "outputs": [],
   "source": []
  }
 ],
 "metadata": {
  "interpreter": {
   "hash": "f1fa634a2a267bda237d7cc1f3dc30f3bd9dd1af64320e4909853caab9bfcd42"
  },
  "kernelspec": {
   "display_name": "Python 3.8.5 ('thesis-venv')",
   "language": "python",
   "name": "python3"
  },
  "language_info": {
   "codemirror_mode": {
    "name": "ipython",
    "version": 3
   },
   "file_extension": ".py",
   "mimetype": "text/x-python",
   "name": "python",
   "nbconvert_exporter": "python",
   "pygments_lexer": "ipython3",
   "version": "3.8.5"
  },
  "orig_nbformat": 4
 },
 "nbformat": 4,
 "nbformat_minor": 2
}
