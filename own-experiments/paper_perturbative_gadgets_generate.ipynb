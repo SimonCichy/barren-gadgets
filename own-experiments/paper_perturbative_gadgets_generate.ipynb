{
  "cells": [
    {
      "cell_type": "code",
      "execution_count": 11,
      "metadata": {
        "collapsed": false
      },
      "outputs": [
        {
          "name": "stdout",
          "output_type": "stream",
          "text": [
            "The autoreload extension is already loaded. To reload it, use:\n",
            "  %reload_ext autoreload\n"
          ]
        }
      ],
      "source": [
        "%matplotlib inline\n",
        "# %load_ext autoreload\n",
        "# %autoreload 2"
      ]
    },
    {
      "cell_type": "markdown",
      "metadata": {},
      "source": [
        "Perturbative Gadgets\n",
        "==========================================\n",
        "\n",
        "Following the derivation from Jordan et al. (2012), starting from a target k-local Hamiltonian:  \n",
        "    $$H^{comp} = \\sigma_{1} \\sigma_{2} \\dots \\sigma_{n} $$\n",
        "Using the corresponding gadget Hamiltonian:  \n",
        "    $$H^{gad} = H^{anc} + V $$\n",
        "with $H^{anc} = \\sum\\limits_{1\\leq i \\leq j \\leq k} \\frac{1}{2}(\\mathbb{I} - Z_{i}Z_{j}) $\n",
        "and $V = \\sum\\limits_{j=1}^k c_{j} \\sigma_{j}\\otimes X_{j}$  \n",
        "one obtains that the shifted effective Hamiltonian on the low-energy subspace of the gadget Hamiltonian acting on the +1 eigenspace if $X^{\\otimes n}$ behaves like the computational Hamiltonian\n",
        "    $$\\tilde{H}_{eff}(H_+^{gad}, 2^n, f(\\lambda)) = \\frac{-k(-\\lambda)^k}{(k-1)!} H^{comp} \\otimes P_+ + \\mathcal{O}(\\lambda^{k+1}) $$  \n",
        "\n",
        "Looking again at the example Hamiltonian used by Holmes et al.\n",
        "    $$H_G = \\bigotimes_{i=1}^n \\sigma_i^z $$\n",
        "which has $r=1$ and $k=n$. For the example of $n=4$ one obtains: \n",
        "    $$H^{gad} = H^{anc} + V \n",
        "    = (\\mathbb{I} - Z_1^{(a)} Z_2^{(a)}) + (\\mathbb{I} - Z_1^{(a)} Z_3^{(a)}) + (\\mathbb{I} - Z_1^{(a)} Z_4^{(a)})\n",
        "    + (\\mathbb{I} - Z_2^{(a)} Z_3^{(a)}) + (\\mathbb{I} - Z_2^{(a)} Z_4^{(a)}) + (\\mathbb{I} - Z_3^{(a)} Z_4^{(a)}) \n",
        "    + Z_1^{(c)} \\otimes X_1^{(a)} + Z_2^{(c)} \\otimes X_2^{(a)} + Z_3^{(c)} \\otimes X_3^{(a)} + Z_4^{(c)} \\otimes X_4^{(a)}$$"
      ]
    },
    {
      "cell_type": "markdown",
      "metadata": {},
      "source": [
        "First importing the relevant packages"
      ]
    },
    {
      "cell_type": "code",
      "execution_count": 12,
      "metadata": {
        "collapsed": false
      },
      "outputs": [],
      "source": [
        "import pennylane as qml\n",
        "from pennylane import numpy as np\n",
        "import matplotlib.pyplot as plt\n",
        "import datetime\n",
        "\n",
        "np.random.seed(42)"
      ]
    },
    {
      "cell_type": "markdown",
      "metadata": {},
      "source": [
        "Setting some parameters at the beginning for better visibility"
      ]
    },
    {
      "cell_type": "code",
      "execution_count": 14,
      "metadata": {
        "collapsed": false
      },
      "outputs": [],
      "source": [
        "# data_to_produce = 'variance vs qubits'\n",
        "data_to_produce = 'variance vs layers'\n",
        "\n",
        "# General parameters:\n",
        "# num_qubits = 4                # to be removed?\n",
        "# num_layers = 2                # to be removed?\n",
        "num_samples = 200\n",
        "layers_list = [1, 2, 5, 10, 20, 50]         # [1, 2, 5, 10, 20, 50]\n",
        "# If data_to_produce == 'variance vs qubits'\n",
        "qubits_list = [2, 3, 4, 5, 6]               # [2, 3, 4, 5, 6]\n",
        "lambda_scaling = 0.5                        # w.r.t. λ_max\n",
        "# If data_to_produce == 'variance vs layers'\n",
        "qubit_number = 2\n",
        "locality = qubit_number\n",
        "lambda_max = (locality - 1) / (4 * locality)\n",
        "lambda_list = [2**(-p)*lambda_max for p in range(4)]"
      ]
    },
    {
      "cell_type": "code",
      "execution_count": 15,
      "metadata": {},
      "outputs": [],
      "source": [
        "def hardware_efficient_ansatz(params):\n",
        "    \"\"\"A random variational quantum circuit based on the hardware efficient ansatz. \n",
        "    There are no measurements and it is to be used within the global or local circuits\n",
        "\n",
        "    Args:\n",
        "        params (array[array[float]]): array of parameters of dimension (num_layers, num_qubits) containing the rotation angles\n",
        "\n",
        "    Returns:\n",
        "        not sure... see pennylane documentation\n",
        "    \"\"\"\n",
        "\n",
        "    # Relevant parameters\n",
        "    assert(len(np.shape(params)) == 2)      # check proper dimensions of params\n",
        "    num_layers = np.shape(params)[0]        # np.shape(params) = (num_layers, num_qubits)\n",
        "    num_qubits = np.shape(params)[1]\n",
        "    \n",
        "    # Generating the gate sequence from randomly applying RX, RY or RZ with the corresponding rotation angle\n",
        "    gate_set = [qml.RX, qml.RY, qml.RZ]\n",
        "    random_gate_sequence = [[np.random.choice(gate_set) for _ in range(num_qubits)] for _ in range(num_layers)]\n",
        "\n",
        "    # Initial rotations on all qubits\n",
        "    for i in range(num_qubits):             # rotate all qubits\n",
        "        qml.RY(np.pi / 4, wires=i)          # \"to prevent X, Y , or Z from being an especially preferential \n",
        "                                            # direction with respect to gradients.\"\n",
        "\n",
        "    # Repeating a layer structure\n",
        "    for l in range(num_layers):\n",
        "        # Single random gate layer (single qubit rotations)\n",
        "        for i in range(num_qubits):\n",
        "            random_gate_sequence[l][i](params[l][i], wires=i)\n",
        "        # Nearest neighbour controlled phase gates\n",
        "        if num_qubits > 1:                          # no entangling gates if using a single qubit\n",
        "            qml.broadcast(qml.CZ, wires=range(num_qubits), pattern=\"ring\")\n",
        "\n"
      ]
    },
    {
      "cell_type": "code",
      "execution_count": 16,
      "metadata": {
        "collapsed": false
      },
      "outputs": [],
      "source": [
        "def global_circuit(params):\n",
        "    assert(len(np.shape(params)) == 2)      # check proper dimensions of params\n",
        "    num_qubits = np.shape(params)[1]        # np.shape(params) = (num_layers, num_qubits)\n",
        "\n",
        "    hardware_efficient_ansatz(params)\n",
        "    # Objective operator H = Z_1 Z_2 ... Z_n\n",
        "    H = qml.PauliZ(0)\n",
        "    for qubit in range(num_qubits-1):\n",
        "        H = H @ qml.PauliZ(qubit + 1)\n",
        "    return qml.expval(H)\n",
        "\n",
        "def local_circuit(params):\n",
        "    hardware_efficient_ansatz(params)\n",
        "    # Objective operator H = Z_1 Z_2\n",
        "    return qml.expval(qml.PauliZ(0) @ qml.PauliZ(1))\n",
        " \n",
        "def gadget_circuit(params, term, target_qubits):\n",
        "    assert(len(np.shape(params)) == 2)\n",
        "    computational_qubits = np.shape(params)[1]\n",
        "\n",
        "    hardware_efficient_ansatz(params)\n",
        "\n",
        "    # creating the \"unperturbed Hamiltonian\": Hanc\n",
        "    if term == 'ancillary':\n",
        "        # terms of the form I-ZZ\n",
        "        term = qml.Identity(target_qubits[0]) @ qml.Identity(target_qubits[1]) - qml.PauliZ(target_qubits[0]) @ qml.PauliZ(target_qubits[1])\n",
        "    elif term == 'coupling':\n",
        "        # terms of the form ZxX\n",
        "        term = qml.PauliZ(target_qubits[0]) @ qml.PauliZ(computational_qubits+target_qubits[0])\n",
        "    return qml.expval(term)"
      ]
    },
    {
      "cell_type": "code",
      "execution_count": 17,
      "metadata": {},
      "outputs": [],
      "source": [
        "def cost_function(qnode, params, is_gadget=False, num_qubits=0, lam=1):\n",
        "    if not is_gadget:\n",
        "        print(\"using standard cost function\")\n",
        "        return qnode(params)                # the cost function is the expectation value\n",
        "    else:\n",
        "        assert(num_qubits!=0)\n",
        "        # Objective operator H = Hanc + V\n",
        "        computational_qubits = num_qubits\n",
        "        ancillary_qubits = computational_qubits\n",
        "        total_qubits = ancillary_qubits + computational_qubits\n",
        "        expval_terms = []\n",
        "        # creating the \"unperturbed Hamiltonian\"\n",
        "        for first_qubit in range(computational_qubits, total_qubits):\n",
        "            for second_qubit in range(first_qubit+1, computational_qubits+ancillary_qubits):\n",
        "                expval_terms.append(qnode(params, 'ancillary', [first_qubit, second_qubit]))\n",
        "        # creating the perturbation part of the Hamiltonian\n",
        "        for qubit in range(computational_qubits):\n",
        "            expval_terms.append(qnode(params, 'coupling', [qubit]))\n",
        "        \n",
        "        return np.sum(expval_terms[:-num_qubits]) + lam*np.sum(expval_terms[-num_qubits:])"
      ]
    },
    {
      "cell_type": "code",
      "execution_count": 18,
      "metadata": {},
      "outputs": [],
      "source": [
        "def generate_gradients_vs_qubits(layer_list, qubit_list, circuit):\n",
        "    with open('../../results/data/{}_{}_{}qubits_{}layers_{}samples.dat'\n",
        "              .format(datetime.datetime.now().strftime(\"%y%m%d\"), circuit.__name__, \n",
        "                      qubit_list[-1], layer_list[-1], num_samples), 'w') as of:\n",
        "        of.write('# layers\\t# qubits\\tgradients')\n",
        "\n",
        "        for num_layers in layer_list:\n",
        "            print(num_layers, \" layers\")\n",
        "\n",
        "            for num_qubits in qubit_list:\n",
        "                grad_vals = []\n",
        "                print(num_qubits, \" qubits\")\n",
        "\n",
        "                # write a new line\n",
        "                of.write('\\n{}\\t{}'.format(num_layers, num_qubits))\n",
        "\n",
        "                for _ in range(num_samples):\n",
        "                    if circuit != gadget_circuit:\n",
        "                        dev = qml.device(\"default.qubit\", wires=range(num_qubits))\n",
        "                    else:\n",
        "                        dev = qml.device(\"default.qubit\", wires=range(2*num_qubits))    # /!\\ only for r=1, k=n, k'=2\n",
        "                    qcircuit = qml.QNode(circuit, dev)\n",
        "\n",
        "                    # Generating the random values for the rotations\n",
        "                    params = np.random.uniform(0, np.pi, size=(num_layers, num_qubits))\n",
        "                    # Calculating the value of lambda to use\n",
        "                    k = num_qubits\n",
        "                    lambda_max = (k - 1) / (4 * k)\n",
        "                    lambda_value = lambda_scaling * lambda_max\n",
        "\n",
        "                    # Calculating the gradients of the cost function w.r.t the parameters\n",
        "                    gradient = qml.grad(cost_function)(qcircuit, params, circuit==gadget_circuit, num_qubits, lambda_value)\n",
        "\n",
        "                    # Write each newly calculated value (innefficient?)\n",
        "                    of.write('\\t{}'.format(gradient[0][0]))\n",
        "                    \n",
        "                # End file with one last line-break\n",
        "                of.write('\\n')\n"
      ]
    },
    {
      "cell_type": "code",
      "execution_count": 19,
      "metadata": {},
      "outputs": [],
      "source": [
        "def generate_gradients_vs_layers(layer_list, lambda_list, qubit_number, circuit):\n",
        "    assert(np.size(qubit_number) == 1)\n",
        "    with open('../../results/data/{}_{}_{}qubits_{}layers_{}samples.dat'\n",
        "              .format(datetime.datetime.now().strftime(\"%y%m%d\"), circuit.__name__, \n",
        "                      qubit_number, layer_list[-1], num_samples), 'w') as of:\n",
        "        of.write('# layers\\tlambda\\tgradients for {} qubits'.format(qubit_number))\n",
        "        num_qubits = qubit_number\n",
        "\n",
        "        for num_layers in layer_list:\n",
        "            print(num_layers, \" layers\")\n",
        "\n",
        "            for lam in lambda_list:\n",
        "\n",
        "                # write a new line\n",
        "                of.write('\\n{}\\t{}'.format(num_layers, lam))\n",
        "\n",
        "                for _ in range(num_samples):\n",
        "                    if circuit != gadget_circuit:\n",
        "                        dev = qml.device(\"default.qubit\", wires=range(num_qubits))\n",
        "                    else:\n",
        "                        dev = qml.device(\"default.qubit\", wires=range(2*num_qubits))    # /!\\ only for r=1, k=n, k'=2\n",
        "                    qcircuit = qml.QNode(circuit, dev)\n",
        "\n",
        "                    params = np.random.uniform(0, np.pi, size=(num_layers, num_qubits))\n",
        "\n",
        "                    gradient = qml.grad(cost_function)(qcircuit, params, circuit==gadget_circuit, num_qubits, lam=lam)\n",
        "\n",
        "                    # Write each newly calculated value (innefficient?)\n",
        "                    of.write('\\t{}'.format(gradient[0][0]))\n",
        "                    \n",
        "                # End file with one last line-break\n",
        "                of.write('\\n')\n"
      ]
    },
    {
      "cell_type": "code",
      "execution_count": 20,
      "metadata": {},
      "outputs": [
        {
          "name": "stdout",
          "output_type": "stream",
          "text": [
            "1  layers\n",
            "2  layers\n",
            "5  layers\n",
            "10  layers\n",
            "20  layers\n",
            "50  layers\n"
          ]
        }
      ],
      "source": [
        "if data_to_produce == 'variance vs qubits':\n",
        "    generate_gradients_vs_qubits(layers_list, qubits_list, global_circuit)\n",
        "    generate_gradients_vs_qubits(layers_list, qubits_list, local_circuit)\n",
        "    generate_gradients_vs_qubits(layers_list, qubits_list, gadget_circuit)\n",
        "elif data_to_produce == 'variance vs layers':\n",
        "    generate_gradients_vs_layers(layers_list, lambda_list, qubit_number, gadget_circuit)"
      ]
    },
    {
      "cell_type": "code",
      "execution_count": null,
      "metadata": {},
      "outputs": [],
      "source": []
    }
  ],
  "metadata": {
    "kernelspec": {
      "display_name": "Python 3",
      "language": "python",
      "name": "python3"
    },
    "language_info": {
      "codemirror_mode": {
        "name": "ipython",
        "version": 3
      },
      "file_extension": ".py",
      "mimetype": "text/x-python",
      "name": "python",
      "nbconvert_exporter": "python",
      "pygments_lexer": "ipython3",
      "version": "3.8.5"
    }
  },
  "nbformat": 4,
  "nbformat_minor": 0
}
