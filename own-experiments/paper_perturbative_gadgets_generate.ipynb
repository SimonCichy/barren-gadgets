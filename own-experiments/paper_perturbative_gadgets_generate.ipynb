{
  "cells": [
    {
      "cell_type": "code",
      "execution_count": 7,
      "metadata": {
        "collapsed": false
      },
      "outputs": [],
      "source": [
        "%matplotlib inline"
      ]
    },
    {
      "cell_type": "markdown",
      "metadata": {},
      "source": [
        "Perturbative Gadgets\n",
        "==========================================\n",
        "\n",
        "Following the derivation from Jordan et al. (2012), starting from a target k-local Hamiltonian:  \n",
        "    $$H^{comp} = \\sigma_{1} \\sigma_{2} \\dots \\sigma_{n} $$\n",
        "Using the corresponding gadget Hamiltonian:  \n",
        "    $$H^{gad} = H^{anc} + V $$\n",
        "with $H^{anc} = \\sum\\limits_{1\\leq i \\leq j \\leq k} \\frac{1}{2}(\\mathbb{I} - Z_{i}Z_{j}) $\n",
        "and $V = \\sum\\limits_{j=1}^k c_{j} \\sigma_{j}\\otimes X_{j}$  \n",
        "one obtains that the shifted effective Hamiltonian on the low-energy subspace of the gadget Hamiltonian acting on the +1 eigenspace if $X^{\\otimes n}$ behaves like the computational Hamiltonian\n",
        "    $$\\tilde{H}_{eff}(H_+^{gad}, 2^n, f(\\lambda)) = \\frac{-k(-\\lambda)^k}{(k-1)!} H^{comp} \\otimes P_+ + \\mathcal{O}(\\lambda^{k+1}) $$  \n",
        "\n",
        "Looking again at the example Hamiltonian used by Holmes et al.\n",
        "    $$H_G = \\bigotimes_{i=1}^n \\sigma_i^z $$\n",
        "which has $r=1$ and $k=n$. For the example of $n=4$ one obtains: \n",
        "    $$H^{gad} = H^{anc} + V \n",
        "    = (\\mathbb{I} - Z_1^{(a)} Z_2^{(a)}) + (\\mathbb{I} - Z_1^{(a)} Z_3^{(a)}) + (\\mathbb{I} - Z_1^{(a)} Z_4^{(a)})\n",
        "    + (\\mathbb{I} - Z_2^{(a)} Z_3^{(a)}) + (\\mathbb{I} - Z_2^{(a)} Z_4^{(a)}) + (\\mathbb{I} - Z_3^{(a)} Z_4^{(a)}) \n",
        "    + Z_1^{(c)} \\otimes X_1^{(a)} + Z_2^{(c)} \\otimes X_2^{(a)} + Z_3^{(c)} \\otimes X_3^{(a)} + Z_4^{(c)} \\otimes X_4^{(a)}$$"
      ]
    },
    {
      "cell_type": "markdown",
      "metadata": {},
      "source": [
        "First importing the relevant packages"
      ]
    },
    {
      "cell_type": "code",
      "execution_count": 8,
      "metadata": {
        "collapsed": false
      },
      "outputs": [],
      "source": [
        "# import pennylane as qml\n",
        "from pennylane import numpy as np\n",
        "import datetime\n",
        "\n",
        "from gadget_gradients_utils import *\n",
        "\n",
        "np.random.seed(42)\n",
        "data_folder = '../../results/data/'"
      ]
    },
    {
      "cell_type": "markdown",
      "metadata": {},
      "source": [
        "Setting some parameters at the beginning for better visibility"
      ]
    },
    {
      "cell_type": "code",
      "execution_count": 9,
      "metadata": {
        "collapsed": false
      },
      "outputs": [],
      "source": [
        "data_to_produce = 'variance vs qubits'\n",
        "# data_to_produce = 'variance vs layers'\n",
        "\n",
        "# General parameters:\n",
        "num_samples = 200\n",
        "layers_list = [1, 2, 5]         # [1, 2, 5, 10, 20, 50]\n",
        "# If data_to_produce == 'variance vs qubits'\n",
        "qubits_list = [2, 4]               # [2, 3, 4, 5, 6]\n",
        "lambda_scaling = 0.5                        # w.r.t. λ_max\n",
        "# If data_to_produce == 'variance vs layers'\n",
        "qubit_number = 2\n",
        "locality = qubit_number\n",
        "lambda_max = (locality - 1) / (4 * locality)\n",
        "lambda_list = [2**(-p)*lambda_max for p in range(4)]"
      ]
    },
    {
      "cell_type": "code",
      "execution_count": 10,
      "metadata": {},
      "outputs": [],
      "source": [
        "def generate_gradients_vs_qubits(layer_list, qubit_list, circuit):\n",
        "    with open(data_folder + '{}_{}_{}qubits_{}layers_{}lambda_{}samples.dat'\n",
        "              .format(datetime.datetime.now().strftime(\"%y%m%d\"), circuit.__name__, \n",
        "                      qubit_list[-1], layer_list[-1], lambda_scaling, num_samples), 'w') as of:\n",
        "        of.write('# layers\\t# qubits\\tgradients')\n",
        "\n",
        "        for num_layers in layer_list:\n",
        "            print(num_layers, \" layers\")\n",
        "            #TODO: change to progress bar\n",
        "\n",
        "            for num_qubits in qubit_list:\n",
        "                print(num_qubits, \" qubits\")\n",
        "                #TODO: change to progress bar\n",
        "\n",
        "                # write a new line\n",
        "                of.write('\\n{}\\t{}'.format(num_layers, num_qubits))\n",
        "\n",
        "                for _ in range(num_samples):\n",
        "                    if circuit == gadget2_circuit:\n",
        "                        # Generating the random values for the rotations\n",
        "                        params = np.random.uniform(0, np.pi, size=(num_layers, 2*num_qubits))\n",
        "                        dev = qml.device(\"default.qubit\", wires=range(2*num_qubits))    # /!\\ only for r=1, k=n, k'=2\n",
        "                    elif circuit == gadget3_circuit:\n",
        "                        assert num_qubits % 2 == 0, \"3-local gadget decomposition only implemented for even qubit numbers\"\n",
        "                        params = np.random.uniform(0, np.pi, size=(num_layers, int(1.5*num_qubits)))\n",
        "                        dev = qml.device(\"default.qubit\", wires=range(int(1.5*num_qubits)))    # /!\\ only for r=1, k=n, k'=3\n",
        "                    else:\n",
        "                        params = np.random.uniform(0, np.pi, size=(num_layers, num_qubits))\n",
        "                        dev = qml.device(\"default.qubit\", wires=range(num_qubits))\n",
        "                    qcircuit = qml.QNode(circuit, dev)\n",
        "\n",
        "                    # Calculating the value of lambda to use\n",
        "                    k = num_qubits\n",
        "                    lambda_max = (k - 1) / (4 * k)\n",
        "                    lambda_value = lambda_scaling * lambda_max\n",
        "\n",
        "                    # Calculating the gradients of the cost function w.r.t the parameters\n",
        "                    gradient = qml.grad(cost_function)(qcircuit, params, circuit_type=circuit, num_qubits=num_qubits, lam=lambda_value)\n",
        "\n",
        "                    # Write each newly calculated value (innefficient?)\n",
        "                    of.write('\\t{}'.format(gradient[0][0]))\n",
        "                    \n",
        "                # End file with one last line-break\n",
        "                of.write('\\n')\n"
      ]
    },
    {
      "cell_type": "code",
      "execution_count": 11,
      "metadata": {},
      "outputs": [],
      "source": [
        "def generate_gradients_vs_layers(layer_list, lambda_list, qubit_number, circuit):\n",
        "    assert(np.size(qubit_number) == 1)\n",
        "    with open('../../results/data/{}_{}_{}qubits_{}layers_{}samples.dat'\n",
        "              .format(datetime.datetime.now().strftime(\"%y%m%d\"), circuit.__name__, \n",
        "                      qubit_number, layer_list[-1], num_samples), 'w') as of:\n",
        "        of.write('# layers\\tlambda\\tgradients for {} qubits'.format(qubit_number))\n",
        "        num_qubits = qubit_number\n",
        "\n",
        "        for num_layers in layer_list:\n",
        "            print(num_layers, \" layers\")\n",
        "\n",
        "            for lam in lambda_list:\n",
        "\n",
        "                # write a new line\n",
        "                of.write('\\n{}\\t{}'.format(num_layers, lam))\n",
        "\n",
        "                for _ in range(num_samples):\n",
        "                    if circuit != gadget2_circuit:\n",
        "                        dev = qml.device(\"default.qubit\", wires=range(num_qubits))\n",
        "                    else:\n",
        "                        dev = qml.device(\"default.qubit\", wires=range(2*num_qubits))    # /!\\ only for r=1, k=n, k'=2\n",
        "                    qcircuit = qml.QNode(circuit, dev)\n",
        "\n",
        "                    params = np.random.uniform(0, np.pi, size=(num_layers, num_qubits))\n",
        "\n",
        "                    gradient = qml.grad(cost_function)(qcircuit, params, circuit==gadget2_circuit, num_qubits, lam=lam)\n",
        "\n",
        "                    # Write each newly calculated value (innefficient?)\n",
        "                    of.write('\\t{}'.format(gradient[0][0]))\n",
        "                    \n",
        "                # End file with one last line-break\n",
        "                of.write('\\n')\n"
      ]
    },
    {
      "cell_type": "code",
      "execution_count": 12,
      "metadata": {},
      "outputs": [
        {
          "name": "stdout",
          "output_type": "stream",
          "text": [
            "2-local gadget circuit: \n",
            "1  layers\n",
            "2  qubits\n",
            "4  qubits\n",
            "2  layers\n",
            "2  qubits\n",
            "4  qubits\n",
            "5  layers\n",
            "2  qubits\n",
            "4  qubits\n",
            "3-local gadget circuit: \n",
            "1  layers\n",
            "2  qubits\n",
            "4  qubits\n",
            "2  layers\n",
            "2  qubits\n",
            "4  qubits\n",
            "5  layers\n",
            "2  qubits\n",
            "4  qubits\n"
          ]
        }
      ],
      "source": [
        "if data_to_produce == 'variance vs qubits':\n",
        "    # print(\"Global circuit: \")\n",
        "    # generate_gradients_vs_qubits(layers_list, qubits_list, global_circuit)\n",
        "    # print(\"Local circuit: \")\n",
        "    # generate_gradients_vs_qubits(layers_list, qubits_list, local_circuit)\n",
        "    print(\"2-local gadget circuit: \")\n",
        "    generate_gradients_vs_qubits(layers_list, qubits_list, gadget2_circuit)\n",
        "    print(\"3-local gadget circuit: \")\n",
        "    generate_gradients_vs_qubits(layers_list, qubits_list, gadget3_circuit)\n",
        "elif data_to_produce == 'variance vs layers':\n",
        "    generate_gradients_vs_layers(layers_list, lambda_list, qubit_number, gadget2_circuit)"
      ]
    },
    {
      "cell_type": "code",
      "execution_count": null,
      "metadata": {},
      "outputs": [],
      "source": []
    }
  ],
  "metadata": {
    "kernelspec": {
      "display_name": "Python 3",
      "language": "python",
      "name": "python3"
    },
    "language_info": {
      "codemirror_mode": {
        "name": "ipython",
        "version": 3
      },
      "file_extension": ".py",
      "mimetype": "text/x-python",
      "name": "python",
      "nbconvert_exporter": "python",
      "pygments_lexer": "ipython3",
      "version": "3.8.5"
    }
  },
  "nbformat": 4,
  "nbformat_minor": 0
}
