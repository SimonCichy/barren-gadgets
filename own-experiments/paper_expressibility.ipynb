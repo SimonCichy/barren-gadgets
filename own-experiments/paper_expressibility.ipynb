{
  "cells": [
    {
      "cell_type": "code",
      "execution_count": 9,
      "metadata": {
        "collapsed": false
      },
      "outputs": [],
      "source": [
        "%matplotlib inline"
      ]
    },
    {
      "cell_type": "markdown",
      "metadata": {},
      "source": [
        "Expressibility-trainability tradeoff {#barren_plateaus}\n",
        "==========================================\n",
        "\n",
        "*Author: Cichy Simon (simon.cichy\\@vertrauen.pro).\n",
        "\n",
        "Reproducing some of the results presented in Holmes et al. (2021)  \n",
        "Based on the demo on Barren plateaus in quantum neural networks  \n",
        "With further inspiration from the demo on the Variational classifier  \n",
        "\n",
        "Exploring the barren plateau problem with PennyLane\n",
        "---------------------------------------------------\n",
        "\n",
        "First, we import PennyLane, NumPy, and Matplotlib\n"
      ]
    },
    {
      "cell_type": "code",
      "execution_count": 10,
      "metadata": {
        "collapsed": false
      },
      "outputs": [],
      "source": [
        "import pennylane as qml\n",
        "from pennylane import numpy as np\n",
        "import matplotlib.pyplot as plt"
      ]
    },
    {
      "cell_type": "markdown",
      "metadata": {},
      "source": [
        "Defining the random circuit that will be used to observe the Barren plateau phenomenon. \n",
        "Starting with a hardware efficient ansatz with a variable number of layers."
      ]
    },
    {
      "cell_type": "code",
      "execution_count": 11,
      "metadata": {
        "collapsed": false
      },
      "outputs": [],
      "source": [
        "# Set a seed for reproducibility\n",
        "np.random.seed(42)\n",
        "\n",
        "\n",
        "def rand_circuit(params, random_gate_sequence=None, num_qubits=None, num_layers=None):\n",
        "    \"\"\"A random variational quantum circuit.\n",
        "\n",
        "    Args:\n",
        "        params (array[float]): array of parameters\n",
        "        random_gate_sequence (dict): a dictionary of random gates\n",
        "        num_qubits (int): the number of qubits in the circuit\n",
        "\n",
        "    Returns:\n",
        "        float: the expectation value of the target observable\n",
        "    \"\"\"\n",
        "    # Initial rotations on all qubits\n",
        "    for i in range(num_qubits):             # rotate all qubits\n",
        "        qml.RY(np.pi / 4, wires=i)          # \"to prevent X, Y , or Z from being an especially preferential \n",
        "                                            # direction with respect to gradients.\"\n",
        "\n",
        "    # Repeating a layer structure\n",
        "    for l in range(num_layers):\n",
        "        # Single random gate layer (single qubit rotations)\n",
        "        for i in range(num_qubits):\n",
        "            random_gate_sequence[l][i](params[l][i], wires=i)\n",
        "        # Nearest neighbour controlled phase gates\n",
        "        if num_qubits > 1:                          # no entangling gates if using a single qubit\n",
        "            for i in range(num_qubits - 1):\n",
        "                qml.CZ(wires=[i, i + 1])\n",
        "            if num_qubits > 2:                      # avoid 2 CZ gates on the same wires\n",
        "                qml.CZ(wires=[num_qubits-1, 0])\n",
        "\n",
        "    # Objective operator H = Z_1 Z_2\n",
        "    H = np.zeros((2 ** num_qubits, 2 ** num_qubits))\n",
        "    H[0, 0] = 1                                         # why? Does it correspond to the paper?\n",
        "    wirelist = [i for i in range(num_qubits)]\n",
        "    return qml.expval(qml.Hermitian(H, wirelist))       # How does that work?"
      ]
    },
    {
      "cell_type": "markdown",
      "metadata": {},
      "source": [
        "Evaluate the gradient for more qubits\n",
        "=====================================\n",
        "\n",
        "We can repeat the above analysis with increasing number of qubits.\n"
      ]
    },
    {
      "cell_type": "code",
      "execution_count": 27,
      "metadata": {
        "collapsed": false
      },
      "outputs": [
        {
          "name": "stdout",
          "output_type": "stream",
          "text": [
            "2  layers\n"
          ]
        },
        {
          "data": {
            "image/png": "[encoded data removed]",
            "text/plain": [
              "<Figure size 432x288 with 1 Axes>"
            ]
          },
          "metadata": {
            "needs_background": "light"
          },
          "output_type": "display_data"
        }
      ],
      "source": [
        "num_samples = 200\n",
        "gate_set = [qml.RX, qml.RY, qml.RZ]\n",
        "qubits = [2, 3, 4, 5, 6]\n",
        "layers = [2]\n",
        "colours = ['#6f45d8', '#4547d8', '#45ccd8', '#45d859', '#c2d845', '#d89d45', '#d85645']\n",
        "\n",
        "\n",
        "for num_layers in layers:\n",
        "    variances = [[],[]]\n",
        "    print(num_layers, \" layers\")\n",
        "\n",
        "    for num_qubits in qubits:\n",
        "        grad_vals = [[],[]]\n",
        "\n",
        "        for i in range(num_samples):\n",
        "            dev = qml.device(\"default.qubit\", wires=num_qubits)\n",
        "            qcircuit = qml.QNode(rand_circuit, dev)\n",
        "            grad = qml.grad(qcircuit, argnum=0)\n",
        "\n",
        "            random_gate_sequence = [[np.random.choice(gate_set) for _ in range(num_qubits)] for _ in range(num_layers)]\n",
        "            params = np.random.uniform(0, np.pi, size=(num_layers, num_qubits))\n",
        "\n",
        "            gradient = grad(\n",
        "                params, random_gate_sequence=random_gate_sequence, num_qubits=num_qubits, num_layers=num_layers\n",
        "            )\n",
        "            grad_vals[0].append(gradient[0][0])\n",
        "            grad_vals[1].append(gradient[-1][-1])\n",
        "        variances[0].append(np.var(grad_vals[0]))\n",
        "        variances[1].append(np.var(grad_vals[1]))\n",
        "\n",
        "\n",
        "    variances = np.array(variances)\n",
        "    qubits = np.array(qubits)\n",
        "\n",
        "    # Fit the semilog plot to a straight line\n",
        "    p1 = np.polyfit(qubits, np.log(variances[0]), 1)\n",
        "    p2 = np.polyfit(qubits, np.log(variances[1]), 1)\n",
        "\n",
        "    # Plot the straight line fit to the semilog\n",
        "    plt.semilogy(qubits, np.exp(p1[0] * qubits + p1[1]), \"-.\", c=colours[0])\n",
        "    plt.semilogy(qubits, np.exp(p2[0] * qubits + p2[1]), \"-.\", c=colours[0], alpha=0.3)\n",
        "    plt.semilogy(qubits, variances[0], \"o\", c=colours[0], label=\"{} layers - slope {:3.2f}\".format(num_layers, p1[0]))\n",
        "    plt.semilogy(qubits, variances[1], \"o\", c=colours[0], alpha=0.3, label=\"{} layers - slope {:3.2f}\".format(num_layers, p2[0]))\n",
        "\n",
        "\n",
        "plt.xlabel(r\"N Qubits\")\n",
        "plt.ylabel(r\"$\\langle \\partial \\theta_{1, 1} E\\rangle$ variance\")\n",
        "plt.legend()\n",
        "plt.show()"
      ]
    },
    {
      "cell_type": "markdown",
      "metadata": {},
      "source": [
        "References\n",
        "==========\n",
        "\n",
        "1.  McClean, Jarrod R., et al., Barren plateaus in quantum neural\n",
        "    network training landscapes. Nature communications 9.1 (2018): 4812.\n",
        "2.  Holmes, Zoë, et al., Connecting ansatz expressibility to gradient \n",
        "    magnitudes and barren plateaus. arXiv:2101.02138\n",
        "3.  Shahawaz, Ahmed, Barren plateaus in quantum neural networks \n",
        "    (https://pennylane.ai/qml/demos/tutorial_barren_plateaus.html)\n",
        "4.  PennyLane dev team, Variational Calssifier \n",
        "    (https://pennylane.ai/qml/demos/tutorial_variational_classifier.html#fitting-the-parity-function)\n",
        "\n"
      ]
    }
  ],
  "metadata": {
    "kernelspec": {
      "display_name": "Python 3",
      "language": "python",
      "name": "python3"
    },
    "language_info": {
      "codemirror_mode": {
        "name": "ipython",
        "version": 3
      },
      "file_extension": ".py",
      "mimetype": "text/x-python",
      "name": "python",
      "nbconvert_exporter": "python",
      "pygments_lexer": "ipython3",
      "version": "3.8.5"
    }
  },
  "nbformat": 4,
  "nbformat_minor": 0
}
