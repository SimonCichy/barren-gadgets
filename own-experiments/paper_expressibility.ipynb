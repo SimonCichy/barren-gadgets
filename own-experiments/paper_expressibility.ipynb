{
  "cells": [
    {
      "cell_type": "code",
      "execution_count": 22,
      "metadata": {
        "collapsed": false
      },
      "outputs": [],
      "source": [
        "%matplotlib inline"
      ]
    },
    {
      "cell_type": "markdown",
      "metadata": {},
      "source": [
        "Expressibility-trainability tradeoff {#barren_plateaus}\n",
        "==========================================\n",
        "\n",
        "*Author: Cichy Simon (simon.cichy\\@vertrauen.pro).\n",
        "\n",
        "Reproducing some of the results presented in Holmes et al. (2021)  \n",
        "Based on the demo on Barren plateaus in quantum neural networks  \n",
        "With further inspiration from the demo on the Variational classifier  \n",
        "\n",
        "Exploring the barren plateau problem with PennyLane\n",
        "---------------------------------------------------\n",
        "\n",
        "First, we import PennyLane, NumPy, and Matplotlib\n"
      ]
    },
    {
      "cell_type": "code",
      "execution_count": 23,
      "metadata": {
        "collapsed": false
      },
      "outputs": [],
      "source": [
        "import pennylane as qml\n",
        "from pennylane import numpy as np\n",
        "import matplotlib.pyplot as plt\n",
        "import datetime"
      ]
    },
    {
      "cell_type": "markdown",
      "metadata": {},
      "source": [
        "Setting some parameters of the simulations"
      ]
    },
    {
      "cell_type": "code",
      "execution_count": 24,
      "metadata": {},
      "outputs": [],
      "source": [
        "# Set a seed for reproducibility\n",
        "np.random.seed(42)\n",
        "num_samples = 1000\n",
        "\n",
        "qubits = [2, 3, 4, 5, 6]\n",
        "layers = [1, 2, 5, 10, 20, 50]\n",
        "colours = ['#6f45d8', '#4547d8', '#45ccd8', '#45d859', '#c2d845', '#d89d45', '#d85645']"
      ]
    },
    {
      "cell_type": "markdown",
      "metadata": {},
      "source": [
        "Plotting function"
      ]
    },
    {
      "cell_type": "code",
      "execution_count": 25,
      "metadata": {},
      "outputs": [],
      "source": [
        "def plot_gradients(layer_list, qubit_list, circuit):\n",
        "    for nl, num_layers in enumerate(layer_list):\n",
        "        variances = []\n",
        "        print(num_layers, \" layers\")\n",
        "\n",
        "        for num_qubits in qubit_list:\n",
        "            grad_vals = []\n",
        "            print(num_qubits, \" qubits\")\n",
        "\n",
        "            for _ in range(num_samples):\n",
        "                dev = qml.device(\"default.qubit\", wires=range(num_qubits))\n",
        "                qcircuit = qml.QNode(circuit, dev)\n",
        "\n",
        "                params = np.random.uniform(0, np.pi, size=(num_layers, num_qubits))\n",
        "\n",
        "                gradient = qml.grad(qcircuit)(params)\n",
        "                grad_vals.append(gradient[0][0])\n",
        "            variances.append(np.var(grad_vals))\n",
        "\n",
        "        variances = np.array(variances)\n",
        "        qubits = np.array(qubit_list)\n",
        "\n",
        "        if circuit == global_circuit:\n",
        "            # Fit the semilog plot to a straight line\n",
        "            p1 = np.polyfit(qubits, np.log(variances), 1)\n",
        "            # Plot the straight line fit to the semilog\n",
        "            plt.semilogy(qubits, np.exp(p1[0] * qubits + p1[1]), \"-.\", c=colours[nl])\n",
        "            plt.semilogy(qubits, variances, \"o\", c=colours[nl], label=\"{} layers - slope {:3.2f}\".format(num_layers, p1[0]))\n",
        "        else:\n",
        "            plt.semilogy(qubits, variances, \"--o\", c=colours[nl], label=\"{} layers\".format(num_layers))\n",
        "\n",
        "    plt.xlabel(r\"N Qubits\")\n",
        "    plt.ylabel(r\"$\\langle \\partial \\theta_{1, 1} E\\rangle$ variance\")\n",
        "    plt.legend()\n",
        "    plt.show()"
      ]
    },
    {
      "cell_type": "code",
      "execution_count": 26,
      "metadata": {},
      "outputs": [],
      "source": [
        "def generate_gradients(layer_list, qubit_list, circuit):\n",
        "    with open('../../results/data/{}_{}_{}qubits_{}layers_{}samples.dat'\n",
        "              .format(datetime.datetime.now().strftime(\"%y%m%d\"), circuit.__name__, \n",
        "                      qubit_list[-1], layer_list[-1], num_samples), 'w') as of:\n",
        "        of.write('# layers\\t# qubits\\tgradients')\n",
        "\n",
        "        for nl, num_layers in enumerate(layer_list):\n",
        "            variances = []\n",
        "            print(num_layers, \" layers\")\n",
        "\n",
        "            for num_qubits in qubit_list:\n",
        "                grad_vals = []\n",
        "                print(num_qubits, \" qubits\")\n",
        "\n",
        "                # write a new line\n",
        "                of.write('\\n{}\\t{}'.format(num_layers, num_qubits))\n",
        "\n",
        "                for _ in range(num_samples):\n",
        "                    dev = qml.device(\"default.qubit\", wires=range(num_qubits))\n",
        "                    qcircuit = qml.QNode(circuit, dev)\n",
        "\n",
        "                    params = np.random.uniform(0, np.pi, size=(num_layers, num_qubits))\n",
        "\n",
        "                    gradient = qml.grad(qcircuit)(params)\n",
        "\n",
        "                    # Write each newly calculated value (innefficient?)\n",
        "                    of.write('\\t{}'.format(gradient[0][0]))\n",
        "                    \n",
        "                # End file with one last line-break\n",
        "                of.write('\\n')\n"
      ]
    },
    {
      "cell_type": "markdown",
      "metadata": {},
      "source": [
        "Ansatz definition"
      ]
    },
    {
      "cell_type": "markdown",
      "metadata": {},
      "source": [
        "Global cost function\n",
        "=========================================="
      ]
    },
    {
      "cell_type": "markdown",
      "metadata": {},
      "source": [
        "Defining the random circuit that will be used to observe the Barren plateau phenomenon. \n",
        "Starting with a hardware efficient ansatz with a variable number of layers."
      ]
    },
    {
      "cell_type": "code",
      "execution_count": 27,
      "metadata": {
        "collapsed": false
      },
      "outputs": [],
      "source": [
        "def global_circuit(params):\n",
        "    \"\"\"A random variational quantum circuit.\n",
        "\n",
        "    Args:\n",
        "        params (array[array[float]]): array of parameters of dimension (num_layers, num_qubits) containing the rotation angles\n",
        "\n",
        "    Returns:\n",
        "        float: the expectation value of the target observable\n",
        "    \"\"\"\n",
        "    # Relevant parameters\n",
        "    assert(len(np.shape(params)) == 2)      # check proper dimensions of params\n",
        "    num_layers = np.shape(params)[0]        # np.shape(params) = (num_layers, num_qubits)\n",
        "    num_qubits = np.shape(params)[1]\n",
        "    \n",
        "    # Generating the gate sequence from randomly applying RX, RY or RZ with the corresponding rotation angle\n",
        "    gate_set = [qml.RX, qml.RY, qml.RZ]\n",
        "    random_gate_sequence = [[np.random.choice(gate_set) for _ in range(num_qubits)] for _ in range(num_layers)]\n",
        "\n",
        "    # Initial rotations on all qubits\n",
        "    for i in range(num_qubits):             # rotate all qubits\n",
        "        qml.RY(np.pi / 4, wires=i)          # \"to prevent X, Y , or Z from being an especially preferential \n",
        "                                            # direction with respect to gradients.\"\n",
        "\n",
        "    # Repeating a layer structure\n",
        "    for l in range(num_layers):\n",
        "        # Single random gate layer (single qubit rotations)\n",
        "        for i in range(num_qubits):\n",
        "            random_gate_sequence[l][i](params[l][i], wires=i)\n",
        "        # Nearest neighbour controlled phase gates\n",
        "        # use qml.broadcast(qml.CZ, wires=range(wires), pattern=\"ring\") ?\n",
        "        if num_qubits > 1:                          # no entangling gates if using a single qubit\n",
        "            for i in range(num_qubits - 1):\n",
        "                qml.CZ(wires=[i, i + 1])\n",
        "            if num_qubits > 2:                      # avoid 2 CZ gates on the same wires\n",
        "                qml.CZ(wires=[num_qubits-1, 0])\n",
        "\n",
        "    # Objective operator H = Z_1 Z_2 ... Z_n\n",
        "    H = qml.PauliZ(0)\n",
        "    for qubit in range(num_qubits-1):\n",
        "        H = H @ qml.PauliZ(qubit + 1)\n",
        "    return qml.expval(H)"
      ]
    },
    {
      "cell_type": "code",
      "execution_count": 28,
      "metadata": {},
      "outputs": [
        {
          "name": "stdout",
          "output_type": "stream",
          "text": [
            "1  layers\n",
            "2  qubits\n",
            "3  qubits\n",
            "4  qubits\n",
            "5  qubits\n",
            "6  qubits\n",
            "2  layers\n",
            "2  qubits\n",
            "3  qubits\n",
            "4  qubits\n",
            "5  qubits\n",
            "6  qubits\n",
            "5  layers\n",
            "2  qubits\n",
            "3  qubits\n",
            "4  qubits\n",
            "5  qubits\n",
            "6  qubits\n",
            "10  layers\n",
            "2  qubits\n",
            "3  qubits\n",
            "4  qubits\n",
            "5  qubits\n",
            "6  qubits\n",
            "20  layers\n",
            "2  qubits\n",
            "3  qubits\n",
            "4  qubits\n",
            "5  qubits\n",
            "6  qubits\n",
            "50  layers\n",
            "2  qubits\n",
            "3  qubits\n"
          ]
        }
      ],
      "source": [
        "generate_gradients(layers, qubits, global_circuit)"
      ]
    },
    {
      "cell_type": "markdown",
      "metadata": {},
      "source": [
        "Evaluating the gradients with increasing number of qubits.\n"
      ]
    },
    {
      "cell_type": "code",
      "execution_count": null,
      "metadata": {},
      "outputs": [
        {
          "name": "stdout",
          "output_type": "stream",
          "text": [
            "1  layers\n",
            "2  layers\n",
            "5  layers\n",
            "10  layers\n",
            "20  layers\n",
            "50  layers\n"
          ]
        },
        {
          "data": {
            "image/png": "[encoded data removed]",
            "text/plain": [
              "<Figure size 432x288 with 1 Axes>"
            ]
          },
          "metadata": {
            "needs_background": "light"
          },
          "output_type": "display_data"
        }
      ],
      "source": [
        "# plot_gradients(layers, qubits, global_circuit)"
      ]
    },
    {
      "cell_type": "markdown",
      "metadata": {},
      "source": [
        "Local cost function\n",
        "==========================================\n",
        "\n",
        "Repeating a similar analysis with a local cost function (measuring only 2 qubits)"
      ]
    },
    {
      "cell_type": "code",
      "execution_count": null,
      "metadata": {},
      "outputs": [],
      "source": [
        "def local_circuit(params):\n",
        "    \"\"\"A random variational quantum circuit.\n",
        "\n",
        "    Args:\n",
        "        params (array[array[float]]): array of parameters of dimension (num_layers, num_qubits) containing the rotation angles\n",
        "\n",
        "    Returns:\n",
        "        float: the expectation value of the target observable\n",
        "    \"\"\"\n",
        "    # Relevant parameters\n",
        "    assert(len(np.shape(params)) == 2)      # check proper dimensions of params\n",
        "    num_layers = np.shape(params)[0]        # np.shape(params) = (num_layers, num_qubits)\n",
        "    num_qubits = np.shape(params)[1]\n",
        "    \n",
        "    # Generating the gate sequence from randomly applying RX, RY or RZ with the corresponding rotation angle\n",
        "    gate_set = [qml.RX, qml.RY, qml.RZ]\n",
        "    random_gate_sequence = [[np.random.choice(gate_set) for _ in range(num_qubits)] for _ in range(num_layers)]\n",
        "\n",
        "    # Initial rotations on all qubits\n",
        "    for i in range(num_qubits):             # rotate all qubits\n",
        "        qml.RY(np.pi / 4, wires=i)          # \"to prevent X, Y , or Z from being an especially preferential \n",
        "                                            # direction with respect to gradients.\"\n",
        "\n",
        "    # Repeating a layer structure\n",
        "    for l in range(num_layers):\n",
        "        # Single random gate layer (single qubit rotations)\n",
        "        for i in range(num_qubits):\n",
        "            random_gate_sequence[l][i](params[l][i], wires=i)\n",
        "        # Nearest neighbour controlled phase gates\n",
        "        if num_qubits > 1:                          # no entangling gates if using a single qubit\n",
        "            for i in range(num_qubits - 1):\n",
        "                qml.CZ(wires=[i, i + 1])\n",
        "            if num_qubits > 2:                      # avoid 2 CZ gates on the same wires\n",
        "                qml.CZ(wires=[num_qubits-1, 0])\n",
        "\n",
        "    # Objective operator H = Z_1 Z_2\n",
        "    return qml.expval(qml.PauliZ(0) @ qml.PauliZ(1))"
      ]
    },
    {
      "cell_type": "code",
      "execution_count": null,
      "metadata": {},
      "outputs": [],
      "source": [
        "generate_gradients(layers, qubits, local_circuit)"
      ]
    },
    {
      "cell_type": "code",
      "execution_count": null,
      "metadata": {},
      "outputs": [
        {
          "name": "stdout",
          "output_type": "stream",
          "text": [
            "1  layers\n",
            "2  layers\n",
            "5  layers\n",
            "10  layers\n",
            "20  layers\n",
            "50  layers\n"
          ]
        },
        {
          "data": {
            "image/png": "[encoded data removed]",
            "text/plain": [
              "<Figure size 432x288 with 1 Axes>"
            ]
          },
          "metadata": {
            "needs_background": "light"
          },
          "output_type": "display_data"
        }
      ],
      "source": [
        "# plot_gradients(layers, qubits, local_circuit)"
      ]
    },
    {
      "cell_type": "markdown",
      "metadata": {},
      "source": [
        "References\n",
        "==========\n",
        "\n",
        "1.  McClean, Jarrod R., et al., Barren plateaus in quantum neural\n",
        "    network training landscapes. Nature communications 9.1 (2018): 4812.\n",
        "2.  Holmes, Zoë, et al., Connecting ansatz expressibility to gradient \n",
        "    magnitudes and barren plateaus. arXiv:2101.02138\n",
        "3.  Shahawaz, Ahmed, Barren plateaus in quantum neural networks \n",
        "    (https://pennylane.ai/qml/demos/tutorial_barren_plateaus.html)\n",
        "4.  PennyLane dev team, Variational Calssifier \n",
        "    (https://pennylane.ai/qml/demos/tutorial_variational_classifier.html#fitting-the-parity-function)\n",
        "\n"
      ]
    }
  ],
  "metadata": {
    "kernelspec": {
      "display_name": "Python 3",
      "language": "python",
      "name": "python3"
    },
    "language_info": {
      "codemirror_mode": {
        "name": "ipython",
        "version": 3
      },
      "file_extension": ".py",
      "mimetype": "text/x-python",
      "name": "python",
      "nbconvert_exporter": "python",
      "pygments_lexer": "ipython3",
      "version": "3.8.5"
    }
  },
  "nbformat": 4,
  "nbformat_minor": 0
}
