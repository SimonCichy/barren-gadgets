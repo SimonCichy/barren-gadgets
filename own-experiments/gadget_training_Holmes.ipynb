{
 "cells": [
  {
   "cell_type": "code",
   "execution_count": 10,
   "metadata": {},
   "outputs": [],
   "source": [
    "%matplotlib inline"
   ]
  },
  {
   "cell_type": "markdown",
   "metadata": {},
   "source": [
    "Comparison of training a hardware efficient ansatz with a global cost function and the gadget equivalent"
   ]
  },
  {
   "cell_type": "markdown",
   "metadata": {},
   "source": [
    "Necessary imports"
   ]
  },
  {
   "cell_type": "code",
   "execution_count": 11,
   "metadata": {},
   "outputs": [],
   "source": [
    "import pennylane as qml\n",
    "from pennylane import numpy as np\n",
    "import matplotlib.pyplot as plt\n",
    "import datetime\n",
    "\n",
    "from gadget_utils import hardware_efficient_ansatz, cat_state_preparation\n",
    "\n",
    "np.random.seed(42)"
   ]
  },
  {
   "cell_type": "markdown",
   "metadata": {},
   "source": [
    "Defining the relevant parameters of the simulation"
   ]
  },
  {
   "cell_type": "code",
   "execution_count": 12,
   "metadata": {},
   "outputs": [],
   "source": [
    "computational_qubits = 4\n",
    "ancillary_qubits = 4\n",
    "num_layers = 2\n",
    "max_iter = 500\n",
    "# num_samples = 200\n",
    "perturbation_factor = 0.5\n",
    "locality = computational_qubits\n",
    "lambda_max = (locality - 1) / (4 * locality)\n",
    "gate_set = [qml.RX, qml.RY, qml.RZ]"
   ]
  },
  {
   "cell_type": "markdown",
   "metadata": {},
   "source": [
    "Global cost function\n",
    "--------"
   ]
  },
  {
   "cell_type": "markdown",
   "metadata": {},
   "source": [
    "creating the quantum device with the right number of qubits"
   ]
  },
  {
   "cell_type": "code",
   "execution_count": 13,
   "metadata": {},
   "outputs": [],
   "source": [
    "dev_comp = qml.device(\"default.qubit\", wires=range(computational_qubits))"
   ]
  },
  {
   "cell_type": "markdown",
   "metadata": {},
   "source": [
    "creating the qunode using the imported methods"
   ]
  },
  {
   "cell_type": "code",
   "execution_count": 14,
   "metadata": {},
   "outputs": [],
   "source": [
    "def computational_circuit(angles, gate_sequence, measured_qubits):\n",
    "    assert(len(np.shape(angles)) == 2)                  # check proper dimensions of params\n",
    "    total_qubits = np.shape(angles)[1]\n",
    "    if total_qubits > measured_qubits:\n",
    "        # /!\\ keep the 'ancillary_qubits = ' (has to be a keyword argument)\n",
    "        cat_state_preparation(ancillary_qubits = range(measured_qubits, total_qubits, 1))\n",
    "    hardware_efficient_ansatz(angles, gate_sequence=gate_sequence)\n",
    "    H = qml.PauliZ(0)\n",
    "    for qubit in range(measured_qubits-1):\n",
    "        H = H @ qml.PauliZ(qubit + 1)\n",
    "    return qml.expval(H)\n",
    "\n",
    "computational_qnode = qml.QNode(computational_circuit, dev_comp)"
   ]
  },
  {
   "cell_type": "markdown",
   "metadata": {},
   "source": [
    "(defining the cost function)"
   ]
  },
  {
   "cell_type": "code",
   "execution_count": 15,
   "metadata": {},
   "outputs": [],
   "source": [
    "def computational_cost_function(angles, gate_sequence, computational_qubits):\n",
    "    return computational_qnode(angles, gate_sequence, computational_qubits)"
   ]
  },
  {
   "cell_type": "markdown",
   "metadata": {},
   "source": [
    "Choosing an optimizer"
   ]
  },
  {
   "cell_type": "code",
   "execution_count": 16,
   "metadata": {},
   "outputs": [],
   "source": [
    "opt = qml.GradientDescentOptimizer(stepsize=0.1)"
   ]
  },
  {
   "cell_type": "markdown",
   "metadata": {},
   "source": [
    "Initializing the parameters"
   ]
  },
  {
   "cell_type": "code",
   "execution_count": 17,
   "metadata": {},
   "outputs": [],
   "source": [
    "weights_init = np.random.uniform(0, np.pi, size=(num_layers, computational_qubits), requires_grad=True)\n",
    "random_gate_sequence = [[np.random.choice(gate_set) for _ in range(computational_qubits)] for _ in range(num_layers)]\n",
    "cost_computational = [computational_cost_function(weights_init, random_gate_sequence, computational_qubits)]"
   ]
  },
  {
   "cell_type": "markdown",
   "metadata": {},
   "source": [
    "Optimization loop"
   ]
  },
  {
   "cell_type": "code",
   "execution_count": 18,
   "metadata": {},
   "outputs": [
    {
     "name": "stdout",
     "output_type": "stream",
     "text": [
      "Iteration =     1 | Cost function =  0.38768563\n",
      "Iteration =    51 | Cost function = -0.58594696\n",
      "Iteration =   101 | Cost function = -0.99054813\n",
      "Iteration =   151 | Cost function = -0.99883764\n",
      "Iteration =   201 | Cost function = -0.99985651\n",
      "Iteration =   251 | Cost function = -0.99998229\n",
      "Iteration =   301 | Cost function = -0.99999781\n",
      "Iteration =   351 | Cost function = -0.99999973\n",
      "Iteration =   401 | Cost function = -0.99999997\n",
      "Iteration =   451 | Cost function = -1.00000000\n"
     ]
    }
   ],
   "source": [
    "weights = weights_init\n",
    "for it in range(max_iter):\n",
    "    # /!\\ keyword arguments are not trained? don't know why but don't remove the 'computational_qubits='\n",
    "    # keyword arguments are not wrapped https://discuss.pennylane.ai/t/wire-error-on-ibm-simulator/1282\n",
    "    weights = opt.step(computational_cost_function, weights, gate_sequence=random_gate_sequence, computational_qubits=computational_qubits)\n",
    "    cost_computational.append(computational_cost_function(weights, random_gate_sequence, computational_qubits))\n",
    "    # opt.update_stepsize(stepsize)\n",
    "    if it % 50 == 0:\n",
    "        print(\"Iteration = {:5d} | Cost function = {: .8f}\".format(it+1, cost_computational[-1]))\n"
   ]
  },
  {
   "cell_type": "markdown",
   "metadata": {},
   "source": [
    "Saving and plotting the results"
   ]
  },
  {
   "cell_type": "code",
   "execution_count": 19,
   "metadata": {},
   "outputs": [],
   "source": [
    "with open('../../results/data/{}_training_global_{}qubits_{}layers_{}iterations.dat'\n",
    "            .format(datetime.datetime.now().strftime(\"%y%m%d\"),\n",
    "                    computational_qubits, num_layers, max_iter), 'w') as of:\n",
    "    of.write('# iteration\\tcost\\n')\n",
    "\n",
    "    for it in range(max_iter+1):\n",
    "        of.write('{}\\t{}\\n'.format(it, cost_computational[it]))"
   ]
  },
  {
   "cell_type": "code",
   "execution_count": 20,
   "metadata": {},
   "outputs": [
    {
     "data": {
      "image/png": "[encoded data removed]",
      "text/plain": [
       "<Figure size 432x288 with 1 Axes>"
      ]
     },
     "metadata": {
      "needs_background": "light"
     },
     "output_type": "display_data"
    }
   ],
   "source": [
    "plt.plot(np.arange(max_iter+1), cost_computational)\n",
    "plt.show()"
   ]
  },
  {
   "cell_type": "markdown",
   "metadata": {},
   "source": [
    "Local cost function\n",
    "--------"
   ]
  },
  {
   "cell_type": "code",
   "execution_count": 29,
   "metadata": {},
   "outputs": [],
   "source": [
    "def local_circuit(angles, gate_sequence):\n",
    "    assert(len(np.shape(angles)) == 2)                  # check proper dimensions of params\n",
    "    hardware_efficient_ansatz(angles, gate_sequence)\n",
    "    H = qml.PauliZ(0) @ qml.PauliZ(1)\n",
    "    return qml.expval(H)\n",
    "\n",
    "local_qnode = qml.QNode(local_circuit, dev_comp)"
   ]
  },
  {
   "cell_type": "code",
   "execution_count": 30,
   "metadata": {},
   "outputs": [],
   "source": [
    "def local_cost_function(angles, gate_sequence):\n",
    "    return local_qnode(angles, gate_sequence)"
   ]
  },
  {
   "cell_type": "code",
   "execution_count": 31,
   "metadata": {},
   "outputs": [],
   "source": [
    "opt = qml.GradientDescentOptimizer(stepsize=0.1)"
   ]
  },
  {
   "cell_type": "code",
   "execution_count": 32,
   "metadata": {},
   "outputs": [],
   "source": [
    "weights_init = np.random.uniform(0, np.pi, size=(num_layers, computational_qubits), requires_grad=True)\n",
    "random_gate_sequence = [[np.random.choice(gate_set) for _ in range(computational_qubits)] for _ in range(num_layers)]\n",
    "cost_local = [local_cost_function(weights_init, random_gate_sequence)]"
   ]
  },
  {
   "cell_type": "code",
   "execution_count": 33,
   "metadata": {},
   "outputs": [
    {
     "name": "stdout",
     "output_type": "stream",
     "text": [
      "Iteration =     1 | Cost function = -0.43750924\n",
      "Iteration =    51 | Cost function = -0.99932510\n",
      "Iteration =   101 | Cost function = -0.99971227\n",
      "Iteration =   151 | Cost function = -0.99985993\n",
      "Iteration =   201 | Cost function = -0.99993056\n",
      "Iteration =   251 | Cost function = -0.99996526\n",
      "Iteration =   301 | Cost function = -0.99998254\n",
      "Iteration =   351 | Cost function = -0.99999121\n",
      "Iteration =   401 | Cost function = -0.99999557\n",
      "Iteration =   451 | Cost function = -0.99999776\n"
     ]
    }
   ],
   "source": [
    "weights = weights_init\n",
    "for it in range(max_iter):\n",
    "    weights = opt.step(local_cost_function, weights, gate_sequence=random_gate_sequence)\n",
    "    cost_local.append(local_cost_function(weights, random_gate_sequence))\n",
    "    if it % 50 == 0:\n",
    "        print(\"Iteration = {:5d} | Cost function = {: .8f}\".format(it+1, cost_local[-1]))\n"
   ]
  },
  {
   "cell_type": "code",
   "execution_count": 34,
   "metadata": {},
   "outputs": [],
   "source": [
    "with open('../../results/data/{}_training_local_{}qubits_{}layers_{}iterations.dat'\n",
    "            .format(datetime.datetime.now().strftime(\"%y%m%d\"),\n",
    "                    computational_qubits, num_layers, max_iter), 'w') as of:\n",
    "    of.write('# iteration\\tcost\\n')\n",
    "\n",
    "    for it in range(max_iter+1):\n",
    "        of.write('{}\\t{}\\n'.format(it, cost_local[it]))"
   ]
  },
  {
   "cell_type": "code",
   "execution_count": 35,
   "metadata": {},
   "outputs": [
    {
     "data": {
      "image/png": "[encoded data removed]",
      "text/plain": [
       "<Figure size 432x288 with 1 Axes>"
      ]
     },
     "metadata": {
      "needs_background": "light"
     },
     "output_type": "display_data"
    }
   ],
   "source": [
    "plt.plot(np.arange(max_iter+1), cost_local)\n",
    "plt.show()"
   ]
  },
  {
   "cell_type": "markdown",
   "metadata": {},
   "source": [
    "Gadget cost function\n",
    "--------"
   ]
  },
  {
   "cell_type": "code",
   "execution_count": 36,
   "metadata": {},
   "outputs": [],
   "source": [
    "dev_gad = qml.device(\"default.qubit\", wires=range(computational_qubits+ancillary_qubits))"
   ]
  },
  {
   "cell_type": "code",
   "execution_count": 37,
   "metadata": {},
   "outputs": [],
   "source": [
    "def gadget_circuit(params, gate_sequence, computational_qubits):       # also working for k'-local \n",
    "    assert(len(np.shape(params)) == 2)                  # check proper dimensions of params\n",
    "    total_qubits = np.shape(params)[1]\n",
    "    cat_state_preparation(ancillary_qubits = range(computational_qubits, total_qubits, 1))\n",
    "    hardware_efficient_ansatz(params, gate_sequence)"
   ]
  },
  {
   "cell_type": "code",
   "execution_count": 38,
   "metadata": {},
   "outputs": [],
   "source": [
    "@qml.qnode(dev_gad)\n",
    "def unperturbed_qnode(params, gate_sequence, computational_qubits, target_qubits):\n",
    "    gadget_circuit(params, gate_sequence, computational_qubits)\n",
    "    term = qml.Identity(target_qubits[0]) @ qml.Identity(target_qubits[1]) - qml.PauliZ(target_qubits[0]) @ qml.PauliZ(target_qubits[1])\n",
    "    return qml.expval(term)\n",
    "\n",
    "\n",
    "@qml.qnode(dev_gad)\n",
    "def perturbation_qnode(params, gate_sequence, computational_qubits, target_qubits):\n",
    "    gadget_circuit(params, gate_sequence, computational_qubits)\n",
    "    term = qml.PauliZ(target_qubits[0]) @ qml.PauliX(computational_qubits+target_qubits[0])\n",
    "    return qml.expval(term)\n",
    "\n",
    "\n",
    "def gadget_cost_function(params, gate_sequence, computational_qubits):\n",
    "    assert(len(np.shape(params)) == 2)                  # check proper dimensions of params\n",
    "    total_qubits = np.shape(params)[1]\n",
    "    expectation_value = 0\n",
    "    # creating the \"unperturbed Hamiltonian\"\n",
    "    # acting on the ancillary qubits only\n",
    "    for first_qubit in range(computational_qubits, total_qubits):\n",
    "        for second_qubit in range(first_qubit+1, total_qubits):\n",
    "            expectation_value += unperturbed_qnode(params, gate_sequence, computational_qubits, [first_qubit, second_qubit])\n",
    "    # creating the perturbation part of the Hamiltonian\n",
    "    # acting on both ancillary and target qubits with the same index\n",
    "    for qubit in range(computational_qubits):           # /!\\ only valid for 2-local\n",
    "        expectation_value += perturbation_factor * lambda_max * perturbation_qnode(params, gate_sequence, computational_qubits, [qubit])\n",
    "    return expectation_value"
   ]
  },
  {
   "cell_type": "code",
   "execution_count": 39,
   "metadata": {},
   "outputs": [],
   "source": [
    "control_qnode = qml.QNode(computational_circuit, dev_gad)\n",
    "def control_cost_function(params, gate_sequence, computational_qubits):\n",
    "    return control_qnode(params, gate_sequence, computational_qubits)"
   ]
  },
  {
   "cell_type": "code",
   "execution_count": 40,
   "metadata": {},
   "outputs": [],
   "source": [
    "opt = qml.GradientDescentOptimizer(stepsize=0.4)"
   ]
  },
  {
   "cell_type": "code",
   "execution_count": 42,
   "metadata": {},
   "outputs": [],
   "source": [
    "weights_init = np.random.uniform(0, np.pi, size=(num_layers, computational_qubits+ancillary_qubits), requires_grad=True)\n",
    "random_gate_sequence = [[np.random.choice(gate_set) for _ in range(computational_qubits+ancillary_qubits)] for _ in range(num_layers)]\n",
    "cost_computational = [control_cost_function(weights_init, gate_sequence=random_gate_sequence, computational_qubits=computational_qubits)]\n",
    "cost_gadget = [gadget_cost_function(weights_init, random_gate_sequence, computational_qubits)]\n"
   ]
  },
  {
   "cell_type": "code",
   "execution_count": 43,
   "metadata": {},
   "outputs": [
    {
     "name": "stdout",
     "output_type": "stream",
     "text": [
      "Iteration =     0 | Gadget cost = 6.23889793 | Computational cost = -0.11358374\n",
      "Iteration =    10 | Gadget cost = 2.39641822 | Computational cost = -0.11664320\n",
      "Iteration =    20 | Gadget cost = 1.75274496 | Computational cost = -0.11315067\n",
      "Iteration =    30 | Gadget cost = 1.75127985 | Computational cost = -0.10849027\n",
      "Iteration =    40 | Gadget cost = 1.75058665 | Computational cost = -0.10374309\n",
      "Iteration =    50 | Gadget cost = 1.74992792 | Computational cost = -0.09893235\n",
      "Iteration =    60 | Gadget cost = 1.74930704 | Computational cost = -0.09410030\n",
      "Iteration =    70 | Gadget cost = 1.74872649 | Computational cost = -0.08928645\n",
      "Iteration =    80 | Gadget cost = 1.74818778 | Computational cost = -0.08452670\n",
      "Iteration =    90 | Gadget cost = 1.74769150 | Computational cost = -0.07985277\n",
      "Iteration =   100 | Gadget cost = 1.74723738 | Computational cost = -0.07529187\n",
      "Iteration =   110 | Gadget cost = 1.74682445 | Computational cost = -0.07086658\n",
      "Iteration =   120 | Gadget cost = 1.74645113 | Computational cost = -0.06659494\n",
      "Iteration =   130 | Gadget cost = 1.74611540 | Computational cost = -0.06249070\n",
      "Iteration =   140 | Gadget cost = 1.74581490 | Computational cost = -0.05856364\n",
      "Iteration =   150 | Gadget cost = 1.74554711 | Computational cost = -0.05482001\n",
      "Iteration =   160 | Gadget cost = 1.74530937 | Computational cost = -0.05126299\n",
      "Iteration =   170 | Gadget cost = 1.74509903 | Computational cost = -0.04789312\n",
      "Iteration =   180 | Gadget cost = 1.74491351 | Computational cost = -0.04470879\n",
      "Iteration =   190 | Gadget cost = 1.74475032 | Computational cost = -0.04170659\n",
      "Iteration =   200 | Gadget cost = 1.74460712 | Computational cost = -0.03888176\n",
      "Iteration =   210 | Gadget cost = 1.74448171 | Computational cost = -0.03622846\n",
      "Iteration =   220 | Gadget cost = 1.74437209 | Computational cost = -0.03374010\n",
      "Iteration =   230 | Gadget cost = 1.74427642 | Computational cost = -0.03140953\n",
      "Iteration =   240 | Gadget cost = 1.74419306 | Computational cost = -0.02922930\n",
      "Iteration =   250 | Gadget cost = 1.74412049 | Computational cost = -0.02719179\n",
      "Iteration =   260 | Gadget cost = 1.74405740 | Computational cost = -0.02528932\n",
      "Iteration =   270 | Gadget cost = 1.74400259 | Computational cost = -0.02351432\n",
      "Iteration =   280 | Gadget cost = 1.74395502 | Computational cost = -0.02185936\n",
      "Iteration =   290 | Gadget cost = 1.74391376 | Computational cost = -0.02031720\n",
      "Iteration =   300 | Gadget cost = 1.74387799 | Computational cost = -0.01888088\n",
      "Iteration =   310 | Gadget cost = 1.74384701 | Computational cost = -0.01754371\n",
      "Iteration =   320 | Gadget cost = 1.74382017 | Computational cost = -0.01629933\n",
      "Iteration =   330 | Gadget cost = 1.74379694 | Computational cost = -0.01514168\n",
      "Iteration =   340 | Gadget cost = 1.74377684 | Computational cost = -0.01406500\n",
      "Iteration =   350 | Gadget cost = 1.74375946 | Computational cost = -0.01306389\n",
      "Iteration =   360 | Gadget cost = 1.74374442 | Computational cost = -0.01213323\n",
      "Iteration =   370 | Gadget cost = 1.74373141 | Computational cost = -0.01126824\n",
      "Iteration =   380 | Gadget cost = 1.74372017 | Computational cost = -0.01046439\n",
      "Iteration =   390 | Gadget cost = 1.74371045 | Computational cost = -0.00971747\n",
      "Iteration =   400 | Gadget cost = 1.74370206 | Computational cost = -0.00902353\n",
      "Iteration =   410 | Gadget cost = 1.74369480 | Computational cost = -0.00837888\n",
      "Iteration =   420 | Gadget cost = 1.74368853 | Computational cost = -0.00778007\n",
      "Iteration =   430 | Gadget cost = 1.74368311 | Computational cost = -0.00722389\n",
      "Iteration =   440 | Gadget cost = 1.74367843 | Computational cost = -0.00670732\n",
      "Iteration =   450 | Gadget cost = 1.74367439 | Computational cost = -0.00622759\n",
      "Iteration =   460 | Gadget cost = 1.74367090 | Computational cost = -0.00578208\n",
      "Iteration =   470 | Gadget cost = 1.74366788 | Computational cost = -0.00536837\n",
      "Iteration =   480 | Gadget cost = 1.74366527 | Computational cost = -0.00498420\n",
      "Iteration =   490 | Gadget cost = 1.74366302 | Computational cost = -0.00462748\n"
     ]
    }
   ],
   "source": [
    "weights = weights_init\n",
    "for it in range(max_iter):\n",
    "    weights, prev_cost = opt.step_and_cost(gadget_cost_function, weights, gate_sequence=random_gate_sequence, computational_qubits=computational_qubits)\n",
    "    cost_computational.append(control_cost_function(weights, random_gate_sequence, computational_qubits))\n",
    "    cost_gadget.append(gadget_cost_function(weights, random_gate_sequence, computational_qubits))\n",
    "    # opt.update_stepsize(stepsize)\n",
    "    if it % 10 == 0:\n",
    "        print(f\"Iteration = {it:5d} | \" +\n",
    "               \"Gadget cost = {:.8f} | \".format(cost_gadget[-1]) +\n",
    "               \"Computational cost = {:.8f}\".format(cost_computational[-1]))\n"
   ]
  },
  {
   "cell_type": "code",
   "execution_count": 44,
   "metadata": {},
   "outputs": [],
   "source": [
    "with open('../../results/data/{}_training_gadget_{}qubits_{}layers_{}iterations_{}lambda.dat'\n",
    "            .format(datetime.datetime.now().strftime(\"%y%m%d\"),\n",
    "                    computational_qubits, num_layers, max_iter, perturbation_factor), 'w') as of:\n",
    "    of.write('# iteration\\tcost\\n')\n",
    "\n",
    "    for it in range(max_iter+1):\n",
    "        of.write('{}\\t{}\\n'.format(it, cost_computational[it]))"
   ]
  },
  {
   "cell_type": "code",
   "execution_count": 45,
   "metadata": {},
   "outputs": [
    {
     "data": {
      "image/png": "[encoded data removed]",
      "text/plain": [
       "<Figure size 432x288 with 1 Axes>"
      ]
     },
     "metadata": {
      "needs_background": "light"
     },
     "output_type": "display_data"
    }
   ],
   "source": [
    "fig, ax = plt.subplots()\n",
    "ax.plot(np.arange(max_iter+1), cost_gadget, label=r'$\\langle \\psi_{HE}| H^{gad} |\\psi_{HE} \\rangle$')\n",
    "ax.plot(np.arange(max_iter+1), cost_computational, label=r'$\\langle \\psi_{HE}| H^{comp} |\\psi_{HE} \\rangle$')\n",
    "ax.set_xlabel(r\"Number of iterations\")\n",
    "ax.set_ylabel(r\"Cost function\")\n",
    "ax.legend()\n",
    "ax.set_title(r\"$n_{comp}=$\"+\"{}\".format(computational_qubits))\n",
    "plt.show()"
   ]
  },
  {
   "cell_type": "code",
   "execution_count": null,
   "metadata": {},
   "outputs": [],
   "source": []
  }
 ],
 "metadata": {
  "interpreter": {
   "hash": "f1fa634a2a267bda237d7cc1f3dc30f3bd9dd1af64320e4909853caab9bfcd42"
  },
  "kernelspec": {
   "display_name": "Python 3.8.5 ('thesis-venv')",
   "language": "python",
   "name": "python3"
  },
  "language_info": {
   "codemirror_mode": {
    "name": "ipython",
    "version": 3
   },
   "file_extension": ".py",
   "mimetype": "text/x-python",
   "name": "python",
   "nbconvert_exporter": "python",
   "pygments_lexer": "ipython3",
   "version": "3.8.5"
  },
  "orig_nbformat": 4
 },
 "nbformat": 4,
 "nbformat_minor": 2
}
