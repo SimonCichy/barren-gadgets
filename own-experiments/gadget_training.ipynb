{
 "cells": [
  {
   "cell_type": "code",
   "execution_count": 83,
   "metadata": {},
   "outputs": [],
   "source": [
    "%matplotlib inline"
   ]
  },
  {
   "cell_type": "markdown",
   "metadata": {},
   "source": [
    "Comparison of training a hardware efficient ansatz with a global cost function and the gadget equivalent"
   ]
  },
  {
   "cell_type": "markdown",
   "metadata": {},
   "source": [
    "Necessary imports"
   ]
  },
  {
   "cell_type": "code",
   "execution_count": 84,
   "metadata": {},
   "outputs": [],
   "source": [
    "import pennylane as qml\n",
    "from pennylane import numpy as np\n",
    "import matplotlib.pyplot as plt\n",
    "# import datetime\n",
    "\n",
    "from gadget_utils import hardware_efficient_ansatz, cat_state_preparation\n",
    "\n",
    "np.random.seed(42)"
   ]
  },
  {
   "cell_type": "markdown",
   "metadata": {},
   "source": [
    "Defining the relevant parameters of the simulation"
   ]
  },
  {
   "cell_type": "code",
   "execution_count": 85,
   "metadata": {},
   "outputs": [],
   "source": [
    "computational_qubits = 4\n",
    "ancillary_qubits = 4\n",
    "perturbation_factor = 0\n",
    "num_layers = 1\n",
    "# locality = 2\n",
    "max_iter = 100\n",
    "num_samples = 200"
   ]
  },
  {
   "cell_type": "markdown",
   "metadata": {},
   "source": [
    "Global cost function\n",
    "--------"
   ]
  },
  {
   "cell_type": "markdown",
   "metadata": {},
   "source": [
    "file to save the results"
   ]
  },
  {
   "cell_type": "code",
   "execution_count": 86,
   "metadata": {},
   "outputs": [],
   "source": [
    "# with open('../../results/data/{}_training_global_{}qubits_{}layers_{}lambda_{}samples.dat'\n",
    "#             .format(datetime.datetime.now().strftime(\"%y%m%d\"),\n",
    "#                     num_qubits, num_layers, perturbation_factor, num_samples), 'w') as of:\n",
    "#     of.write('# iteration\\tcost')"
   ]
  },
  {
   "cell_type": "markdown",
   "metadata": {},
   "source": [
    "creating the quantum device with the right number of qubits"
   ]
  },
  {
   "cell_type": "code",
   "execution_count": 87,
   "metadata": {},
   "outputs": [],
   "source": [
    "dev_comp = qml.device(\"default.qubit\", wires=range(computational_qubits))"
   ]
  },
  {
   "cell_type": "markdown",
   "metadata": {},
   "source": [
    "creating the qunode using the imported methods"
   ]
  },
  {
   "cell_type": "code",
   "execution_count": 88,
   "metadata": {},
   "outputs": [],
   "source": [
    "def computational_circuit(angles, measured_qubits):\n",
    "    assert(len(np.shape(angles)) == 2)                  # check proper dimensions of params\n",
    "    total_qubits = np.shape(angles)[1]\n",
    "    if total_qubits > measured_qubits:\n",
    "        # /!\\ keep the 'ancillary_qubits = ' (has to be a keyword argument)\n",
    "        cat_state_preparation(ancillary_qubits = range(measured_qubits, total_qubits, 1))\n",
    "    hardware_efficient_ansatz(angles)\n",
    "    H = qml.PauliZ(0)\n",
    "    for qubit in range(measured_qubits-1):\n",
    "        H = H @ qml.PauliZ(qubit + 1)\n",
    "    return qml.expval(H)\n",
    "\n",
    "computational_qnode = qml.QNode(computational_circuit, dev_comp)"
   ]
  },
  {
   "cell_type": "markdown",
   "metadata": {},
   "source": [
    "(defining the cost function)"
   ]
  },
  {
   "cell_type": "code",
   "execution_count": 89,
   "metadata": {},
   "outputs": [],
   "source": [
    "def computational_cost_function(angles, computational_qubits):\n",
    "    return computational_qnode(angles, computational_qubits)"
   ]
  },
  {
   "cell_type": "markdown",
   "metadata": {},
   "source": [
    "Choosing an optimizer"
   ]
  },
  {
   "cell_type": "code",
   "execution_count": 90,
   "metadata": {},
   "outputs": [],
   "source": [
    "opt = qml.GradientDescentOptimizer(stepsize=0.4)"
   ]
  },
  {
   "cell_type": "markdown",
   "metadata": {},
   "source": [
    "Initializing the parameters"
   ]
  },
  {
   "cell_type": "code",
   "execution_count": 91,
   "metadata": {},
   "outputs": [],
   "source": [
    "weights_init = np.random.uniform(0, np.pi, size=(num_layers, computational_qubits), requires_grad=True)\n",
    "cost_computational = [computational_cost_function(weights_init, computational_qubits)]"
   ]
  },
  {
   "cell_type": "markdown",
   "metadata": {},
   "source": [
    "Optimization loop"
   ]
  },
  {
   "cell_type": "code",
   "execution_count": 92,
   "metadata": {},
   "outputs": [
    {
     "name": "stdout",
     "output_type": "stream",
     "text": [
      "Iteration =     1 | Cost function =  0.23683875\n",
      "Iteration =     3 | Cost function = -0.26698478\n",
      "Iteration =     5 | Cost function =  0.25845163\n",
      "Iteration =     7 | Cost function =  0.24949856\n",
      "Iteration =     9 | Cost function = -0.01481921\n",
      "Iteration =    11 | Cost function =  0.02585627\n",
      "Iteration =    13 | Cost function =  0.18653176\n",
      "Iteration =    15 | Cost function =  0.18524942\n",
      "Iteration =    17 | Cost function = -0.16327900\n",
      "Iteration =    19 | Cost function =  0.02892816\n",
      "Iteration =    21 | Cost function =  0.18784066\n",
      "Iteration =    23 | Cost function = -0.00237907\n",
      "Iteration =    25 | Cost function =  0.03706822\n",
      "Iteration =    27 | Cost function =  0.21683755\n",
      "Iteration =    29 | Cost function = -0.03921593\n",
      "Iteration =    31 | Cost function =  0.01064553\n",
      "Iteration =    33 | Cost function =  0.03145086\n",
      "Iteration =    35 | Cost function = -0.05096345\n",
      "Iteration =    37 | Cost function =  0.01176974\n",
      "Iteration =    39 | Cost function = -0.20298978\n",
      "Iteration =    41 | Cost function = -0.14619274\n",
      "Iteration =    43 | Cost function =  0.02018661\n",
      "Iteration =    45 | Cost function =  0.38534896\n",
      "Iteration =    47 | Cost function =  0.04691356\n",
      "Iteration =    49 | Cost function =  0.40766611\n",
      "Iteration =    51 | Cost function =  0.30740256\n",
      "Iteration =    53 | Cost function =  0.15928522\n",
      "Iteration =    55 | Cost function =  0.01221659\n",
      "Iteration =    57 | Cost function = -0.03950001\n",
      "Iteration =    59 | Cost function =  0.01950570\n",
      "Iteration =    61 | Cost function = -0.03752951\n",
      "Iteration =    63 | Cost function =  0.00699367\n",
      "Iteration =    65 | Cost function = -0.03160816\n",
      "Iteration =    67 | Cost function =  0.21279323\n",
      "Iteration =    69 | Cost function =  0.21764311\n",
      "Iteration =    71 | Cost function =  0.05915253\n",
      "Iteration =    73 | Cost function = -0.33626344\n",
      "Iteration =    75 | Cost function = -0.14328951\n",
      "Iteration =    77 | Cost function =  0.04515610\n",
      "Iteration =    79 | Cost function =  0.01769177\n",
      "Iteration =    81 | Cost function =  0.44772350\n",
      "Iteration =    83 | Cost function =  0.03004979\n",
      "Iteration =    85 | Cost function =  0.11488675\n",
      "Iteration =    87 | Cost function = -0.08890974\n",
      "Iteration =    89 | Cost function = -0.15177354\n",
      "Iteration =    91 | Cost function = -0.05775892\n",
      "Iteration =    93 | Cost function = -0.07048254\n",
      "Iteration =    95 | Cost function =  0.12872412\n",
      "Iteration =    97 | Cost function =  0.03659545\n",
      "Iteration =    99 | Cost function =  0.25867976\n"
     ]
    }
   ],
   "source": [
    "weights = weights_init\n",
    "for it in range(max_iter):\n",
    "    # /!\\ keyword arguments are not trained? don't know why but don't remove the 'computational_qubits='\n",
    "    # keyword arguments are not wrapped https://discuss.pennylane.ai/t/wire-error-on-ibm-simulator/1282\n",
    "    weights = opt.step(computational_cost_function, weights, computational_qubits=computational_qubits)\n",
    "    cost_computational.append(computational_cost_function(weights, computational_qubits))\n",
    "    # opt.update_stepsize(stepsize)\n",
    "    if it % 2 == 0:\n",
    "        print(\"Iteration = {:5d} | Cost function = {: .8f}\".format(it+1, cost_computational[-1]))\n"
   ]
  },
  {
   "cell_type": "markdown",
   "metadata": {},
   "source": [
    "Saving and plotting the results"
   ]
  },
  {
   "cell_type": "code",
   "execution_count": 94,
   "metadata": {},
   "outputs": [
    {
     "data": {
      "image/png": "[encoded data removed]",
      "text/plain": [
       "<Figure size 432x288 with 1 Axes>"
      ]
     },
     "metadata": {
      "needs_background": "light"
     },
     "output_type": "display_data"
    }
   ],
   "source": [
    "plt.plot(np.arange(max_iter+1), cost_computational)\n",
    "plt.show()"
   ]
  },
  {
   "cell_type": "markdown",
   "metadata": {},
   "source": [
    "Gadget cost function\n",
    "--------"
   ]
  },
  {
   "cell_type": "markdown",
   "metadata": {},
   "source": [
    "file to save the results"
   ]
  },
  {
   "cell_type": "code",
   "execution_count": null,
   "metadata": {},
   "outputs": [],
   "source": [
    "# with open('../../results/data/{}_training_gadget_{}qubits_{}layers_{}lambda_{}samples.dat'\n",
    "#             .format(datetime.datetime.now().strftime(\"%y%m%d\"),\n",
    "#                     num_qubits, num_layers, perturbation_factor, num_samples), 'w') as of:\n",
    "#     of.write('# iteration\\tcost computational\\tcost gadget')"
   ]
  },
  {
   "cell_type": "markdown",
   "metadata": {},
   "source": [
    "creating the quantum device with the right number of qubits"
   ]
  },
  {
   "cell_type": "code",
   "execution_count": null,
   "metadata": {},
   "outputs": [],
   "source": [
    "dev_gad = qml.device(\"default.qubit\", wires=range(computational_qubits+ancillary_qubits))"
   ]
  },
  {
   "cell_type": "markdown",
   "metadata": {},
   "source": [
    "creating the qunode using the imported methods"
   ]
  },
  {
   "cell_type": "code",
   "execution_count": null,
   "metadata": {},
   "outputs": [],
   "source": [
    "def gadget_circuit(params, computational_qubits):       # also working for k'-local \n",
    "    assert(len(np.shape(params)) == 2)                  # check proper dimensions of params\n",
    "    total_qubits = np.shape(params)[1]\n",
    "    cat_state_preparation(ancillary_qubits = range(computational_qubits, total_qubits, 1))\n",
    "    hardware_efficient_ansatz(params)"
   ]
  },
  {
   "cell_type": "markdown",
   "metadata": {},
   "source": [
    "Defining the cost function"
   ]
  },
  {
   "cell_type": "code",
   "execution_count": null,
   "metadata": {},
   "outputs": [],
   "source": [
    "@qml.qnode(dev_gad)\n",
    "def unperturbed_qnode(params, computational_qubits, target_qubits):\n",
    "    gadget_circuit(params, computational_qubits)\n",
    "    term = qml.Identity(target_qubits[0]) @ qml.Identity(target_qubits[1]) - qml.PauliZ(target_qubits[0]) @ qml.PauliZ(target_qubits[1])\n",
    "    return qml.expval(term)\n",
    "\n",
    "\n",
    "@qml.qnode(dev_gad)\n",
    "def perturbation_qnode(params, computational_qubits, target_qubits):\n",
    "    gadget_circuit(params, computational_qubits)\n",
    "    term = qml.PauliZ(target_qubits[0]) @ qml.PauliX(computational_qubits+target_qubits[0])\n",
    "    return qml.expval(term)\n",
    "\n",
    "\n",
    "def gadget_cost_function(params, computational_qubits):\n",
    "    assert(len(np.shape(params)) == 2)                  # check proper dimensions of params\n",
    "    total_qubits = np.shape(params)[1]\n",
    "    expectation_value = 0\n",
    "    # creating the \"unperturbed Hamiltonian\"\n",
    "    # acting on the ancillary qubits only\n",
    "    for first_qubit in range(computational_qubits, total_qubits):\n",
    "        for second_qubit in range(first_qubit+1, total_qubits):\n",
    "            expectation_value += unperturbed_qnode(params, computational_qubits, [first_qubit, second_qubit])\n",
    "    # creating the perturbation part of the Hamiltonian\n",
    "    # acting on both ancillary and target qubits with the same index\n",
    "    for qubit in range(computational_qubits):           # /!\\ only valid for 2-local\n",
    "        expectation_value += perturbation_qnode(params, computational_qubits, [qubit])\n",
    "    return expectation_value"
   ]
  },
  {
   "cell_type": "markdown",
   "metadata": {},
   "source": [
    "Creating the control cost function"
   ]
  },
  {
   "cell_type": "code",
   "execution_count": null,
   "metadata": {},
   "outputs": [],
   "source": [
    "control_qnode = qml.QNode(computational_circuit, dev_gad)\n",
    "def control_cost_function(params, computational_qubits):\n",
    "    return control_qnode(params, computational_qubits)"
   ]
  },
  {
   "cell_type": "markdown",
   "metadata": {},
   "source": [
    "Choosing an optimizer"
   ]
  },
  {
   "cell_type": "code",
   "execution_count": null,
   "metadata": {},
   "outputs": [],
   "source": [
    "opt = qml.GradientDescentOptimizer(stepsize=0.4)"
   ]
  },
  {
   "cell_type": "markdown",
   "metadata": {},
   "source": [
    "Initializing the parameters"
   ]
  },
  {
   "cell_type": "code",
   "execution_count": null,
   "metadata": {},
   "outputs": [],
   "source": [
    "weights_init = np.random.uniform(0, np.pi, size=(num_layers, computational_qubits+ancillary_qubits), requires_grad=True)\n",
    "cost_computational = [control_cost_function(weights_init, computational_qubits=computational_qubits)]\n",
    "cost_gadget = [gadget_cost_function(weights_init, computational_qubits)]\n"
   ]
  },
  {
   "cell_type": "markdown",
   "metadata": {},
   "source": [
    "Optimization loop"
   ]
  },
  {
   "cell_type": "code",
   "execution_count": null,
   "metadata": {},
   "outputs": [
    {
     "name": "stdout",
     "output_type": "stream",
     "text": [
      "Iteration =     0 | Gadget cost = 7.14047402 | Computational cost = -0.01493223\n",
      "Iteration =     2 | Gadget cost = 4.78212412 | Computational cost = 0.17832265\n",
      "Iteration =     4 | Gadget cost = 7.51611550 | Computational cost = 0.21184056\n",
      "Iteration =     6 | Gadget cost = 4.73668850 | Computational cost = 0.09514684\n",
      "Iteration =     8 | Gadget cost = 7.23378962 | Computational cost = -0.15347493\n"
     ]
    }
   ],
   "source": [
    "weights = weights_init\n",
    "for it in range(max_iter):\n",
    "    weights, prev_cost = opt.step_and_cost(gadget_cost_function, weights, computational_qubits=computational_qubits)\n",
    "    cost_computational.append(control_cost_function(weights, computational_qubits))\n",
    "    cost_gadget.append(gadget_cost_function(weights, computational_qubits))\n",
    "    # opt.update_stepsize(stepsize)\n",
    "    if it % 2 == 0:\n",
    "        print(f\"Iteration = {it:5d} | \" +\n",
    "               \"Gadget cost = {:.8f} | \".format(cost_gadget[-1]) +\n",
    "               \"Computational cost = {:.8f}\".format(cost_computational[-1]))\n"
   ]
  },
  {
   "cell_type": "markdown",
   "metadata": {},
   "source": [
    "Saving and plotting the results"
   ]
  },
  {
   "cell_type": "code",
   "execution_count": null,
   "metadata": {},
   "outputs": [],
   "source": [
    "plt.plot(np.arange(max_iter+1), cost_gadget)\n",
    "plt.plot(np.arange(max_iter+1), cost_computational)\n",
    "plt.show()"
   ]
  }
 ],
 "metadata": {
  "interpreter": {
   "hash": "f1fa634a2a267bda237d7cc1f3dc30f3bd9dd1af64320e4909853caab9bfcd42"
  },
  "kernelspec": {
   "display_name": "Python 3.8.5 ('thesis-venv')",
   "language": "python",
   "name": "python3"
  },
  "language_info": {
   "codemirror_mode": {
    "name": "ipython",
    "version": 3
   },
   "file_extension": ".py",
   "mimetype": "text/x-python",
   "name": "python",
   "nbconvert_exporter": "python",
   "pygments_lexer": "ipython3",
   "version": "3.8.5"
  },
  "orig_nbformat": 4
 },
 "nbformat": 4,
 "nbformat_minor": 2
}
