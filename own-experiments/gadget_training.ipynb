{
 "cells": [
  {
   "cell_type": "code",
   "execution_count": 83,
   "metadata": {},
   "outputs": [],
   "source": [
    "%matplotlib inline"
   ]
  },
  {
   "cell_type": "markdown",
   "metadata": {},
   "source": [
    "Comparison of training a hardware efficient ansatz with a global cost function and the gadget equivalent"
   ]
  },
  {
   "cell_type": "markdown",
   "metadata": {},
   "source": [
    "Necessary imports"
   ]
  },
  {
   "cell_type": "code",
   "execution_count": 84,
   "metadata": {},
   "outputs": [],
   "source": [
    "import pennylane as qml\n",
    "from pennylane import numpy as np\n",
    "import matplotlib.pyplot as plt\n",
    "# import datetime\n",
    "\n",
    "from gadget_utils import hardware_efficient_ansatz, cat_state_preparation\n",
    "\n",
    "np.random.seed(42)"
   ]
  },
  {
   "cell_type": "markdown",
   "metadata": {},
   "source": [
    "Defining the relevant parameters of the simulation"
   ]
  },
  {
   "cell_type": "code",
   "execution_count": 85,
   "metadata": {},
   "outputs": [],
   "source": [
    "computational_qubits = 4\n",
    "ancillary_qubits = 4\n",
    "perturbation_factor = 0\n",
    "num_layers = 1\n",
    "# locality = 2\n",
    "max_iter = 100\n",
    "num_samples = 200"
   ]
  },
  {
   "cell_type": "markdown",
   "metadata": {},
   "source": [
    "Global cost function\n",
    "--------"
   ]
  },
  {
   "cell_type": "markdown",
   "metadata": {},
   "source": [
    "file to save the results"
   ]
  },
  {
   "cell_type": "code",
   "execution_count": 86,
   "metadata": {},
   "outputs": [],
   "source": [
    "# with open('../../results/data/{}_training_global_{}qubits_{}layers_{}lambda_{}samples.dat'\n",
    "#             .format(datetime.datetime.now().strftime(\"%y%m%d\"),\n",
    "#                     num_qubits, num_layers, perturbation_factor, num_samples), 'w') as of:\n",
    "#     of.write('# iteration\\tcost')"
   ]
  },
  {
   "cell_type": "markdown",
   "metadata": {},
   "source": [
    "creating the quantum device with the right number of qubits"
   ]
  },
  {
   "cell_type": "code",
   "execution_count": 87,
   "metadata": {},
   "outputs": [],
   "source": [
    "dev_comp = qml.device(\"default.qubit\", wires=range(computational_qubits))"
   ]
  },
  {
   "cell_type": "markdown",
   "metadata": {},
   "source": [
    "creating the qunode using the imported methods"
   ]
  },
  {
   "cell_type": "code",
   "execution_count": 88,
   "metadata": {},
   "outputs": [],
   "source": [
    "def computational_circuit(angles, measured_qubits):\n",
    "    assert(len(np.shape(angles)) == 2)                  # check proper dimensions of params\n",
    "    total_qubits = np.shape(angles)[1]\n",
    "    if total_qubits > measured_qubits:\n",
    "        # /!\\ keep the 'ancillary_qubits = ' (has to be a keyword argument)\n",
    "        cat_state_preparation(ancillary_qubits = range(measured_qubits, total_qubits, 1))\n",
    "    hardware_efficient_ansatz(angles)\n",
    "    H = qml.PauliZ(0)\n",
    "    for qubit in range(measured_qubits-1):\n",
    "        H = H @ qml.PauliZ(qubit + 1)\n",
    "    return qml.expval(H)\n",
    "\n",
    "computational_qnode = qml.QNode(computational_circuit, dev_comp)"
   ]
  },
  {
   "cell_type": "markdown",
   "metadata": {},
   "source": [
    "(defining the cost function)"
   ]
  },
  {
   "cell_type": "code",
   "execution_count": 89,
   "metadata": {},
   "outputs": [],
   "source": [
    "def computational_cost_function(angles, computational_qubits):\n",
    "    return computational_qnode(angles, computational_qubits)"
   ]
  },
  {
   "cell_type": "markdown",
   "metadata": {},
   "source": [
    "Choosing an optimizer"
   ]
  },
  {
   "cell_type": "code",
   "execution_count": 90,
   "metadata": {},
   "outputs": [],
   "source": [
    "opt = qml.GradientDescentOptimizer(stepsize=0.4)"
   ]
  },
  {
   "cell_type": "markdown",
   "metadata": {},
   "source": [
    "Initializing the parameters"
   ]
  },
  {
   "cell_type": "code",
   "execution_count": 91,
   "metadata": {},
   "outputs": [],
   "source": [
    "weights_init = np.random.uniform(0, np.pi, size=(num_layers, computational_qubits), requires_grad=True)\n",
    "cost_computational = [computational_cost_function(weights_init, computational_qubits)]"
   ]
  },
  {
   "cell_type": "markdown",
   "metadata": {},
   "source": [
    "Optimization loop"
   ]
  },
  {
   "cell_type": "code",
   "execution_count": 92,
   "metadata": {},
   "outputs": [
    {
     "name": "stdout",
     "output_type": "stream",
     "text": [
      "Iteration =     1 | Cost function =  0.23683875\n",
      "Iteration =     3 | Cost function = -0.26698478\n",
      "Iteration =     5 | Cost function =  0.25845163\n",
      "Iteration =     7 | Cost function =  0.24949856\n",
      "Iteration =     9 | Cost function = -0.01481921\n",
      "Iteration =    11 | Cost function =  0.02585627\n",
      "Iteration =    13 | Cost function =  0.18653176\n",
      "Iteration =    15 | Cost function =  0.18524942\n",
      "Iteration =    17 | Cost function = -0.16327900\n",
      "Iteration =    19 | Cost function =  0.02892816\n",
      "Iteration =    21 | Cost function =  0.18784066\n",
      "Iteration =    23 | Cost function = -0.00237907\n",
      "Iteration =    25 | Cost function =  0.03706822\n",
      "Iteration =    27 | Cost function =  0.21683755\n",
      "Iteration =    29 | Cost function = -0.03921593\n",
      "Iteration =    31 | Cost function =  0.01064553\n",
      "Iteration =    33 | Cost function =  0.03145086\n",
      "Iteration =    35 | Cost function = -0.05096345\n",
      "Iteration =    37 | Cost function =  0.01176974\n",
      "Iteration =    39 | Cost function = -0.20298978\n",
      "Iteration =    41 | Cost function = -0.14619274\n",
      "Iteration =    43 | Cost function =  0.02018661\n",
      "Iteration =    45 | Cost function =  0.38534896\n",
      "Iteration =    47 | Cost function =  0.04691356\n",
      "Iteration =    49 | Cost function =  0.40766611\n",
      "Iteration =    51 | Cost function =  0.30740256\n",
      "Iteration =    53 | Cost function =  0.15928522\n",
      "Iteration =    55 | Cost function =  0.01221659\n",
      "Iteration =    57 | Cost function = -0.03950001\n",
      "Iteration =    59 | Cost function =  0.01950570\n",
      "Iteration =    61 | Cost function = -0.03752951\n",
      "Iteration =    63 | Cost function =  0.00699367\n",
      "Iteration =    65 | Cost function = -0.03160816\n",
      "Iteration =    67 | Cost function =  0.21279323\n",
      "Iteration =    69 | Cost function =  0.21764311\n",
      "Iteration =    71 | Cost function =  0.05915253\n",
      "Iteration =    73 | Cost function = -0.33626344\n",
      "Iteration =    75 | Cost function = -0.14328951\n",
      "Iteration =    77 | Cost function =  0.04515610\n",
      "Iteration =    79 | Cost function =  0.01769177\n",
      "Iteration =    81 | Cost function =  0.44772350\n",
      "Iteration =    83 | Cost function =  0.03004979\n",
      "Iteration =    85 | Cost function =  0.11488675\n",
      "Iteration =    87 | Cost function = -0.08890974\n",
      "Iteration =    89 | Cost function = -0.15177354\n",
      "Iteration =    91 | Cost function = -0.05775892\n",
      "Iteration =    93 | Cost function = -0.07048254\n",
      "Iteration =    95 | Cost function =  0.12872412\n",
      "Iteration =    97 | Cost function =  0.03659545\n",
      "Iteration =    99 | Cost function =  0.25867976\n"
     ]
    }
   ],
   "source": [
    "weights = weights_init\n",
    "for it in range(max_iter):\n",
    "    # /!\\ keyword arguments are not trained? don't know why but don't remove the 'computational_qubits='\n",
    "    # keyword arguments are not wrapped https://discuss.pennylane.ai/t/wire-error-on-ibm-simulator/1282\n",
    "    weights = opt.step(computational_cost_function, weights, computational_qubits=computational_qubits)\n",
    "    cost_computational.append(computational_cost_function(weights, computational_qubits))\n",
    "    # opt.update_stepsize(stepsize)\n",
    "    if it % 2 == 0:\n",
    "        print(\"Iteration = {:5d} | Cost function = {: .8f}\".format(it+1, cost_computational[-1]))\n"
   ]
  },
  {
   "cell_type": "markdown",
   "metadata": {},
   "source": [
    "Saving and plotting the results"
   ]
  },
  {
   "cell_type": "code",
   "execution_count": 94,
   "metadata": {},
   "outputs": [
    {
     "data": {
      "image/png": "[encoded data removed]",
      "text/plain": [
       "<Figure size 432x288 with 1 Axes>"
      ]
     },
     "metadata": {
      "needs_background": "light"
     },
     "output_type": "display_data"
    }
   ],
   "source": [
    "plt.plot(np.arange(max_iter+1), cost_computational)\n",
    "plt.show()"
   ]
  },
  {
   "cell_type": "markdown",
   "metadata": {},
   "source": [
    "Gadget cost function\n",
    "--------"
   ]
  },
  {
   "cell_type": "markdown",
   "metadata": {},
   "source": [
    "file to save the results"
   ]
  },
  {
   "cell_type": "code",
   "execution_count": 95,
   "metadata": {},
   "outputs": [],
   "source": [
    "# with open('../../results/data/{}_training_gadget_{}qubits_{}layers_{}lambda_{}samples.dat'\n",
    "#             .format(datetime.datetime.now().strftime(\"%y%m%d\"),\n",
    "#                     num_qubits, num_layers, perturbation_factor, num_samples), 'w') as of:\n",
    "#     of.write('# iteration\\tcost computational\\tcost gadget')"
   ]
  },
  {
   "cell_type": "markdown",
   "metadata": {},
   "source": [
    "creating the quantum device with the right number of qubits"
   ]
  },
  {
   "cell_type": "code",
   "execution_count": 96,
   "metadata": {},
   "outputs": [],
   "source": [
    "dev_gad = qml.device(\"default.qubit\", wires=range(computational_qubits+ancillary_qubits))"
   ]
  },
  {
   "cell_type": "markdown",
   "metadata": {},
   "source": [
    "creating the qunode using the imported methods"
   ]
  },
  {
   "cell_type": "code",
   "execution_count": 97,
   "metadata": {},
   "outputs": [],
   "source": [
    "def gadget_circuit(params, computational_qubits):       # also working for k'-local \n",
    "    assert(len(np.shape(params)) == 2)                  # check proper dimensions of params\n",
    "    total_qubits = np.shape(params)[1]\n",
    "    cat_state_preparation(ancillary_qubits = range(computational_qubits, total_qubits, 1))\n",
    "    hardware_efficient_ansatz(params)"
   ]
  },
  {
   "cell_type": "markdown",
   "metadata": {},
   "source": [
    "Defining the cost function"
   ]
  },
  {
   "cell_type": "code",
   "execution_count": 98,
   "metadata": {},
   "outputs": [],
   "source": [
    "@qml.qnode(dev_gad)\n",
    "def unperturbed_qnode(params, computational_qubits, target_qubits):\n",
    "    gadget_circuit(params, computational_qubits)\n",
    "    term = qml.Identity(target_qubits[0]) @ qml.Identity(target_qubits[1]) - qml.PauliZ(target_qubits[0]) @ qml.PauliZ(target_qubits[1])\n",
    "    return qml.expval(term)\n",
    "\n",
    "\n",
    "@qml.qnode(dev_gad)\n",
    "def perturbation_qnode(params, computational_qubits, target_qubits):\n",
    "    gadget_circuit(params, computational_qubits)\n",
    "    term = qml.PauliZ(target_qubits[0]) @ qml.PauliX(computational_qubits+target_qubits[0])\n",
    "    return qml.expval(term)\n",
    "\n",
    "\n",
    "def gadget_cost_function(params, computational_qubits):\n",
    "    assert(len(np.shape(params)) == 2)                  # check proper dimensions of params\n",
    "    total_qubits = np.shape(params)[1]\n",
    "    expectation_value = 0\n",
    "    # creating the \"unperturbed Hamiltonian\"\n",
    "    # acting on the ancillary qubits only\n",
    "    for first_qubit in range(computational_qubits, total_qubits):\n",
    "        for second_qubit in range(first_qubit+1, total_qubits):\n",
    "            expectation_value += unperturbed_qnode(params, computational_qubits, [first_qubit, second_qubit])\n",
    "    # creating the perturbation part of the Hamiltonian\n",
    "    # acting on both ancillary and target qubits with the same index\n",
    "    for qubit in range(computational_qubits):           # /!\\ only valid for 2-local\n",
    "        expectation_value += perturbation_qnode(params, computational_qubits, [qubit])\n",
    "    return expectation_value"
   ]
  },
  {
   "cell_type": "markdown",
   "metadata": {},
   "source": [
    "Creating the control cost function"
   ]
  },
  {
   "cell_type": "code",
   "execution_count": 99,
   "metadata": {},
   "outputs": [],
   "source": [
    "control_qnode = qml.QNode(computational_circuit, dev_gad)\n",
    "def control_cost_function(params, computational_qubits):\n",
    "    return control_qnode(params, computational_qubits)"
   ]
  },
  {
   "cell_type": "markdown",
   "metadata": {},
   "source": [
    "Choosing an optimizer"
   ]
  },
  {
   "cell_type": "code",
   "execution_count": 100,
   "metadata": {},
   "outputs": [],
   "source": [
    "opt = qml.GradientDescentOptimizer(stepsize=0.4)"
   ]
  },
  {
   "cell_type": "markdown",
   "metadata": {},
   "source": [
    "Initializing the parameters"
   ]
  },
  {
   "cell_type": "code",
   "execution_count": 101,
   "metadata": {},
   "outputs": [],
   "source": [
    "weights_init = np.random.uniform(0, np.pi, size=(num_layers, computational_qubits+ancillary_qubits), requires_grad=True)\n",
    "cost_computational = [control_cost_function(weights_init, computational_qubits=computational_qubits)]\n",
    "cost_gadget = [gadget_cost_function(weights_init, computational_qubits)]\n"
   ]
  },
  {
   "cell_type": "markdown",
   "metadata": {},
   "source": [
    "Optimization loop"
   ]
  },
  {
   "cell_type": "code",
   "execution_count": 102,
   "metadata": {},
   "outputs": [
    {
     "name": "stdout",
     "output_type": "stream",
     "text": [
      "Iteration =     0 | Gadget cost = 6.06719729 | Computational cost = -0.48517634\n",
      "Iteration =     2 | Gadget cost = 4.33710476 | Computational cost = 0.09426185\n",
      "Iteration =     4 | Gadget cost = 5.06078279 | Computational cost = -0.26589414\n",
      "Iteration =     6 | Gadget cost = 5.92215744 | Computational cost = 0.22109592\n",
      "Iteration =     8 | Gadget cost = 5.41562630 | Computational cost = 0.32836130\n",
      "Iteration =    10 | Gadget cost = 4.89969931 | Computational cost = -0.05022014\n",
      "Iteration =    12 | Gadget cost = 6.46884295 | Computational cost = 0.03084196\n",
      "Iteration =    14 | Gadget cost = 4.86431176 | Computational cost = -0.23726763\n",
      "Iteration =    16 | Gadget cost = 7.03039712 | Computational cost = 0.17187284\n",
      "Iteration =    18 | Gadget cost = 5.70097989 | Computational cost = -0.04772123\n",
      "Iteration =    20 | Gadget cost = 5.01602189 | Computational cost = 0.23825991\n",
      "Iteration =    22 | Gadget cost = 7.14943604 | Computational cost = 0.30596230\n",
      "Iteration =    24 | Gadget cost = 5.84606625 | Computational cost = 0.29828901\n",
      "Iteration =    26 | Gadget cost = 5.49361927 | Computational cost = 0.22423468\n",
      "Iteration =    28 | Gadget cost = 5.79676473 | Computational cost = 0.10296829\n",
      "Iteration =    30 | Gadget cost = 9.39428649 | Computational cost = -0.17319703\n",
      "Iteration =    32 | Gadget cost = 5.04488150 | Computational cost = 0.31035907\n",
      "Iteration =    34 | Gadget cost = 6.55011070 | Computational cost = 0.01965864\n",
      "Iteration =    36 | Gadget cost = 4.59978977 | Computational cost = -0.46277189\n",
      "Iteration =    38 | Gadget cost = 6.60803675 | Computational cost = -0.27263027\n",
      "Iteration =    40 | Gadget cost = 5.71558339 | Computational cost = 0.05280420\n",
      "Iteration =    42 | Gadget cost = 5.02122721 | Computational cost = 0.00144424\n",
      "Iteration =    44 | Gadget cost = 4.63088922 | Computational cost = -0.18006172\n",
      "Iteration =    46 | Gadget cost = 3.29655941 | Computational cost = -0.18134006\n",
      "Iteration =    48 | Gadget cost = 6.25974358 | Computational cost = 0.32890938\n",
      "Iteration =    50 | Gadget cost = 5.68953272 | Computational cost = -0.07945218\n",
      "Iteration =    52 | Gadget cost = 7.12690784 | Computational cost = 0.14240033\n",
      "Iteration =    54 | Gadget cost = 4.77645056 | Computational cost = 0.30923236\n",
      "Iteration =    56 | Gadget cost = 3.39885961 | Computational cost = -0.22506761\n",
      "Iteration =    58 | Gadget cost = 3.45036245 | Computational cost = -0.21735830\n",
      "Iteration =    60 | Gadget cost = 5.33160225 | Computational cost = -0.09410443\n",
      "Iteration =    62 | Gadget cost = 5.41537778 | Computational cost = -0.16348513\n",
      "Iteration =    64 | Gadget cost = 4.19521060 | Computational cost = -0.13707780\n",
      "Iteration =    66 | Gadget cost = 4.42038512 | Computational cost = -0.03023931\n",
      "Iteration =    68 | Gadget cost = 4.07856043 | Computational cost = 0.11850460\n",
      "Iteration =    70 | Gadget cost = 5.26629440 | Computational cost = -0.17567570\n",
      "Iteration =    72 | Gadget cost = 5.42048912 | Computational cost = -0.07351236\n",
      "Iteration =    74 | Gadget cost = 2.68296662 | Computational cost = 0.23511698\n",
      "Iteration =    76 | Gadget cost = 4.99065225 | Computational cost = -0.15936138\n",
      "Iteration =    78 | Gadget cost = 5.39795208 | Computational cost = -0.00458403\n",
      "Iteration =    80 | Gadget cost = 5.47334171 | Computational cost = 0.01240601\n",
      "Iteration =    82 | Gadget cost = 5.35724823 | Computational cost = -0.33707421\n",
      "Iteration =    84 | Gadget cost = 7.84733313 | Computational cost = -0.15545877\n",
      "Iteration =    86 | Gadget cost = 3.90045608 | Computational cost = -0.02539374\n",
      "Iteration =    88 | Gadget cost = 6.01028953 | Computational cost = 0.14629080\n",
      "Iteration =    90 | Gadget cost = 4.77840849 | Computational cost = 0.02371252\n",
      "Iteration =    92 | Gadget cost = 3.64954722 | Computational cost = -0.19793572\n",
      "Iteration =    94 | Gadget cost = 7.26342644 | Computational cost = -0.19109865\n",
      "Iteration =    96 | Gadget cost = 5.64589559 | Computational cost = -0.19841059\n",
      "Iteration =    98 | Gadget cost = 7.22606386 | Computational cost = -0.21562319\n"
     ]
    }
   ],
   "source": [
    "weights = weights_init\n",
    "for it in range(max_iter):\n",
    "    weights, prev_cost = opt.step_and_cost(gadget_cost_function, weights, computational_qubits=computational_qubits)\n",
    "    cost_computational.append(control_cost_function(weights, computational_qubits))\n",
    "    cost_gadget.append(gadget_cost_function(weights, computational_qubits))\n",
    "    # opt.update_stepsize(stepsize)\n",
    "    if it % 2 == 0:\n",
    "        print(f\"Iteration = {it:5d} | \" +\n",
    "               \"Gadget cost = {:.8f} | \".format(cost_gadget[-1]) +\n",
    "               \"Computational cost = {:.8f}\".format(cost_computational[-1]))\n"
   ]
  },
  {
   "cell_type": "markdown",
   "metadata": {},
   "source": [
    "Saving and plotting the results"
   ]
  },
  {
   "cell_type": "code",
   "execution_count": 103,
   "metadata": {},
   "outputs": [
    {
     "data": {
      "image/png": "[encoded data removed]",
      "text/plain": [
       "<Figure size 432x288 with 1 Axes>"
      ]
     },
     "metadata": {
      "needs_background": "light"
     },
     "output_type": "display_data"
    }
   ],
   "source": [
    "plt.plot(np.arange(max_iter+1), cost_gadget)\n",
    "plt.plot(np.arange(max_iter+1), cost_computational)\n",
    "plt.show()"
   ]
  }
 ],
 "metadata": {
  "interpreter": {
   "hash": "f1fa634a2a267bda237d7cc1f3dc30f3bd9dd1af64320e4909853caab9bfcd42"
  },
  "kernelspec": {
   "display_name": "Python 3.8.5 ('thesis-venv')",
   "language": "python",
   "name": "python3"
  },
  "language_info": {
   "codemirror_mode": {
    "name": "ipython",
    "version": 3
   },
   "file_extension": ".py",
   "mimetype": "text/x-python",
   "name": "python",
   "nbconvert_exporter": "python",
   "pygments_lexer": "ipython3",
   "version": "3.8.5"
  },
  "orig_nbformat": 4
 },
 "nbformat": 4,
 "nbformat_minor": 2
}
