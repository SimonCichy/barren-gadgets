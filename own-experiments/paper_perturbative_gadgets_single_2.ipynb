{
  "cells": [
    {
      "cell_type": "code",
      "execution_count": 38,
      "metadata": {
        "collapsed": false
      },
      "outputs": [],
      "source": [
        "# This cell is added by sphinx-gallery\n",
        "# It can be customized to whatever you like\n",
        "%matplotlib inline"
      ]
    },
    {
      "cell_type": "code",
      "execution_count": 39,
      "metadata": {
        "collapsed": false
      },
      "outputs": [],
      "source": [
        "import pennylane as qml\n",
        "from pennylane import numpy as np\n",
        "\n",
        "np.random.seed(42)"
      ]
    },
    {
      "cell_type": "code",
      "execution_count": 40,
      "metadata": {
        "collapsed": false
      },
      "outputs": [],
      "source": [
        "num_qubits = 4\n",
        "num_layers = 2\n",
        "num_samples = 200\n",
        "dev = qml.device(\"default.qubit\", wires=num_qubits, shots=1000)\n",
        "dev_gadget = qml.device(\"default.qubit\", wires=2*num_qubits, shots=1000)"
      ]
    },
    {
      "cell_type": "code",
      "execution_count": 41,
      "metadata": {},
      "outputs": [],
      "source": [
        "def hardware_efficient_ansatz(params):\n",
        "    \"\"\"A random variational quantum circuit based on the hardware efficient ansatz. \n",
        "    There are no measurements and it is to be used within the global or local circuits\n",
        "\n",
        "    Args:\n",
        "        params (array[array[float]]): array of parameters of dimension (num_layers, num_qubits) containing the rotation angles\n",
        "\n",
        "    Returns:\n",
        "        not sure... see pennylane documentation\n",
        "    \"\"\"\n",
        "\n",
        "    # Relevant parameters\n",
        "    assert(len(np.shape(params)) == 2)      # check proper dimensions of params\n",
        "    num_layers = np.shape(params)[0]        # np.shape(params) = (num_layers, num_qubits)\n",
        "    num_qubits = np.shape(params)[1]\n",
        "    \n",
        "    # Generating the gate sequence from randomly applying RX, RY or RZ with the corresponding rotation angle\n",
        "    gate_set = [qml.RX, qml.RY, qml.RZ]\n",
        "    random_gate_sequence = [[np.random.choice(gate_set) for _ in range(num_qubits)] for _ in range(num_layers)]\n",
        "\n",
        "    # Initial rotations on all qubits\n",
        "    for i in range(num_qubits):             # rotate all qubits\n",
        "        qml.RY(np.pi / 4, wires=i)          # \"to prevent X, Y , or Z from being an especially preferential \n",
        "                                            # direction with respect to gradients.\"\n",
        "\n",
        "    # Repeating a layer structure\n",
        "    for l in range(num_layers):\n",
        "        # Single random gate layer (single qubit rotations)\n",
        "        for i in range(num_qubits):\n",
        "            random_gate_sequence[l][i](params[l][i], wires=i)\n",
        "        # Nearest neighbour controlled phase gates\n",
        "        if num_qubits > 1:                          # no entangling gates if using a single qubit\n",
        "            qml.broadcast(qml.CZ, wires=range(num_qubits), pattern=\"ring\")"
      ]
    },
    {
      "cell_type": "code",
      "execution_count": 42,
      "metadata": {
        "collapsed": false
      },
      "outputs": [],
      "source": [
        "@qml.qnode(dev)\n",
        "def global_circuit(params):\n",
        "    assert(len(np.shape(params)) == 2)      # check proper dimensions of params\n",
        "    num_qubits = np.shape(params)[1]        # np.shape(params) = (num_layers, num_qubits)\n",
        "\n",
        "    hardware_efficient_ansatz(params)\n",
        "    # Objective operator H = Z_1 Z_2 ... Z_n\n",
        "    H = qml.PauliZ(0)\n",
        "    for qubit in range(num_qubits-1):\n",
        "        H = H @ qml.PauliZ(qubit + 1)\n",
        "    return qml.expval(H)\n",
        "\n",
        "@qml.qnode(dev)\n",
        "def local_circuit(params):\n",
        "    hardware_efficient_ansatz(params)\n",
        "    # Objective operator H = Z_1 Z_2\n",
        "    return qml.expval(qml.PauliZ(0) @ qml.PauliZ(1))\n",
        " \n",
        "@qml.qnode(dev_gadget)\n",
        "def gadget_circuit(params, term, target_qubits):\n",
        "    assert(len(np.shape(params)) == 2)\n",
        "    computational_qubits = np.shape(params)[1]\n",
        "\n",
        "    hardware_efficient_ansatz(params)\n",
        "\n",
        "    # creating the \"unperturbed Hamiltonian\": Hanc\n",
        "    if term == 'ancillary':\n",
        "        # terms of the form I-ZZ\n",
        "        term = qml.Identity(target_qubits[0]) @ qml.Identity(target_qubits[1]) - qml.PauliZ(target_qubits[0]) @ qml.PauliZ(target_qubits[1])\n",
        "    elif term == 'coupling':\n",
        "        # terms of the form ZxX\n",
        "        term = qml.PauliZ(target_qubits[0]) @ qml.PauliZ(computational_qubits+target_qubits[0])\n",
        "    return qml.expval(term)"
      ]
    },
    {
      "cell_type": "code",
      "execution_count": 43,
      "metadata": {},
      "outputs": [],
      "source": [
        "def cost_global(params):\n",
        "    return global_circuit(params)\n",
        "\n",
        "def cost_local(params):\n",
        "    return local_circuit(params)\n",
        "\n",
        "def cost_gadgets(params, lam=1):\n",
        "    # Objective operator H = Hanc + V\n",
        "    computational_qubits = num_qubits\n",
        "    ancillary_qubits = computational_qubits\n",
        "    total_qubits = ancillary_qubits + computational_qubits\n",
        "    expval_terms = []\n",
        "    # creating the \"unperturbed Hamiltonian\"\n",
        "    for first_qubit in range(computational_qubits, total_qubits):\n",
        "        for second_qubit in range(first_qubit+1, computational_qubits+ancillary_qubits):\n",
        "            expval_terms.append(gadget_circuit(params, 'ancillary', [first_qubit, second_qubit]))\n",
        "    # creating the perturbation part of the Hamiltonian\n",
        "    for qubit in range(computational_qubits):\n",
        "        expval_terms.append(gadget_circuit(params, 'coupling', [qubit]))\n",
        "    \n",
        "    return np.sum(expval_terms[:-num_qubits]) + lam*np.sum(expval_terms[-num_qubits:])"
      ]
    },
    {
      "cell_type": "code",
      "execution_count": 45,
      "metadata": {},
      "outputs": [
        {
          "name": "stdout",
          "output_type": "stream",
          "text": [
            "0.5\n",
            "0.052\n",
            "-1.206\n",
            "-0.16799999999999998\n",
            "-0.021000000000000005\n",
            "-0.1609999999999999\n"
          ]
        }
      ],
      "source": [
        "params = np.random.uniform(0, np.pi, size=(num_layers, num_qubits))\n",
        "print(cost_local(params))\n",
        "print(cost_global(params))\n",
        "print(cost_gadgets(params))\n",
        "print(qml.grad(cost_local)(params)[0][0])\n",
        "print(qml.grad(cost_global)(params)[0][0])\n",
        "print(qml.grad(cost_gadgets)(params)[0][0])"
      ]
    },
    {
      "cell_type": "code",
      "execution_count": null,
      "metadata": {},
      "outputs": [],
      "source": []
    }
  ],
  "metadata": {
    "kernelspec": {
      "display_name": "Python 3",
      "language": "python",
      "name": "python3"
    },
    "language_info": {
      "codemirror_mode": {
        "name": "ipython",
        "version": 3
      },
      "file_extension": ".py",
      "mimetype": "text/x-python",
      "name": "python",
      "nbconvert_exporter": "python",
      "pygments_lexer": "ipython3",
      "version": "3.8.5"
    }
  },
  "nbformat": 4,
  "nbformat_minor": 0
}
