{
  "cells": [
    {
      "cell_type": "code",
      "execution_count": 1,
      "metadata": {
        "collapsed": false
      },
      "outputs": [],
      "source": [
        "# This cell is added by sphinx-gallery\n",
        "# It can be customized to whatever you like\n",
        "%matplotlib inline"
      ]
    },
    {
      "cell_type": "markdown",
      "metadata": {},
      "source": [
        "Barren plateaus in quantum neural networks {#barren_plateaus}\n",
        "==========================================\n",
        "\n",
        "::: {.meta}\n",
        ":property=\\\"og:description\\\": Showing how randomized quantum circuits\n",
        "face the problem of barren plateaus using PennyLane. We will partly\n",
        "reproduce some of the findings in McClean et. al., 2018 with just a few\n",
        "lines of code. :property=\\\"og:image\\\":\n",
        "<https://pennylane.ai/qml/_images/surface.png>\n",
        ":::\n",
        "\n",
        "::: {.related}\n",
        "tutorial\\_local\\_cost\\_functions Alleviating barren plateaus with local\n",
        "cost functions\n",
        ":::\n",
        "\n",
        "*Author: Shahnawaz Ahmed (shahnawaz.ahmed95\\@gmail.com). Last updated:\n",
        "26 Oct 2020.*\n",
        "\n",
        "In classical optimization, it is suggested that saddle points, not local\n",
        "minima, provide a fundamental impediment to rapid high-dimensional\n",
        "non-convex optimization (Dauphin et al., 2014).\n",
        "\n",
        "The problem of such barren plateaus manifests in a different form in\n",
        "variational quantum circuits, which are at the heart of techniques such\n",
        "as quantum neural networks or approximate optimization e.g., QAOA\n",
        "(Quantum Adiabatic Optimization Algorithm) which can be found in this\n",
        "[PennyLane QAOA\n",
        "tutorial](https://pennylane.readthedocs.io/en/latest/tutorials/pennylane_run_qaoa_maxcut.html#qaoa-maxcut).\n",
        "\n",
        "While starting from a parameterized random quantum circuit seems like a\n",
        "good unbiased choice if we do not know the problem structure, McClean et\n",
        "al. (2018) show that\n",
        "\n",
        "*\\\"for a wide class of reasonable parameterized quantum circuits, the\n",
        "probability that the gradient along any reasonable direction is non-zero\n",
        "to some fixed precision is exponentially small as a function of the\n",
        "number of qubits.\\\"*\n",
        "\n",
        "Thus, randomly selected quantum circuits might not be the best option to\n",
        "choose while implementing variational quantum algorithms.\n",
        "\n",
        "![](../demonstrations/barren_plateaus/surface.png){.align-center\n",
        "width=\"90.0%\"}\n",
        "\n",
        "| \n",
        "\n",
        "In this tutorial, we will show how randomized quantum circuits face the\n",
        "problem of barren plateaus using PennyLane. We will partly reproduce\n",
        "some of the findings in McClean et. al., 2018 with just a few lines of\n",
        "code.\n",
        "\n",
        "::: {.note}\n",
        "::: {.title}\n",
        "Note\n",
        ":::\n",
        "\n",
        "**An initialization strategy to tackle barren plateaus**\n",
        "\n",
        "How do we avoid the problem of barren plateaus? In Grant et al. (2019),\n",
        "the authors present one strategy to tackle the barren plateau problem in\n",
        "randomized quantum circuits:\n",
        "\n",
        "*\\\"The technique involves randomly selecting some of the initial\n",
        "parameter values, then choosing the remaining values so that the final\n",
        "circuit is a sequence of shallow unitary blocks that each evaluates to\n",
        "the identity. Initializing in this way limits the effective depth of the\n",
        "circuits used to calculate the first parameter update so that they\n",
        "cannot be stuck in a barren plateau at the start of training.\\\"*\n",
        ":::\n",
        "\n",
        "Exploring the barren plateau problem with PennyLane\n",
        "---------------------------------------------------\n",
        "\n",
        "First, we import PennyLane, NumPy, and Matplotlib\n"
      ]
    },
    {
      "cell_type": "code",
      "execution_count": 2,
      "metadata": {
        "collapsed": false
      },
      "outputs": [],
      "source": [
        "import pennylane as qml\n",
        "from pennylane import numpy as np\n",
        "import matplotlib.pyplot as plt"
      ]
    },
    {
      "cell_type": "markdown",
      "metadata": {},
      "source": [
        "Next, we create a randomized variational circuit\n"
      ]
    },
    {
      "cell_type": "code",
      "execution_count": 3,
      "metadata": {
        "collapsed": false
      },
      "outputs": [],
      "source": [
        "# Set a seed for reproducibility\n",
        "np.random.seed(42)\n",
        "\n",
        "num_qubits = 4          # width of the circuit\n",
        "dev = qml.device(\"default.qubit\", wires=num_qubits)     # which \"device\" or simulator\n",
        "gate_set = [qml.RX, qml.RY, qml.RZ]         # defined for later random choice between them\n",
        "\n",
        "\n",
        "def rand_circuit(params, random_gate_sequence=None, num_qubits=None):\n",
        "    \"\"\"A random variational quantum circuit.\n",
        "\n",
        "    Args:\n",
        "        params (array[float]): array of parameters\n",
        "        random_gate_sequence (dict): a dictionary of random gates\n",
        "        num_qubits (int): the number of qubits in the circuit\n",
        "\n",
        "    Returns:\n",
        "        float: the expectation value of the target observable\n",
        "    \"\"\"\n",
        "    # Initial rotations on all qubits\n",
        "    for i in range(num_qubits):             # rotate all qubits\n",
        "        qml.RY(np.pi / 4, wires=i)          # \"to prevent X, Y , or Z from being an especially preferential \n",
        "                                            # direction with respect to gradients.\"\n",
        "\n",
        "    # Single random gate layer (single qubit rotations)\n",
        "    for i in range(num_qubits):\n",
        "        random_gate_sequence[i](params[i], wires=i)\n",
        "\n",
        "    # Nearest neighbour controlled phase gates\n",
        "    for i in range(num_qubits - 1):\n",
        "        qml.CZ(wires=[i, i + 1])\n",
        "\n",
        "    # Objective operator H = Z_1 Z_2\n",
        "    H = np.zeros((2 ** num_qubits, 2 ** num_qubits))\n",
        "    H[0, 0] = 1                                         # why? Does it correspond to the paper?\n",
        "    wirelist = [i for i in range(num_qubits)]\n",
        "    return qml.expval(qml.Hermitian(H, wirelist))       # How does that work?"
      ]
    },
    {
      "cell_type": "markdown",
      "metadata": {},
      "source": [
        "Now we can compute the gradient and calculate the variance. While we\n",
        "only sample 200 random circuits to allow the code to run in a reasonable\n",
        "amount of time, this can be increased for more accurate results. We only\n",
        "consider the gradient of the output with respect to the last parameter\n",
        "in the circuit. Hence we choose to save `gradient[-1]` only.\n"
      ]
    },
    {
      "cell_type": "code",
      "execution_count": 4,
      "metadata": {
        "collapsed": false
      },
      "outputs": [
        {
          "name": "stdout",
          "output_type": "stream",
          "text": [
            "Variance of the gradients for 200 random circuits: 0.0056815136930815045\n",
            "Mean of the gradients for 200 random circuits: -0.001000226897652134\n"
          ]
        }
      ],
      "source": [
        "grad_vals = []\n",
        "num_samples = 200\n",
        "\n",
        "for i in range(num_samples):\n",
        "    gate_sequence = {i: np.random.choice(gate_set) for i in range(num_qubits)}          # what is this notation i: ...?\n",
        "    qcircuit = qml.QNode(rand_circuit, dev)                                             # check what a QNode is (?)\n",
        "    grad = qml.grad(qcircuit, argnum=0)\n",
        "    params = np.random.uniform(0, 2 * np.pi, size=num_qubits)\n",
        "    gradient = grad(params, random_gate_sequence=gate_sequence, num_qubits=num_qubits)\n",
        "    grad_vals.append(gradient[-1])\n",
        "\n",
        "print(\"Variance of the gradients for {} random circuits: {}\".format(\n",
        "    num_samples, np.var(grad_vals)\n",
        "    )\n",
        ")\n",
        "print(\"Mean of the gradients for {} random circuits: {}\".format(\n",
        "    num_samples, np.mean(grad_vals)\n",
        "    )\n",
        ")"
      ]
    },
    {
      "cell_type": "markdown",
      "metadata": {},
      "source": [
        "Evaluate the gradient for more qubits\n",
        "=====================================\n",
        "\n",
        "We can repeat the above analysis with increasing number of qubits.\n"
      ]
    },
    {
      "cell_type": "code",
      "execution_count": 5,
      "metadata": {
        "collapsed": false
      },
      "outputs": [
        {
          "data": {
            "image/png": "[encoded data removed]",
            "text/plain": [
              "<Figure size 432x288 with 1 Axes>"
            ]
          },
          "metadata": {
            "needs_background": "light"
          },
          "output_type": "display_data"
        }
      ],
      "source": [
        "qubits = [2, 3, 4, 5, 6]\n",
        "variances = []\n",
        "\n",
        "\n",
        "for num_qubits in qubits:\n",
        "    grad_vals = []\n",
        "    for i in range(num_samples):\n",
        "        dev = qml.device(\"default.qubit\", wires=num_qubits)\n",
        "        qcircuit = qml.QNode(rand_circuit, dev)\n",
        "        grad = qml.grad(qcircuit, argnum=0)\n",
        "\n",
        "        gate_set = [qml.RX, qml.RY, qml.RZ]\n",
        "        random_gate_sequence = {i: np.random.choice(gate_set) for i in range(num_qubits)}\n",
        "\n",
        "        params = np.random.uniform(0, np.pi, size=num_qubits)\n",
        "        gradient = grad(\n",
        "            params, random_gate_sequence=random_gate_sequence, num_qubits=num_qubits\n",
        "        )\n",
        "        grad_vals.append(gradient[-1])\n",
        "    variances.append(np.var(grad_vals))\n",
        "\n",
        "variances = np.array(variances)\n",
        "qubits = np.array(qubits)\n",
        "\n",
        "\n",
        "# Fit the semilog plot to a straight line\n",
        "p = np.polyfit(qubits, np.log(variances), 1)\n",
        "\n",
        "\n",
        "# Plot the straight line fit to the semilog\n",
        "plt.semilogy(qubits, variances, \"o\")\n",
        "plt.semilogy(qubits, np.exp(p[0] * qubits + p[1]), \"o-.\", label=\"Slope {:3.2f}\".format(p[0]))\n",
        "plt.xlabel(r\"N Qubits\")\n",
        "plt.ylabel(r\"$\\langle \\partial \\theta_{1, 1} E\\rangle$ variance\")\n",
        "plt.legend()\n",
        "plt.show()"
      ]
    },
    {
      "cell_type": "markdown",
      "metadata": {},
      "source": [
        "References\n",
        "==========\n",
        "\n",
        "1.  Dauphin, Yann N., et al., Identifying and attacking the saddle point\n",
        "    problem in high-dimensional non-convex optimization. Advances in\n",
        "    Neural Information Processing systems (2014).\n",
        "2.  McClean, Jarrod R., et al., Barren plateaus in quantum neural\n",
        "    network training landscapes. Nature communications 9.1 (2018): 4812.\n",
        "3.  Grant, Edward, et al. An initialization strategy for addressing\n",
        "    barren plateaus in parametrized quantum circuits. arXiv preprint\n",
        "    arXiv:1903.05076 (2019).\n"
      ]
    }
  ],
  "metadata": {
    "kernelspec": {
      "display_name": "Python 3",
      "language": "python",
      "name": "python3"
    },
    "language_info": {
      "codemirror_mode": {
        "name": "ipython",
        "version": 3
      },
      "file_extension": ".py",
      "mimetype": "text/x-python",
      "name": "python",
      "nbconvert_exporter": "python",
      "pygments_lexer": "ipython3",
      "version": "3.8.5"
    }
  },
  "nbformat": 4,
  "nbformat_minor": 0
}
